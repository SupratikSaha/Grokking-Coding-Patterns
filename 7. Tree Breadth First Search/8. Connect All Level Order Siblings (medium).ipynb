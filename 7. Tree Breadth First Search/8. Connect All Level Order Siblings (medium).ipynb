{
 "cells": [
  {
   "cell_type": "markdown",
   "metadata": {},
   "source": [
    "Problem Statement <br/>\n",
    "\n",
    "Given a binary tree, connect each node with its level order successor. The last node of each level should point to the first node of the next level. <br/>\n",
    "\n",
    "Example 1: <br/>\n",
    "[[1],[2,3],[4,5,6,7]] <br/>\n",
    "\t\t\n",
    "Solution: [[1 -> 2 -> 3 -> 4 -> 5 -> 6 -> 7]] <br/>\n",
    "\n",
    "Example 2: <br/>\n",
    "[[12],[7,1],[9,10,5]] <br/>\n",
    "\n",
    "Solution: [[12 -> 7 -> 1 -> 9 -> 10 -> 5]] <br/>"
   ]
  },
  {
   "cell_type": "markdown",
   "metadata": {},
   "source": [
    "# Breadth First Search - O(N) runtime, O(N) space, where N is the number of nodes"
   ]
  },
  {
   "cell_type": "code",
   "execution_count": 1,
   "metadata": {},
   "outputs": [],
   "source": [
    "from collections import deque\n",
    "\n",
    "class TreeNode:\n",
    "    def __init__(self, val):\n",
    "        self.val = val\n",
    "        self.left, self.right, self.next = None, None, None\n",
    "\n",
    "def connect_all_siblings(root):\n",
    "    if not root:\n",
    "        return None\n",
    "    \n",
    "    queue = deque()\n",
    "    queue.append(root)\n",
    "\n",
    "    while queue:\n",
    "        curr_node = queue.popleft()\n",
    "        if curr_node.left:\n",
    "            queue.append(curr_node.left)\n",
    "        if curr_node.right:\n",
    "            queue.append(curr_node.right)\n",
    "        if queue:\n",
    "            curr_node.next= queue[0]\n",
    "        \n",
    "    return"
   ]
  }
 ],
 "metadata": {
  "kernelspec": {
   "display_name": "Python 3",
   "language": "python",
   "name": "python3"
  },
  "language_info": {
   "codemirror_mode": {
    "name": "ipython",
    "version": 3
   },
   "file_extension": ".py",
   "mimetype": "text/x-python",
   "name": "python",
   "nbconvert_exporter": "python",
   "pygments_lexer": "ipython3",
   "version": "3.7.3"
  }
 },
 "nbformat": 4,
 "nbformat_minor": 2
}
