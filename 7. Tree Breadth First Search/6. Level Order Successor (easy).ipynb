{
 "cells": [
  {
   "cell_type": "markdown",
   "metadata": {},
   "source": [
    "Problem Statement <br/>\n",
    "\n",
    "Given a binary tree and a node, find the level order successor of the given node in the tree. The level order successor is the node that appears right after the given node in the level order traversal. <br/>\n",
    "\n",
    "Example 1: <br/>\n",
    "[[1],[2,3],[4,5]] <br/>\n",
    "\t\t\n",
    "Given Node: 3 <br/>\n",
    "Level Order Successor: 4 <br/>\n",
    "\n",
    "Example 2: <br/>\n",
    "[[12],[7,1],[9,10,5,8]] <br/>\n",
    "\n",
    "Given Node: 9 <br/>\n",
    "Level Order Successor: 10 <br/>\t"
   ]
  },
  {
   "cell_type": "markdown",
   "metadata": {},
   "source": [
    "# Breadth First Search - O(N) runtime, O(N) space, where N is the number of nodes"
   ]
  },
  {
   "cell_type": "code",
   "execution_count": 2,
   "metadata": {},
   "outputs": [],
   "source": [
    "from collections import deque\n",
    "\n",
    "def find_successor(root, key):\n",
    "    if root is None:\n",
    "        return None\n",
    "\n",
    "    queue = deque()\n",
    "    queue.append(root)\n",
    "    while queue:\n",
    "        currentNode = queue.popleft()\n",
    "        # insert the children of current node in the queue\n",
    "        if currentNode.left:\n",
    "            queue.append(currentNode.left)\n",
    "        if currentNode.right:\n",
    "            queue.append(currentNode.right)\n",
    "\n",
    "        # break if we have found the key\n",
    "        if currentNode.val == key:\n",
    "            break\n",
    "\n",
    "    return queue[0] if queue else None"
   ]
  }
 ],
 "metadata": {
  "kernelspec": {
   "display_name": "Python 3",
   "language": "python",
   "name": "python3"
  },
  "language_info": {
   "codemirror_mode": {
    "name": "ipython",
    "version": 3
   },
   "file_extension": ".py",
   "mimetype": "text/x-python",
   "name": "python",
   "nbconvert_exporter": "python",
   "pygments_lexer": "ipython3",
   "version": "3.7.3"
  }
 },
 "nbformat": 4,
 "nbformat_minor": 2
}
