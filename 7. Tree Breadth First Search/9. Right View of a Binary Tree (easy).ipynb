{
 "cells": [
  {
   "cell_type": "markdown",
   "metadata": {},
   "source": [
    "Problem Statement <br/>\n",
    "\n",
    "Given a binary tree, return an array containing nodes in its right view. The right view of a binary tree is the set of nodes visible when the tree is seen from the right side. <br/>\n",
    "\n",
    "Example 1: <br/>\n",
    "[[1],[2,3],[4,5,6,7]] <br/>\n",
    "\t\t\n",
    "Solution: [[1,3,7]] <br/>\n",
    "\n",
    "Example 2: <br/>\n",
    "[[12],[7,1],[9,10,5],[3]] <br/>\n",
    "\n",
    "Solution: [[12,1,5,3]] <br/>"
   ]
  },
  {
   "cell_type": "markdown",
   "metadata": {},
   "source": [
    "# Breadth First Search - O(N) runtime, O(N) space, where N is the number of nodes"
   ]
  },
  {
   "cell_type": "code",
   "execution_count": 1,
   "metadata": {},
   "outputs": [],
   "source": [
    "from collections import deque\n",
    "\n",
    "def tree_right_view(root):\n",
    "    result = []\n",
    "    \n",
    "    if not root:\n",
    "        return result\n",
    "\n",
    "    queue = deque()\n",
    "    queue.append(root)\n",
    "\n",
    "    while queue:\n",
    "        levelSize = len(queue)\n",
    "\n",
    "        for _ in range(levelSize):\n",
    "            curr_node = queue.popleft()\n",
    "            if curr_node.left:\n",
    "                queue.append(curr_node.left)\n",
    "            if curr_node.right:\n",
    "                queue.append(curr_node.right)\n",
    "        \n",
    "        result.append(curr_node)\n",
    "\n",
    "    return result"
   ]
  }
 ],
 "metadata": {
  "kernelspec": {
   "display_name": "Python 3",
   "language": "python",
   "name": "python3"
  },
  "language_info": {
   "codemirror_mode": {
    "name": "ipython",
    "version": 3
   },
   "file_extension": ".py",
   "mimetype": "text/x-python",
   "name": "python",
   "nbconvert_exporter": "python",
   "pygments_lexer": "ipython3",
   "version": "3.7.3"
  }
 },
 "nbformat": 4,
 "nbformat_minor": 2
}
