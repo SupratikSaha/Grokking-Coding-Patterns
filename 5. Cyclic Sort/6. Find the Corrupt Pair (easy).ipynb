{
 "cells": [
  {
   "cell_type": "markdown",
   "metadata": {},
   "source": [
    "Problem Statement <br/>\n",
    "\n",
    "We are given an unsorted array containing ‘n’ numbers taken from the range 1 to ‘n’. The array originally contained all the numbers from 1 to ‘n’, but due to a data error, one of the numbers got duplicated which also resulted in one number going missing. Find both these numbers. <br/>\n",
    "\n",
    "Example 1: <br/>\n",
    "Input: [3, 1, 2, 5, 2] <br/>\n",
    "Output: [2, 4] <br/>\n",
    "Explanation: '2' is duplicated and '4' is missing. <br/>\n",
    "\n",
    "Example 2: <br/>\n",
    "Input: [3, 1, 2, 3, 6, 4] <br/>\n",
    "Output: [3, 5] <br/>\n",
    "Explanation: '3' is duplicated and '5' is missing."
   ]
  },
  {
   "cell_type": "code",
   "execution_count": 3,
   "metadata": {},
   "outputs": [],
   "source": [
    "def find_corrupt_numbers(nums):\n",
    "    length = len(nums)\n",
    "    i = 0\n",
    "\n",
    "    while i < length:\n",
    "        val = nums[i]\n",
    "        if val != (i + 1) and nums[val - 1] != val:\n",
    "            nums[i], nums[val - 1] = nums[val - 1], nums[i]\n",
    "        else:\n",
    "            i += 1\n",
    "\n",
    "    i = 0\n",
    "    while i < length:\n",
    "        val = nums[i]\n",
    "        if val != i + 1:\n",
    "            return [val, i + 1]\n",
    "        \n",
    "        i += 1\n",
    "\n",
    "    return [-1, -1]"
   ]
  },
  {
   "cell_type": "code",
   "execution_count": 4,
   "metadata": {},
   "outputs": [
    {
     "data": {
      "text/plain": [
       "[3, 5]"
      ]
     },
     "execution_count": 4,
     "metadata": {},
     "output_type": "execute_result"
    }
   ],
   "source": [
    "find_corrupt_numbers([3, 1, 2, 3, 6, 4])"
   ]
  }
 ],
 "metadata": {
  "kernelspec": {
   "display_name": "Python 3",
   "language": "python",
   "name": "python3"
  },
  "language_info": {
   "codemirror_mode": {
    "name": "ipython",
    "version": 3
   },
   "file_extension": ".py",
   "mimetype": "text/x-python",
   "name": "python",
   "nbconvert_exporter": "python",
   "pygments_lexer": "ipython3",
   "version": "3.7.3"
  }
 },
 "nbformat": 4,
 "nbformat_minor": 2
}
