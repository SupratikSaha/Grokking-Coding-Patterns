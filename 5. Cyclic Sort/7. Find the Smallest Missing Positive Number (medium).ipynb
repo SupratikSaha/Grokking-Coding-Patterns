{
 "cells": [
  {
   "cell_type": "markdown",
   "metadata": {},
   "source": [
    "Problem Statement <br/>\n",
    "\n",
    "Given an unsorted array containing numbers, find the smallest missing positive number in it. <br/>\n",
    "\n",
    "Example 1: <br/>\n",
    "Input: [-3, 1, 5, 4, 2] <br/>\n",
    "Output: 3 <br/>\n",
    "Explanation: The smallest missing positive number is '3' <br/>\n",
    "\n",
    "Example 2: <br/>\n",
    "Input: [3, -2, 0, 1, 2] <br/>\n",
    "Output: 4 <br/>\n",
    "\n",
    "Example 3: <br/>\n",
    "Input: [3, 2, 5, 1] <br/>\n",
    "Output: 4"
   ]
  },
  {
   "cell_type": "code",
   "execution_count": 1,
   "metadata": {},
   "outputs": [],
   "source": [
    "def find_first_missing_positive(nums):\n",
    "    length = len(nums)\n",
    "    i = 0\n",
    " \n",
    "    while i < length:\n",
    "        val = nums[i]\n",
    "        if val > 0 and val <= length and val != (i + 1) and nums[val - 1] != val:\n",
    "            nums[i], nums[val - 1] = nums[val - 1], nums[i]\n",
    "        else:\n",
    "            i += 1\n",
    " \n",
    "    i = 0\n",
    "    while i < length:\n",
    "        val = nums[i]\n",
    "        if val != i + 1:\n",
    "            return i + 1\n",
    "        \n",
    "        i += 1\n",
    "        \n",
    "    return -1"
   ]
  },
  {
   "cell_type": "code",
   "execution_count": 3,
   "metadata": {},
   "outputs": [
    {
     "data": {
      "text/plain": [
       "4"
      ]
     },
     "execution_count": 3,
     "metadata": {},
     "output_type": "execute_result"
    }
   ],
   "source": [
    "find_first_missing_positive([3, -2, 0, 1, 2])"
   ]
  }
 ],
 "metadata": {
  "kernelspec": {
   "display_name": "Python 3",
   "language": "python",
   "name": "python3"
  },
  "language_info": {
   "codemirror_mode": {
    "name": "ipython",
    "version": 3
   },
   "file_extension": ".py",
   "mimetype": "text/x-python",
   "name": "python",
   "nbconvert_exporter": "python",
   "pygments_lexer": "ipython3",
   "version": "3.7.3"
  }
 },
 "nbformat": 4,
 "nbformat_minor": 2
}
