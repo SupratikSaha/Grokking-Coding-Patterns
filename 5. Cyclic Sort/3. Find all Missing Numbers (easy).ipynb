{
 "cells": [
  {
   "cell_type": "markdown",
   "metadata": {},
   "source": [
    "Problem Statement <br/>\n",
    "\n",
    "We are given an unsorted array containing numbers taken from the range 1 to ‘n’. The array can have duplicates, which means some numbers will be missing. Find all those missing numbers. <br/>\n",
    "\n",
    "Example 1: <br/>\n",
    "Input: [2, 3, 1, 8, 2, 3, 5, 1] <br/>\n",
    "Output: 4, 6, 7 <br/>\n",
    "Explanation: The array should have all numbers from 1 to 8, due to duplicates 4, 6, and 7 are missing. <br/>\n",
    "\n",
    "Example 2: <br/>\n",
    "Input: [2, 4, 1, 2] <br/>\n",
    "Output: 3 <br/>\n",
    "\n",
    "Example 3: <br/>\n",
    "Input: [2, 3, 2, 1] <br/>\n",
    "Output: 4"
   ]
  },
  {
   "cell_type": "markdown",
   "metadata": {},
   "source": [
    "# Cyclic Sort - O(N) runtime, O(1) space"
   ]
  },
  {
   "cell_type": "code",
   "execution_count": 1,
   "metadata": {},
   "outputs": [],
   "source": [
    "def find_missing_numbers(nums):\n",
    "    \n",
    "    missingNumbers = []\n",
    "    length = len(nums)\n",
    "    i = ctr = 0\n",
    " \n",
    "    while i < length:\n",
    "        val = nums[i]\n",
    "        if val != i + 1 and nums[val - 1] != val:\n",
    "            nums[i], nums[val - 1] = nums[val - 1], nums[i]\n",
    "        else:\n",
    "            i += 1\n",
    "\n",
    "    i = 0\n",
    "    while i < length:\n",
    "        if nums[i] != i + 1:\n",
    "            missingNumbers.append(i + 1)\n",
    "        i += 1\n",
    " \n",
    "    return missingNumbers"
   ]
  },
  {
   "cell_type": "code",
   "execution_count": 2,
   "metadata": {},
   "outputs": [
    {
     "data": {
      "text/plain": [
       "[4, 6, 7]"
      ]
     },
     "execution_count": 2,
     "metadata": {},
     "output_type": "execute_result"
    }
   ],
   "source": [
    "find_missing_numbers([2, 3, 1, 8, 2, 3, 5, 1] )"
   ]
  }
 ],
 "metadata": {
  "kernelspec": {
   "display_name": "Python 3",
   "language": "python",
   "name": "python3"
  },
  "language_info": {
   "codemirror_mode": {
    "name": "ipython",
    "version": 3
   },
   "file_extension": ".py",
   "mimetype": "text/x-python",
   "name": "python",
   "nbconvert_exporter": "python",
   "pygments_lexer": "ipython3",
   "version": "3.7.3"
  }
 },
 "nbformat": 4,
 "nbformat_minor": 2
}
