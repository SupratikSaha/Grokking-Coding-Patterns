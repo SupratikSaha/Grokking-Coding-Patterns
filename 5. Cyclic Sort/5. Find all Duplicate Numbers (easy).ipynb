{
 "cells": [
  {
   "cell_type": "markdown",
   "metadata": {},
   "source": [
    "Problem Statement <br/>\n",
    "\n",
    "We are given an unsorted array containing ‘n’ numbers taken from the range 1 to ‘n’. The array has some duplicates, find all the duplicate numbers without using any extra space. <br/>\n",
    "\n",
    "Example 1: <br/>\n",
    "Input: [3, 4, 4, 5, 5] <br/>\n",
    "Output: [4, 5] <br/>\n",
    "\n",
    "Example 2: <br/>\n",
    "Input: [5, 4, 7, 2, 3, 5, 3] <br/>\n",
    "Output: [3, 5]"
   ]
  },
  {
   "cell_type": "markdown",
   "metadata": {},
   "source": [
    "# Cyclic Sort - O(N) runtime, O(1) sort"
   ]
  },
  {
   "cell_type": "code",
   "execution_count": 1,
   "metadata": {},
   "outputs": [],
   "source": [
    "def find_all_duplicates(nums):\n",
    "    duplicateNumbers = set()\n",
    "    \n",
    "    length = len(nums)\n",
    "    i = 0\n",
    "\n",
    "    while i < length:\n",
    "        val = nums[i]\n",
    "        if val != (i + 1):\n",
    "            if nums[val - 1] == val:\n",
    "                duplicateNumbers.add(val)\n",
    "                i += 1\n",
    "            else:\n",
    "                nums[i], nums[val - 1] = nums[val - 1], nums[i]\n",
    "        else:\n",
    "            i += 1\n",
    "    return list(duplicateNumbers)"
   ]
  },
  {
   "cell_type": "code",
   "execution_count": 2,
   "metadata": {},
   "outputs": [
    {
     "data": {
      "text/plain": [
       "[3, 5]"
      ]
     },
     "execution_count": 2,
     "metadata": {},
     "output_type": "execute_result"
    }
   ],
   "source": [
    "find_all_duplicates([5, 4, 7, 2, 3, 5, 3])"
   ]
  }
 ],
 "metadata": {
  "kernelspec": {
   "display_name": "Python 3",
   "language": "python",
   "name": "python3"
  },
  "language_info": {
   "codemirror_mode": {
    "name": "ipython",
    "version": 3
   },
   "file_extension": ".py",
   "mimetype": "text/x-python",
   "name": "python",
   "nbconvert_exporter": "python",
   "pygments_lexer": "ipython3",
   "version": "3.7.3"
  }
 },
 "nbformat": 4,
 "nbformat_minor": 2
}
