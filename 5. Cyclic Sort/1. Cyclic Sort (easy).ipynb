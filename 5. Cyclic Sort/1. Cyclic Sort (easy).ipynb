{
 "cells": [
  {
   "cell_type": "markdown",
   "metadata": {},
   "source": [
    "Problem Statement <br/>\n",
    "\n",
    "We are given an array containing ‘n’ objects. Each object, when created, was assigned a unique number from 1 to ‘n’ <br/> based on their creation sequence. This means that the object with sequence number ‘3’ was created just before the object with sequence number ‘4’. <br/>\n",
    "Write a function to sort the objects in-place on their creation sequence number in O(n)O(n)O(n) and without any extra space. For simplicity, let’s assume we are passed an integer array containing only the sequence numbers, though each number is actually an object. <br/>\n",
    "\n",
    "Example 1: <br/>\n",
    "Input: [3, 1, 5, 4, 2] <br/>\n",
    "Output: [1, 2, 3, 4, 5] <br/>\n",
    "\n",
    "Example 2: <br/>\n",
    "Input: [2, 6, 4, 3, 1, 5] <br/>\n",
    "Output: [1, 2, 3, 4, 5, 6] <br/>\n",
    "\n",
    "Example 3: <br/>\n",
    "Input: [1, 5, 6, 4, 3, 2] <br/>\n",
    "Output: [1, 2, 3, 4, 5, 6]"
   ]
  },
  {
   "cell_type": "markdown",
   "metadata": {},
   "source": [
    "# Cyclic Sort - O(N) runtime, O(1) space"
   ]
  },
  {
   "cell_type": "code",
   "execution_count": 1,
   "metadata": {},
   "outputs": [],
   "source": [
    "def cyclic_sort(nums):\n",
    "    \n",
    "    length = len(nums)\n",
    "    i = 0\n",
    "\n",
    "    while i < length:\n",
    "        val = nums[i]\n",
    "        if nums[i] != i + 1:\n",
    "            nums[i], nums[val - 1] = nums[val - 1], nums[i]\n",
    "        else:\n",
    "            i += 1\n",
    "\n",
    "    return nums"
   ]
  },
  {
   "cell_type": "code",
   "execution_count": 2,
   "metadata": {},
   "outputs": [
    {
     "data": {
      "text/plain": [
       "[1, 2, 3, 4, 5, 6]"
      ]
     },
     "execution_count": 2,
     "metadata": {},
     "output_type": "execute_result"
    }
   ],
   "source": [
    "cyclic_sort([1, 5, 6, 4, 3, 2])"
   ]
  }
 ],
 "metadata": {
  "kernelspec": {
   "display_name": "Python 3",
   "language": "python",
   "name": "python3"
  },
  "language_info": {
   "codemirror_mode": {
    "name": "ipython",
    "version": 3
   },
   "file_extension": ".py",
   "mimetype": "text/x-python",
   "name": "python",
   "nbconvert_exporter": "python",
   "pygments_lexer": "ipython3",
   "version": "3.7.3"
  }
 },
 "nbformat": 4,
 "nbformat_minor": 2
}
