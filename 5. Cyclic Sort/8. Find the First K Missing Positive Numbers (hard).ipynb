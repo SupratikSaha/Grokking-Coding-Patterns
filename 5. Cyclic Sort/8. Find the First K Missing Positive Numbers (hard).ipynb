{
 "cells": [
  {
   "cell_type": "markdown",
   "metadata": {},
   "source": [
    "Problem Statement <br/>\n",
    "\n",
    "Given an unsorted array containing numbers and a number ‘k’, find the first ‘k’ missing positive numbers in the array. <br/>\n",
    "\n",
    "Example 1: <br/>\n",
    "Input: [3, -1, 4, 5, 5], k=3 <br/>\n",
    "Output: [1, 2, 6] <br/>\n",
    "Explanation: The smallest missing positive numbers are 1, 2 and 6. <br/>\n",
    "\n",
    "Example 2: <br/>\n",
    "Input: [2, 3, 4], k=3 <br/>\n",
    "Output: [1, 5, 6] <br/>\n",
    "Explanation: The smallest missing positive numbers are 1, 5 and 6. <br/>\n",
    "\n",
    "Example 3: <br/>\n",
    "Input: [-2, -3, 4], k=2 <br/>\n",
    "Output: [1, 2] <br/>\n",
    "Explanation: The smallest missing positive numbers are 1 and 2. <br/>"
   ]
  },
  {
   "cell_type": "markdown",
   "metadata": {},
   "source": [
    "# Cyclic Sort - O(N + k) runtime, O(k) space"
   ]
  },
  {
   "cell_type": "code",
   "execution_count": 1,
   "metadata": {},
   "outputs": [],
   "source": [
    "def find_first_k_missing_positive(nums, k):\n",
    "    missingNumbers = []\n",
    "    length = len(nums)\n",
    "    i = 0\n",
    "\n",
    "    while i < length:\n",
    "        val = nums[i]\n",
    "        if val > 0 and val <= length and val != (i + 1) and nums[val - 1] != val:\n",
    "            nums[i], nums[val - 1] = nums[val - 1], nums[i]\n",
    "        else:\n",
    "            i += 1\n",
    "\n",
    "\n",
    "    i = j = 0\n",
    "    extra_numbers = set()\n",
    "    while i < length and j < k:\n",
    "        val = nums[i]\n",
    "        if val != i + 1:\n",
    "            missingNumbers.append(i + 1)\n",
    "            extra_numbers.add(val)\n",
    "            j += 1\n",
    "        i += 1\n",
    "\n",
    "    candidate_number = length + 1\n",
    "    while j < k:\n",
    "        if candidate_number not in extra_numbers:\n",
    "            missingNumbers.append(candidate_number)\n",
    "            j += 1\n",
    "        candidate_number += 1\n",
    "    \n",
    "    return missingNumbers\n"
   ]
  },
  {
   "cell_type": "code",
   "execution_count": 3,
   "metadata": {},
   "outputs": [
    {
     "data": {
      "text/plain": [
       "[1, 2, 6]"
      ]
     },
     "execution_count": 3,
     "metadata": {},
     "output_type": "execute_result"
    }
   ],
   "source": [
    "find_first_k_missing_positive([3, -1, 4, 5, 5], 3)"
   ]
  }
 ],
 "metadata": {
  "kernelspec": {
   "display_name": "Python 3",
   "language": "python",
   "name": "python3"
  },
  "language_info": {
   "codemirror_mode": {
    "name": "ipython",
    "version": 3
   },
   "file_extension": ".py",
   "mimetype": "text/x-python",
   "name": "python",
   "nbconvert_exporter": "python",
   "pygments_lexer": "ipython3",
   "version": "3.7.3"
  }
 },
 "nbformat": 4,
 "nbformat_minor": 2
}
