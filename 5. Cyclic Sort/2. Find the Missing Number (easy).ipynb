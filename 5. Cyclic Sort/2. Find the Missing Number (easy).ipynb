{
 "cells": [
  {
   "cell_type": "markdown",
   "metadata": {},
   "source": [
    "Problem Statement <br/>\n",
    "\n",
    "We are given an array containing ‘n’ distinct numbers taken from the range 0 to ‘n’. Since the array has only ‘n’ numbers out of the total ‘n+1’ numbers, find the missing number. <br/>\n",
    "\n",
    "Example 1: <br/>\n",
    "Input: [4, 0, 3, 1] <br/>\n",
    "Output: 2 <br/>\n",
    "\n",
    "Example 2: <br/>\n",
    "Input: [8, 3, 5, 2, 4, 6, 0, 1] <br/>\n",
    "Output: 7"
   ]
  },
  {
   "cell_type": "markdown",
   "metadata": {},
   "source": [
    "# Using sum - O(N) runtime, O(1) space"
   ]
  },
  {
   "cell_type": "code",
   "execution_count": 3,
   "metadata": {},
   "outputs": [],
   "source": [
    "def find_missing_number(nums):\n",
    "    \n",
    "    length = len(nums)\n",
    "    expected_sum = length * (length + 1) / 2\n",
    "    actual_sum = sum(nums)\n",
    "\n",
    "    return int(expected_sum - actual_sum)"
   ]
  },
  {
   "cell_type": "markdown",
   "metadata": {},
   "source": [
    "# Cylic Sort - O(N) runtime, O(1) sort"
   ]
  },
  {
   "cell_type": "code",
   "execution_count": 9,
   "metadata": {},
   "outputs": [],
   "source": [
    "def find_missing_number(nums):\n",
    "    \n",
    "    length = len(nums)\n",
    "    i = 0\n",
    "\n",
    "    while i < length:\n",
    "        val = nums[i]\n",
    "        if nums[i] != 0 and nums[i] != i + 1:\n",
    "            nums[i], nums[val - 1] = nums[val - 1], nums[i]\n",
    "        else:\n",
    "            i += 1\n",
    "    \n",
    "    i = 0\n",
    "    while i < length:\n",
    "        if nums[i] == 0:\n",
    "            return i + 1\n",
    "        i += 1"
   ]
  },
  {
   "cell_type": "code",
   "execution_count": 12,
   "metadata": {},
   "outputs": [
    {
     "data": {
      "text/plain": [
       "8"
      ]
     },
     "execution_count": 12,
     "metadata": {},
     "output_type": "execute_result"
    }
   ],
   "source": [
    "find_missing_number([7, 3, 5, 2, 4, 6, 0, 1])"
   ]
  }
 ],
 "metadata": {
  "kernelspec": {
   "display_name": "Python 3",
   "language": "python",
   "name": "python3"
  },
  "language_info": {
   "codemirror_mode": {
    "name": "ipython",
    "version": 3
   },
   "file_extension": ".py",
   "mimetype": "text/x-python",
   "name": "python",
   "nbconvert_exporter": "python",
   "pygments_lexer": "ipython3",
   "version": "3.7.3"
  }
 },
 "nbformat": 4,
 "nbformat_minor": 2
}
