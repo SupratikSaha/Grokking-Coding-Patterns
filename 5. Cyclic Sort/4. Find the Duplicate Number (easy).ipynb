{
 "cells": [
  {
   "cell_type": "markdown",
   "metadata": {},
   "source": [
    "Problem Statement <br/>\n",
    "\n",
    "We are given an unsorted array containing ‘n+1’ numbers taken from the range 1 to ‘n’. The array has only one duplicate but it can be repeated multiple times. Find that duplicate number without using any extra space. You are, however, allowed to modify the input array. <br/>\n",
    "\n",
    "Example 1: <br/>\n",
    "Input: [1, 4, 4, 3, 2] <br/>\n",
    "Output: 4 <br/>\n",
    "\n",
    "Example 2: <br/>\n",
    "Input: [2, 1, 3, 3, 5, 4] <br/>\n",
    "Output: 3 <br/>\n",
    "\n",
    "Example 3: <br/>\n",
    "Input: [2, 4, 1, 4, 4] <br/>\n",
    "Output: 4"
   ]
  },
  {
   "cell_type": "markdown",
   "metadata": {},
   "source": [
    "# Cyclic Sort - O(N) runtime, O(1) space"
   ]
  },
  {
   "cell_type": "code",
   "execution_count": 1,
   "metadata": {},
   "outputs": [],
   "source": [
    "def find_duplicate(nums):\n",
    "    \n",
    "    length = len(nums)\n",
    "    i = 0\n",
    "\n",
    "    while i < length:\n",
    "        val = nums[i]\n",
    "        if val != (i + 1):\n",
    "            if nums[val - 1] == val:\n",
    "                return val\n",
    "            else:\n",
    "                nums[i], nums[val - 1] = nums[val - 1], nums[i]\n",
    "        else:\n",
    "            i += 1\n",
    "\n",
    "    return -1"
   ]
  },
  {
   "cell_type": "markdown",
   "metadata": {},
   "source": [
    "# Fast & Slow pointers - no change to original array - O(N) runtime, O(1) space"
   ]
  },
  {
   "cell_type": "code",
   "execution_count": 3,
   "metadata": {},
   "outputs": [],
   "source": [
    "def find_duplicate(arr):\n",
    "    slow, fast = arr[0], arr[arr[0]]\n",
    "    while slow != fast:\n",
    "        slow = arr[slow]\n",
    "        fast = arr[arr[fast]]\n",
    "\n",
    "    # find cycle length\n",
    "    current = arr[arr[slow]]\n",
    "    cycleLength = 1\n",
    "    while current != arr[slow]:\n",
    "        current = arr[current]\n",
    "        cycleLength += 1\n",
    "\n",
    "    return find_start(arr, cycleLength)\n",
    "\n",
    "\n",
    "def find_start(arr, cycleLength):\n",
    "    pointer1, pointer2 = arr[0], arr[0]\n",
    "    # move pointer2 ahead 'cycleLength' steps\n",
    "    while cycleLength > 0:\n",
    "        pointer2 = arr[pointer2]\n",
    "        cycleLength -= 1\n",
    "\n",
    "    # increment both pointers until they meet at the start of the cycle\n",
    "    while pointer1 != pointer2:\n",
    "        pointer1 = arr[pointer1]\n",
    "        pointer2 = arr[pointer2]\n",
    "\n",
    "    return pointer1"
   ]
  },
  {
   "cell_type": "code",
   "execution_count": 4,
   "metadata": {},
   "outputs": [
    {
     "data": {
      "text/plain": [
       "3"
      ]
     },
     "execution_count": 4,
     "metadata": {},
     "output_type": "execute_result"
    }
   ],
   "source": [
    "find_duplicate([2, 1, 3, 3, 5, 4])"
   ]
  }
 ],
 "metadata": {
  "kernelspec": {
   "display_name": "Python 3",
   "language": "python",
   "name": "python3"
  },
  "language_info": {
   "codemirror_mode": {
    "name": "ipython",
    "version": 3
   },
   "file_extension": ".py",
   "mimetype": "text/x-python",
   "name": "python",
   "nbconvert_exporter": "python",
   "pygments_lexer": "ipython3",
   "version": "3.7.3"
  }
 },
 "nbformat": 4,
 "nbformat_minor": 2
}
