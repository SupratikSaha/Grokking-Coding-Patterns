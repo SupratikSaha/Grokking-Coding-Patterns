{
 "cells": [
  {
   "cell_type": "markdown",
   "metadata": {},
   "source": [
    "Problem Statement <br/>\n",
    "\n",
    "Given an array of numbers which is sorted in ascending order and is rotated ‘k’ times around a pivot, find ‘k’. <br/>\n",
    "\n",
    "You can assume that the array does not have any duplicates. <br/>\n",
    "\n",
    "Example 1: <br/>\n",
    "Input: [10, 15, 1, 3, 8] <br/>\n",
    "Output: 2 <br/>\n",
    "Explanation: The array has been rotated 2 times. <br/>\n",
    "\n",
    "Example 2: <br/>\n",
    "Input: [4, 5, 7, 9, 10, -1, 2] <br/>\n",
    "Output: 5 <br/>\n",
    "Explanation: The array has been rotated 5 times.\n",
    "\n",
    "Example 3: <br/>\n",
    "Input: [1, 3, 8, 10] <br/>\n",
    "Output: 0 <br/>\n",
    "Explanation: The array has not been rotated."
   ]
  },
  {
   "cell_type": "markdown",
   "metadata": {},
   "source": [
    "# Modified Binary Search - O(log N) runtime, O(1) space"
   ]
  },
  {
   "cell_type": "code",
   "execution_count": 1,
   "metadata": {},
   "outputs": [],
   "source": [
    "def count_rotations(arr):\n",
    "    start, end = 0, len(arr) - 1\n",
    "    while start < end:\n",
    "        mid = start + (end - start) // 2\n",
    "\n",
    "        # if mid is greater than the next element\n",
    "        if mid < end and arr[mid] > arr[mid + 1]:\n",
    "            return mid + 1\n",
    "\n",
    "        # if mid is smaller than the previous element\n",
    "        if mid > start and arr[mid - 1] > arr[mid]:\n",
    "            return mid\n",
    "\n",
    "        if arr[start] < arr[mid]:    # left side is sorted, so the pivot is on right side\n",
    "            start = mid + 1\n",
    "        else:    # right side is sorted, so the pivot is on the left side\n",
    "            end = mid - 1\n",
    "\n",
    "    return 0    # the array has not been rotated"
   ]
  },
  {
   "cell_type": "code",
   "execution_count": 2,
   "metadata": {},
   "outputs": [
    {
     "data": {
      "text/plain": [
       "5"
      ]
     },
     "execution_count": 2,
     "metadata": {},
     "output_type": "execute_result"
    }
   ],
   "source": [
    "count_rotations([4, 5, 7, 9, 10, -1, 2])"
   ]
  }
 ],
 "metadata": {
  "kernelspec": {
   "display_name": "Python 3",
   "language": "python",
   "name": "python3"
  },
  "language_info": {
   "codemirror_mode": {
    "name": "ipython",
    "version": 3
   },
   "file_extension": ".py",
   "mimetype": "text/x-python",
   "name": "python",
   "nbconvert_exporter": "python",
   "pygments_lexer": "ipython3",
   "version": "3.7.3"
  }
 },
 "nbformat": 4,
 "nbformat_minor": 2
}
