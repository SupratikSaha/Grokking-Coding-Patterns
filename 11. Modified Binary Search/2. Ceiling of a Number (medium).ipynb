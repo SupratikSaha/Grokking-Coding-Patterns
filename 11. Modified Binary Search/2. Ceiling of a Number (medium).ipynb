{
 "cells": [
  {
   "cell_type": "markdown",
   "metadata": {},
   "source": [
    "Problem Statement <br/>\n",
    "\n",
    "Given an array of numbers sorted in an ascending order, find the ceiling of a given number ‘key’. The ceiling of the ‘key’ will be the smallest element in the given array greater than or equal to the ‘key’. <br/>\n",
    "\n",
    "Write a function to return the index of the ceiling of the ‘key’. If there isn’t any ceiling return -1. <br/>\n",
    "\n",
    "Example 1: <br/>\n",
    "Input: [4, 6, 10], key = 6 <br/>\n",
    "Output: 1 <br/>\n",
    "Explanation: The smallest number greater than or equal to '6' is '6' having index '1'. <br/>\n",
    "\n",
    "Example 2: <br/>\n",
    "Input: [1, 3, 8, 10, 15], key = 12 <br/>\n",
    "Output: 4 <br/>\n",
    "Explanation: The smallest number greater than or equal to '12' is '15' having index '4'. <br/>\n",
    "\n",
    "Example 3: <br/>\n",
    "Input: [4, 6, 10], key = 17 <br/>\n",
    "Output: -1 <br/>\n",
    "Explanation: There is no number greater than or equal to '17' in the given array. <br/>\n",
    "\n",
    "Example 4: <br/>\n",
    "Input: [4, 6, 10], key = -1 <br/>\n",
    "Output: 0 <br/>\n",
    "Explanation: The smallest number greater than or equal to '-1' is '4' having index '0'."
   ]
  },
  {
   "cell_type": "markdown",
   "metadata": {},
   "source": [
    "# Modified Binary Search - O(log N) runtime, O(1) space"
   ]
  },
  {
   "cell_type": "code",
   "execution_count": 1,
   "metadata": {},
   "outputs": [],
   "source": [
    "def search_ceiling_of_a_number(arr, key):\n",
    "    n = len(arr)\n",
    "    if key > arr[n - 1]:    # if the 'key' is bigger than the biggest element\n",
    "        return -1\n",
    "\n",
    "    start, end = 0, n - 1\n",
    "    while start <= end:\n",
    "        mid = start + (end - start) // 2\n",
    "        if key < arr[mid]:\n",
    "            end = mid - 1\n",
    "        elif key > arr[mid]:\n",
    "            start = mid + 1\n",
    "        else:    # found the key\n",
    "            return mid\n",
    "\n",
    "    # since the loop is running until 'start <= end', so at the end of the while loop, 'start == end+1'\n",
    "    # we are not able to find the element in the given array, so the next big number will be arr[start]\n",
    "    return start"
   ]
  },
  {
   "cell_type": "code",
   "execution_count": 2,
   "metadata": {},
   "outputs": [
    {
     "data": {
      "text/plain": [
       "4"
      ]
     },
     "execution_count": 2,
     "metadata": {},
     "output_type": "execute_result"
    }
   ],
   "source": [
    "search_ceiling_of_a_number( [1, 3, 8, 10, 15], 12)"
   ]
  }
 ],
 "metadata": {
  "kernelspec": {
   "display_name": "Python 3",
   "language": "python",
   "name": "python3"
  },
  "language_info": {
   "codemirror_mode": {
    "name": "ipython",
    "version": 3
   },
   "file_extension": ".py",
   "mimetype": "text/x-python",
   "name": "python",
   "nbconvert_exporter": "python",
   "pygments_lexer": "ipython3",
   "version": "3.7.3"
  }
 },
 "nbformat": 4,
 "nbformat_minor": 2
}
