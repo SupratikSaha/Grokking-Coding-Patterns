{
 "cells": [
  {
   "cell_type": "markdown",
   "metadata": {},
   "source": [
    "Problem Statement <br/>\n",
    "\n",
    "Given an array of numbers which is sorted in ascending order and also rotated by some arbitrary number, find if a given ‘key’ is present in it. <br/>\n",
    "\n",
    "Write a function to return the index of the ‘key’ in the rotated array. If the ‘key’ is not present, return -1. You can assume that the given array does not have any duplicates. <br/>\n",
    "\n",
    "Example 1: <br/>\n",
    "Input: [10, 15, 1, 3, 8], key = 15 <br/>\n",
    "Output: 1 <br/>\n",
    "Explanation: '15' is present in the array at index '1'. <br/>\n",
    "    \n",
    "Example 2: <br/>\n",
    "Input: [4, 5, 7, 9, 10, -1, 2], key = 10 <br/>\n",
    "Output: 4 <br/>\n",
    "Explanation: '10' is present in the array at index '4'."
   ]
  },
  {
   "cell_type": "markdown",
   "metadata": {},
   "source": [
    "# Modified Binary Search - O(log N) runtime, O(1) search"
   ]
  },
  {
   "cell_type": "code",
   "execution_count": 1,
   "metadata": {},
   "outputs": [],
   "source": [
    "def search_rotated_array(arr, key):\n",
    "    start, end = 0, len(arr) - 1\n",
    "    while start <= end:\n",
    "        mid = start + (end - start) // 2\n",
    "        if arr[mid] == key:\n",
    "            return mid\n",
    "\n",
    "        if arr[start] <= arr[mid]:    # left side is sorted in ascending order\n",
    "            if key >= arr[start] and key < arr[mid]:\n",
    "                end = mid - 1\n",
    "            else:    # key > arr[mid]\n",
    "                start = mid + 1\n",
    "        else:    # right side is sorted in ascending order\n",
    "            if key > arr[mid] and key <= arr[end]:\n",
    "                start = mid + 1\n",
    "            else:\n",
    "                end = mid - 1\n",
    "\n",
    "    # we are not able to find the element in the given array\n",
    "    return -1"
   ]
  },
  {
   "cell_type": "code",
   "execution_count": 2,
   "metadata": {},
   "outputs": [
    {
     "data": {
      "text/plain": [
       "4"
      ]
     },
     "execution_count": 2,
     "metadata": {},
     "output_type": "execute_result"
    }
   ],
   "source": [
    "search_rotated_array( [4, 5, 7, 9, 10, -1, 2], 10)"
   ]
  }
 ],
 "metadata": {
  "kernelspec": {
   "display_name": "Python 3",
   "language": "python",
   "name": "python3"
  },
  "language_info": {
   "codemirror_mode": {
    "name": "ipython",
    "version": 3
   },
   "file_extension": ".py",
   "mimetype": "text/x-python",
   "name": "python",
   "nbconvert_exporter": "python",
   "pygments_lexer": "ipython3",
   "version": "3.7.3"
  }
 },
 "nbformat": 4,
 "nbformat_minor": 2
}
