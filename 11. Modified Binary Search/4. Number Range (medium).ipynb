{
 "cells": [
  {
   "cell_type": "markdown",
   "metadata": {},
   "source": [
    "Problem Statement <br/>\n",
    "\n",
    "Given an array of numbers sorted in ascending order, find the range of a given number ‘key’. The range of the ‘key’ will be the first and last position of the ‘key’ in the array. <br/>\n",
    "\n",
    "Write a function to return the range of the ‘key’. If the ‘key’ is not present return [-1, -1]. <br/>\n",
    "\n",
    "Example 1: <br/>\n",
    "Input: [4, 6, 6, 6, 9], key = 6 <br/>\n",
    "Output: [1, 3] <br/>\n",
    "\n",
    "Example 2: <br/>\n",
    "Input: [1, 3, 8, 10, 15], key = 10 <br/>\n",
    "Output: [3, 3] <br/>\n",
    "\n",
    "Example 3: <br/>\n",
    "Input: [1, 3, 8, 10, 15], key = 12 <br/>\n",
    "Output: [-1, -1]"
   ]
  },
  {
   "cell_type": "markdown",
   "metadata": {},
   "source": [
    "# Modified Binary Search - O(log N) runtime, O(1) space"
   ]
  },
  {
   "cell_type": "code",
   "execution_count": 1,
   "metadata": {},
   "outputs": [],
   "source": [
    "def find_range(arr, key):\n",
    "    result = [- 1, -1]\n",
    "    result[0] = binary_search(arr, key, False)\n",
    "    if result[0] != -1:    # no need to search, if 'key' is not present in the input array\n",
    "        result[1] = binary_search(arr, key, True)\n",
    "    return result\n",
    "\n",
    "\n",
    "# modified Binary Search\n",
    "def binary_search(arr, key, findMaxIndex):\n",
    "    keyIndex = -1\n",
    "    start, end = 0, len(arr) - 1\n",
    "    while start <= end:\n",
    "        mid = start + (end - start) // 2\n",
    "        if key < arr[mid]:\n",
    "            end = mid - 1\n",
    "        elif key > arr[mid]:\n",
    "            start = mid + 1\n",
    "        else:    # key == arr[mid]\n",
    "            keyIndex = mid\n",
    "            if findMaxIndex:\n",
    "                start = mid + 1    # search ahead to find the last index of 'key'\n",
    "            else:\n",
    "                end = mid - 1    # search behind to find the first index of 'key'\n",
    "\n",
    "    return keyIndex"
   ]
  },
  {
   "cell_type": "code",
   "execution_count": 2,
   "metadata": {},
   "outputs": [
    {
     "data": {
      "text/plain": [
       "[3, 3]"
      ]
     },
     "execution_count": 2,
     "metadata": {},
     "output_type": "execute_result"
    }
   ],
   "source": [
    "find_range([1, 3, 8, 10, 15], 10)"
   ]
  }
 ],
 "metadata": {
  "kernelspec": {
   "display_name": "Python 3",
   "language": "python",
   "name": "python3"
  },
  "language_info": {
   "codemirror_mode": {
    "name": "ipython",
    "version": 3
   },
   "file_extension": ".py",
   "mimetype": "text/x-python",
   "name": "python",
   "nbconvert_exporter": "python",
   "pygments_lexer": "ipython3",
   "version": "3.7.3"
  }
 },
 "nbformat": 4,
 "nbformat_minor": 2
}
