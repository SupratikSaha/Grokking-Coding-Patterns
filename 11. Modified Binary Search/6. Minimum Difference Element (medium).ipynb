{
 "cells": [
  {
   "cell_type": "markdown",
   "metadata": {},
   "source": [
    "Problem Statement <br/>\n",
    "\n",
    "Given an array of numbers sorted in ascending order, find the element in the array that has the minimum difference with the given ‘key’. <br/>\n",
    "\n",
    "Example 1: <br/>\n",
    "Input: [4, 6, 10], key = 7 <br/>\n",
    "Output: 6 <br/>\n",
    "Explanation: The difference between the key '7' and '6' is minimum than any other number in the array <br/>\n",
    "\n",
    "Example 2: <br/>\n",
    "Input: [4, 6, 10], key = 4 <br/>\n",
    "Output: 4 <br/>\n",
    "\n",
    "Example 3: <br/>\n",
    "Input: [1, 3, 8, 10, 15], key = 12 <br/>\n",
    "Output: 10 <br/>\n",
    "\n",
    "Example 4: <br/>\n",
    "Input: [4, 6, 10], key = 17 <br/>\n",
    "Output: 10"
   ]
  },
  {
   "cell_type": "markdown",
   "metadata": {},
   "source": [
    "# Modified Binary Search - O(log N) runtime, O(1) space"
   ]
  },
  {
   "cell_type": "code",
   "execution_count": 1,
   "metadata": {},
   "outputs": [],
   "source": [
    "def search_min_diff_element(arr, key):\n",
    "    if key < arr[0]:\n",
    "        return arr[0]\n",
    "    n = len(arr)\n",
    "    if key > arr[n - 1]:\n",
    "        return arr[n - 1]\n",
    "\n",
    "    start, end = 0, n - 1\n",
    "    while start <= end:\n",
    "        mid = start + (end - start) // 2\n",
    "        if key < arr[mid]:\n",
    "            end = mid - 1\n",
    "        elif key > arr[mid]:\n",
    "            start = mid + 1\n",
    "        else:\n",
    "            return arr[mid]\n",
    "\n",
    "    # at the end of the while loop, 'start == end+1'\n",
    "    # we are not able to find the element in the given array\n",
    "    # return the element which is closest to the 'key'\n",
    "    if (arr[start] - key) < (key - arr[end]):\n",
    "        return arr[start]\n",
    "    return arr[end]"
   ]
  },
  {
   "cell_type": "code",
   "execution_count": 3,
   "metadata": {},
   "outputs": [
    {
     "data": {
      "text/plain": [
       "10"
      ]
     },
     "execution_count": 3,
     "metadata": {},
     "output_type": "execute_result"
    }
   ],
   "source": [
    "search_min_diff_element([1, 3, 8, 10, 15], 12)"
   ]
  }
 ],
 "metadata": {
  "kernelspec": {
   "display_name": "Python 3",
   "language": "python",
   "name": "python3"
  },
  "language_info": {
   "codemirror_mode": {
    "name": "ipython",
    "version": 3
   },
   "file_extension": ".py",
   "mimetype": "text/x-python",
   "name": "python",
   "nbconvert_exporter": "python",
   "pygments_lexer": "ipython3",
   "version": "3.7.3"
  }
 },
 "nbformat": 4,
 "nbformat_minor": 2
}
