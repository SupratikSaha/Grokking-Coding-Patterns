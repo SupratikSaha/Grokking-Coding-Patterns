{
 "cells": [
  {
   "cell_type": "markdown",
   "metadata": {},
   "source": [
    "Problem Statement <br/>\n",
    "\n",
    "Given a Bitonic array, find if a given ‘key’ is present in it. An array is considered bitonic if it is monotonically increasing and then monotonically decreasing. Monotonically increasing or decreasing means that for any index i in the array arr[i] != arr[i+1]. <br/>\n",
    "\n",
    "Write a function to return the index of the ‘key’. If the ‘key’ is not present, return -1. <br/>\n",
    "\n",
    "Example 1: <br/>\n",
    "Input: [1, 3, 8, 4, 3], key=4 <br/>\n",
    "Output: 3 <br/>\n",
    "\n",
    "Example 2: <br/>\n",
    "Input: [3, 8, 3, 1], key=8 <br/>\n",
    "Output: 1 <br/>\n",
    "\n",
    "Example 3: <br/>\n",
    "Input: [1, 3, 8, 12], key=12 <br/>\n",
    "Output: 3 <br/>\n",
    "\n",
    "Example 4: <br/>\n",
    "Input: [10, 9, 8], key=10 <br/>\n",
    "Output: 0"
   ]
  },
  {
   "cell_type": "markdown",
   "metadata": {},
   "source": [
    "# Modified Bianry Search - O(log N) runtime, O(1) space"
   ]
  },
  {
   "cell_type": "code",
   "execution_count": 1,
   "metadata": {},
   "outputs": [],
   "source": [
    "def search_bitonic_array(arr, key):\n",
    "    if not arr:\n",
    "        return -1\n",
    "        \n",
    "    start, end = 0, len(arr) - 1\n",
    "    while start < end:\n",
    "        mid = start + (end - start) // 2\n",
    "        if arr[mid] == key:\n",
    "            return mid\n",
    "        elif arr[mid] < arr[mid + 1]:\n",
    "            start = mid + 1\n",
    "        else:\n",
    "            end = mid\n",
    "    \n",
    "    if arr[start] == key:\n",
    "        return start\n",
    "        \n",
    "    left = binary_search(arr, 0, start - 1, key, 1)\n",
    "    if left != -1:\n",
    "        return left\n",
    "\n",
    "    return binary_search(arr, start + 1, len(arr) - 1, key, 0)\n",
    "\n",
    "\n",
    "def binary_search(arr, start, end, key, is_asc):\n",
    "    if not arr:\n",
    "        return -1\n",
    "    while start <= end:\n",
    "        mid = start + (end - start) // 2\n",
    "        if arr[mid] == key:\n",
    "                return mid\n",
    "        elif (is_asc and key < arr[mid]) or (not is_asc and key > arr[mid]):\n",
    "                end = mid - 1\n",
    "        else:\n",
    "                start = mid + 1\n",
    "\n",
    "    return -1"
   ]
  },
  {
   "cell_type": "code",
   "execution_count": 2,
   "metadata": {},
   "outputs": [
    {
     "data": {
      "text/plain": [
       "3"
      ]
     },
     "execution_count": 2,
     "metadata": {},
     "output_type": "execute_result"
    }
   ],
   "source": [
    "search_bitonic_array([1,5, 8, 12], 12)"
   ]
  }
 ],
 "metadata": {
  "kernelspec": {
   "display_name": "Python 3",
   "language": "python",
   "name": "python3"
  },
  "language_info": {
   "codemirror_mode": {
    "name": "ipython",
    "version": 3
   },
   "file_extension": ".py",
   "mimetype": "text/x-python",
   "name": "python",
   "nbconvert_exporter": "python",
   "pygments_lexer": "ipython3",
   "version": "3.7.3"
  }
 },
 "nbformat": 4,
 "nbformat_minor": 2
}
