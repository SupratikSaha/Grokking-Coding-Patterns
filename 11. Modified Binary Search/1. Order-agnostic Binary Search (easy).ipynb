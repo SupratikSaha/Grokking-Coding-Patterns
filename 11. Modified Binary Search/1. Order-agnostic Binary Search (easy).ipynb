{
 "cells": [
  {
   "cell_type": "markdown",
   "metadata": {},
   "source": [
    "Problem Statement <br/>\n",
    "\n",
    "Given a sorted array of numbers, find if a given number ‘key’ is present in the array. Though we know that the array is sorted, we don’t know if it’s sorted in ascending or descending order. You should assume that the array can have duplicates. <br/>\n",
    "\n",
    "Write a function to return the index of the ‘key’ if it is present in the array, otherwise return -1. <br/>\n",
    "\n",
    "Example 1: <br/>\n",
    "Input: [4, 6, 10], key = 10 <br/>\n",
    "Output: 2 <br/>\n",
    "\n",
    "Example 2: <br/>\n",
    "Input: [1, 2, 3, 4, 5, 6, 7], key = 5 <br/>\n",
    "Output: 4 <br/>\n",
    "\n",
    "Example 3: <br/>\n",
    "Input: [10, 6, 4], key = 10 <br/>\n",
    "Output: 0 <br/>\n",
    "\n",
    "Example 4: <br/>\n",
    "Input: [10, 6, 4], key = 4 <br/>\n",
    "Output: 2"
   ]
  },
  {
   "cell_type": "markdown",
   "metadata": {},
   "source": [
    "# Modified Binary Search - O(log N) runtime, O(1) space"
   ]
  },
  {
   "cell_type": "code",
   "execution_count": 1,
   "metadata": {},
   "outputs": [],
   "source": [
    "def binary_search(arr, key):\n",
    "    start, end = 0, len(arr) - 1\n",
    "    isAscending = arr[start] < arr[end]\n",
    "    while start <= end:\n",
    "        # calculate the middle of the current range\n",
    "        mid = start + (end - start) // 2\n",
    "\n",
    "        if key == arr[mid]:\n",
    "            return mid\n",
    "\n",
    "        if isAscending:    # ascending order\n",
    "            if key < arr[mid]:\n",
    "                end = mid - 1    # the 'key' can be in the first half\n",
    "            else:    # key > arr[mid]\n",
    "                start = mid + 1    # the 'key' can be in the second half\n",
    "        else:    # descending order\n",
    "            if key > arr[mid]:\n",
    "                end = mid - 1    # the 'key' can be in the first half\n",
    "            else:    # key < arr[mid]\n",
    "                start = mid + 1    # the 'key' can be in the second half\n",
    "\n",
    "    return -1    # element not found"
   ]
  },
  {
   "cell_type": "code",
   "execution_count": 3,
   "metadata": {},
   "outputs": [
    {
     "data": {
      "text/plain": [
       "4"
      ]
     },
     "execution_count": 3,
     "metadata": {},
     "output_type": "execute_result"
    }
   ],
   "source": [
    "binary_search([1, 2, 3, 4, 5, 6, 7], 5)"
   ]
  }
 ],
 "metadata": {
  "kernelspec": {
   "display_name": "Python 3",
   "language": "python",
   "name": "python3"
  },
  "language_info": {
   "codemirror_mode": {
    "name": "ipython",
    "version": 3
   },
   "file_extension": ".py",
   "mimetype": "text/x-python",
   "name": "python",
   "nbconvert_exporter": "python",
   "pygments_lexer": "ipython3",
   "version": "3.7.3"
  }
 },
 "nbformat": 4,
 "nbformat_minor": 2
}
