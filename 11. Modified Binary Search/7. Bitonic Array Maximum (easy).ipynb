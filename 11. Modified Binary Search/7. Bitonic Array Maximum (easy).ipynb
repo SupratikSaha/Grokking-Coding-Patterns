{
 "cells": [
  {
   "cell_type": "markdown",
   "metadata": {},
   "source": [
    "Problem Statement <br/>\n",
    "\n",
    "Find the maximum value in a given Bitonic array. An array is considered bitonic if it is monotonically increasing and then monotonically decreasing. Monotonically increasing or decreasing means that for any index i in the array arr[i] != arr[i+1]. <br/>\n",
    "\n",
    "Example 1: <br/>\n",
    "Input: [1, 3, 8, 12, 4, 2] <br/>\n",
    "Output: 12 <br/>\n",
    "Explanation: The maximum number in the input bitonic array is '12'. <br/>\n",
    "\n",
    "Example 2: <br/>\n",
    "Input: [3, 8, 3, 1] <br/>\n",
    "Output: 8 <br/>\n",
    "\n",
    "Example 3: <br/>\n",
    "Input: [1, 3, 8, 12] <br/>\n",
    "Output: 12 <br/>\n",
    "\n",
    "Example 4: <br/>\n",
    "Input: [10, 9, 8] <br/>\n",
    "Output: 10"
   ]
  },
  {
   "cell_type": "markdown",
   "metadata": {},
   "source": [
    "# Modofoed Binary Search - O(log N) runtime, O(1) space"
   ]
  },
  {
   "cell_type": "code",
   "execution_count": 1,
   "metadata": {},
   "outputs": [],
   "source": [
    "def find_max_in_bitonic_array(arr):\n",
    "    start, end = 0, len(arr) - 1\n",
    "    while start < end:\n",
    "        mid = start + (end - start) // 2\n",
    "        if arr[mid] > arr[mid + 1]:\n",
    "            end = mid\n",
    "        else:\n",
    "            start = mid + 1\n",
    "\n",
    "    # at the end of the while loop, 'start == end'\n",
    "    return arr[start]"
   ]
  },
  {
   "cell_type": "code",
   "execution_count": 3,
   "metadata": {},
   "outputs": [
    {
     "data": {
      "text/plain": [
       "8"
      ]
     },
     "execution_count": 3,
     "metadata": {},
     "output_type": "execute_result"
    }
   ],
   "source": [
    "find_max_in_bitonic_array([3, 8, 3, 1])"
   ]
  }
 ],
 "metadata": {
  "kernelspec": {
   "display_name": "Python 3",
   "language": "python",
   "name": "python3"
  },
  "language_info": {
   "codemirror_mode": {
    "name": "ipython",
    "version": 3
   },
   "file_extension": ".py",
   "mimetype": "text/x-python",
   "name": "python",
   "nbconvert_exporter": "python",
   "pygments_lexer": "ipython3",
   "version": "3.7.3"
  }
 },
 "nbformat": 4,
 "nbformat_minor": 2
}
