{
 "cells": [
  {
   "cell_type": "markdown",
   "metadata": {},
   "source": [
    "Problem Statement <br/>\n",
    "\n",
    "Given an infinite sorted array (or an array with unknown size), find if a given number ‘key’ is present in the array. Write a function to return the index of the ‘key’ if it is present in the array, otherwise return -1. <br/>\n",
    "\n",
    "Since it is not possible to define an array with infinite (unknown) size, you will be provided with an interface ArrayReader to read elements of the array. ArrayReader.get(index) will return the number at index; if the array’s size is smaller than the index, it will return Integer.MAX_VALUE. <br/>\n",
    "\n",
    "Example 1: <br/>\n",
    "Input: [4, 6, 8, 10, 12, 14, 16, 18, 20, 22, 24, 26, 28, 30], key = 16 <br/>\n",
    "Output: 6 <br/>\n",
    "Explanation: The key is present at index '6' in the array. <br/>\n",
    "\n",
    "Example 2: <br/>\n",
    "Input: [4, 6, 8, 10, 12, 14, 16, 18, 20, 22, 24, 26, 28, 30], key = 11 <br/>\n",
    "Output: -1 <br/>\n",
    "Explanation: The key is not present in the array. <br/>\n",
    "\n",
    "Example 3: <br/>\n",
    "Input: [1, 3, 8, 10, 15], key = 15 <br/>\n",
    "Output: 4 <br/>\n",
    "Explanation: The key is present at index '4' in the array. <br/>\n",
    "\n",
    "Example 4: <br/>\n",
    "Input: [1, 3, 8, 10, 15], key = 200 <br/>\n",
    "Output: -1 <br/>\n",
    "Explanation: The key is not present in the array."
   ]
  },
  {
   "cell_type": "markdown",
   "metadata": {},
   "source": [
    "# Modified Binary Search - O(log N) runtime, O(1) space"
   ]
  },
  {
   "cell_type": "code",
   "execution_count": 1,
   "metadata": {},
   "outputs": [],
   "source": [
    "import math\n",
    "\n",
    "class ArrayReader:\n",
    "\n",
    "    def __init__(self, arr):\n",
    "        self.arr = arr\n",
    "\n",
    "    def get(self, index):\n",
    "        if index >= len(self.arr):\n",
    "            return math.inf\n",
    "        return self.arr[index]\n",
    "\n",
    "def search_in_infinite_array(reader, key):\n",
    "    # find the proper bounds first\n",
    "    start, end = 0, 1\n",
    "    while reader.get(end) < key:\n",
    "        newStart = end + 1\n",
    "        end += (end - start + 1) * 2\n",
    "        # increase to double the bounds size\n",
    "        start = newStart\n",
    "\n",
    "    return binary_search(reader, key, start, end)\n",
    "\n",
    "def binary_search(reader, key, start, end):\n",
    "    while start <= end:\n",
    "        mid = start + (end - start) // 2\n",
    "        if key < reader.get(mid):\n",
    "            end = mid - 1\n",
    "        elif key > reader.get(mid):\n",
    "            start = mid + 1\n",
    "        else:    # found the key\n",
    "            return mid\n",
    "\n",
    "    return -1"
   ]
  },
  {
   "cell_type": "code",
   "execution_count": 2,
   "metadata": {},
   "outputs": [
    {
     "name": "stdout",
     "output_type": "stream",
     "text": [
      "6\n"
     ]
    }
   ],
   "source": [
    "reader = ArrayReader([4, 6, 8, 10, 12, 14, 16, 18, 20, 22, 24, 26, 28, 30])\n",
    "print(search_in_infinite_array(reader, 16))"
   ]
  }
 ],
 "metadata": {
  "kernelspec": {
   "display_name": "Python 3",
   "language": "python",
   "name": "python3"
  },
  "language_info": {
   "codemirror_mode": {
    "name": "ipython",
    "version": 3
   },
   "file_extension": ".py",
   "mimetype": "text/x-python",
   "name": "python",
   "nbconvert_exporter": "python",
   "pygments_lexer": "ipython3",
   "version": "3.7.3"
  }
 },
 "nbformat": 4,
 "nbformat_minor": 2
}
