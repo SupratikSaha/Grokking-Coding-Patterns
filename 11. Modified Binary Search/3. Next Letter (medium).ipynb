{
 "cells": [
  {
   "cell_type": "markdown",
   "metadata": {},
   "source": [
    "Problem Statement <br/>\n",
    "\n",
    "Given an array of lowercase letters sorted in ascending order, find the smallest letter in the given array greater than a given ‘key’. <br/>\n",
    "\n",
    "Assume the given array is a circular list, which means that the last letter is assumed to be connected with the first letter. This also means that the smallest letter in the given array is greater than the last letter of the array and is also the first letter of the array. <br/>\n",
    "\n",
    "Write a function to return the next letter of the given ‘key’. <br/>\n",
    "\n",
    "Example 1: <br/>\n",
    "Input: ['a', 'c', 'f', 'h'], key = 'f' <br/>\n",
    "Output: 'h' <br/>\n",
    "Explanation: The smallest letter greater than 'f' is 'h' in the given array. <br/>\n",
    "\n",
    "Example 2: <br/>\n",
    "Input: ['a', 'c', 'f', 'h'], key = 'b' <br/>\n",
    "Output: 'c' <br/>\n",
    "Explanation: The smallest letter greater than 'b' is 'c'. <br/>\n",
    "\n",
    "Example 3: <br/>\n",
    "Input: ['a', 'c', 'f', 'h'], key = 'm' <br/>\n",
    "Output: 'a' <br/>\n",
    "Explanation: As the array is assumed to be circular, the smallest letter greater than 'm' is 'a'. <br/>\n",
    "\n",
    "Example 4: <br/>\n",
    "Input: ['a', 'c', 'f', 'h'], key = 'h' <br/>\n",
    "Output: 'a' <br/>\n",
    "Explanation: As the array is assumed to be circular, the smallest letter greater than 'h' is 'a'."
   ]
  },
  {
   "cell_type": "markdown",
   "metadata": {},
   "source": [
    "# Modified Binary Search - O(log N) runtime, O(1) space"
   ]
  },
  {
   "cell_type": "code",
   "execution_count": 1,
   "metadata": {},
   "outputs": [],
   "source": [
    "def search_next_letter(letters, key):\n",
    "    n = len(letters)\n",
    "    if key < letters[0] or key > letters[n - 1]:\n",
    "        return letters[0]\n",
    "\n",
    "    start, end = 0, n - 1\n",
    "    while start <= end:\n",
    "        mid = start + (end - start) // 2\n",
    "        if key < letters[mid]:\n",
    "            end = mid - 1\n",
    "        else: # key >= letters[mid]:\n",
    "            start = mid + 1\n",
    "\n",
    "    # since the loop is running until 'start <= end', so at the end of the while loop, 'start == end+1'\n",
    "    return letters[start % n]"
   ]
  },
  {
   "cell_type": "code",
   "execution_count": 2,
   "metadata": {},
   "outputs": [
    {
     "data": {
      "text/plain": [
       "'a'"
      ]
     },
     "execution_count": 2,
     "metadata": {},
     "output_type": "execute_result"
    }
   ],
   "source": [
    "search_next_letter(['a', 'c', 'f', 'h'], 'm')"
   ]
  }
 ],
 "metadata": {
  "kernelspec": {
   "display_name": "Python 3",
   "language": "python",
   "name": "python3"
  },
  "language_info": {
   "codemirror_mode": {
    "name": "ipython",
    "version": 3
   },
   "file_extension": ".py",
   "mimetype": "text/x-python",
   "name": "python",
   "nbconvert_exporter": "python",
   "pygments_lexer": "ipython3",
   "version": "3.7.3"
  }
 },
 "nbformat": 4,
 "nbformat_minor": 2
}
