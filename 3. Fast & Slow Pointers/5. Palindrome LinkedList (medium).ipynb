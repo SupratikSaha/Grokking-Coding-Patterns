{
 "cells": [
  {
   "cell_type": "markdown",
   "metadata": {},
   "source": [
    "Problem Statement: <br/>\n",
    "    \n",
    "Given the head of a Singly LinkedList, write a method to check if the LinkedList is a palindrome or not. <br/>\n",
    "\n",
    "Your algorithm should use constant space and the input LinkedList should be in the original form once the algorithm is finished. The algorithm should have O(N) time complexity where ‘N’ is the number of nodes in the LinkedList. <br/>\n",
    "\n",
    "Example 1: <br/>\n",
    "Input: 2 -> 4 -> 6 -> 4 -> 2 -> null <br/>\n",
    "Output: true <br/>\n",
    "\n",
    "Example 2: <br/>\n",
    "Input: 2 -> 4 -> 6 -> 4 -> 2 -> 2 -> null <br/>\n",
    "Output: false"
   ]
  },
  {
   "cell_type": "markdown",
   "metadata": {},
   "source": [
    "# Fast & Slow Pointers - O(N) runtime, O(1) space"
   ]
  },
  {
   "cell_type": "code",
   "execution_count": 1,
   "metadata": {},
   "outputs": [],
   "source": [
    "def is_palindromic_linked_list(head):\n",
    "    \n",
    "    if not head or not head.next:\n",
    "        return True\n",
    "    \n",
    "    mid = find_middle_of_linked_list(head)\n",
    "    copy_rev_head = rev_head = reverse_linked_list(mid)\n",
    "\n",
    "    while head and rev_head:\n",
    "        if head.value != rev_head.value:\n",
    "            break\n",
    "        head, rev_head = head.next, rev_head.next\n",
    "    \n",
    "    reverse_linked_list(copy_rev_head)\n",
    "\n",
    "    if not head or not rev_head:\n",
    "        return True\n",
    "    \n",
    "    return False\n",
    "\n",
    "def find_middle_of_linked_list(head):\n",
    "    slow = fast = head\n",
    "\n",
    "    while fast and fast.next:\n",
    "        slow = slow.next\n",
    "        fast= fast.next.next\n",
    "\n",
    "    return slow\n",
    "\n",
    "def reverse_linked_list(head):\n",
    "\n",
    "    prev = None\n",
    "\n",
    "    while head:\n",
    "        temp = head.next\n",
    "        head.next = prev\n",
    "        prev, head = head, temp\n",
    "    \n",
    "    return prev"
   ]
  }
 ],
 "metadata": {
  "kernelspec": {
   "display_name": "Python 3",
   "language": "python",
   "name": "python3"
  },
  "language_info": {
   "codemirror_mode": {
    "name": "ipython",
    "version": 3
   },
   "file_extension": ".py",
   "mimetype": "text/x-python",
   "name": "python",
   "nbconvert_exporter": "python",
   "pygments_lexer": "ipython3",
   "version": "3.7.3"
  }
 },
 "nbformat": 4,
 "nbformat_minor": 2
}
