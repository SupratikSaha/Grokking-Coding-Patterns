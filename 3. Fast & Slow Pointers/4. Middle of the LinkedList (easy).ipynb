{
 "cells": [
  {
   "cell_type": "markdown",
   "metadata": {},
   "source": [
    "Problem Statement <br/>\n",
    "\n",
    "Given the head of a Singly LinkedList, write a method to return the middle node of the LinkedList. <br/>\n",
    "\n",
    "If the total number of nodes in the LinkedList is even, return the second middle node. <br/>\n",
    "\n",
    "Example 1: <br/>\n",
    "Input: 1 -> 2 -> 3 -> 4 -> 5 -> null <br/>\n",
    "Output: 3 <br/>\n",
    "\n",
    "Example 2: <br/>\n",
    "Input: 1 -> 2 -> 3 -> 4 -> 5 -> 6 -> null <br/>\n",
    "Output: 4 <br/>\n",
    "\n",
    "Example 3: <br/>\n",
    "Input: 1 -> 2 -> 3 -> 4 -> 5 -> 6 -> 7 -> null <br/>\n",
    "Output: 4"
   ]
  },
  {
   "cell_type": "markdown",
   "metadata": {},
   "source": [
    "# Fast & Slow Pointers - O(N) runtime, O(1) space"
   ]
  },
  {
   "cell_type": "code",
   "execution_count": 1,
   "metadata": {},
   "outputs": [],
   "source": [
    "def find_middle_of_linked_list(head):\n",
    "    slow = fast = head\n",
    "\n",
    "    while fast and fast.next:\n",
    "        slow = slow.next\n",
    "        fast = fast.next.next\n",
    "\n",
    "    return slow"
   ]
  }
 ],
 "metadata": {
  "kernelspec": {
   "display_name": "Python 3",
   "language": "python",
   "name": "python3"
  },
  "language_info": {
   "codemirror_mode": {
    "name": "ipython",
    "version": 3
   },
   "file_extension": ".py",
   "mimetype": "text/x-python",
   "name": "python",
   "nbconvert_exporter": "python",
   "pygments_lexer": "ipython3",
   "version": "3.7.3"
  }
 },
 "nbformat": 4,
 "nbformat_minor": 2
}
