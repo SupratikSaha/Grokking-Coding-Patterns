{
 "cells": [
  {
   "cell_type": "markdown",
   "metadata": {},
   "source": [
    "Problem Statement <br/>\n",
    "\n",
    "Any number will be called a happy number if, after repeatedly replacing it with a number equal to the sum of the square of all of its digits, leads us to number ‘1’. All other (not-happy) numbers will never reach ‘1’. Instead, they will be stuck in a cycle of numbers which does not include ‘1’. <br/>\n",
    "\n",
    "Example 1: <br/>\n",
    "Input: 23 <br/>   \n",
    "Output: true (23 is a happy number) <br/>  \n",
    "Explanations: Here are the steps to find out that 23 is a happy number: <br/>\n",
    "\n",
    "    23 = 4 + 9 = 13\n",
    "    13 = 1 + 9 = 10\n",
    "    10 = 1 + 0 = 1\n",
    "\n",
    "Example 2: <br/>\n",
    "Input: 12 <br/>   \n",
    "Output: false (12 is not a happy number) <br/>  \n",
    "Explanations: Here are the steps to find out that 12 is not a happy number: <br/>\n",
    "\n",
    "    12 = 1 + 4 = 5\n",
    "    5 = 25\n",
    "    25 = 4 + 25 = 29\n",
    "    29 = 4 + 81 = 85\n",
    "    85 = 64 + 25 = 89\n",
    "    89 = 64 + 81 = 145\n",
    "    145 = 1 + 16 + 25 = 42\n",
    "    42 = 16 + 4 = 20\n",
    "    20 = 4 + 0 = 4\n",
    "    4 = 16\n",
    "    16 = 1 + 36 = 37\n",
    "    37 = 9 + 49 = 58\n",
    "    58 = 25 + 64 = 89\n",
    "\n",
    "Step ‘13’ leads us back to step ‘5’ as the number becomes equal to ‘89’, this means that we can never reach ‘1’, therefore, ‘12’ is not a happy number."
   ]
  },
  {
   "cell_type": "markdown",
   "metadata": {},
   "source": [
    "# Slow & Fast Pointers - O(log n) runtime, O(1) space"
   ]
  },
  {
   "cell_type": "code",
   "execution_count": 1,
   "metadata": {},
   "outputs": [],
   "source": [
    "def find_happy_number(num):\n",
    "    slow, fast = num, num\n",
    "    while True:\n",
    "        slow = find_square_sum(slow)    # move one step\n",
    "        fast = find_square_sum(find_square_sum(fast))    # move two steps\n",
    "        if slow == fast:    # found the cycle\n",
    "            break\n",
    "    return slow == 1    # see if the cycle is stuck on the number '1'\n",
    "\n",
    "\n",
    "def find_square_sum(num):\n",
    "    _sum = 0\n",
    "    while (num > 0):\n",
    "        digit = num % 10\n",
    "        _sum += digit * digit\n",
    "        num //= 10\n",
    "    return _sum"
   ]
  },
  {
   "cell_type": "code",
   "execution_count": 2,
   "metadata": {},
   "outputs": [
    {
     "data": {
      "text/plain": [
       "True"
      ]
     },
     "execution_count": 2,
     "metadata": {},
     "output_type": "execute_result"
    }
   ],
   "source": [
    "find_happy_number(23)"
   ]
  }
 ],
 "metadata": {
  "kernelspec": {
   "display_name": "Python 3",
   "language": "python",
   "name": "python3"
  },
  "language_info": {
   "codemirror_mode": {
    "name": "ipython",
    "version": 3
   },
   "file_extension": ".py",
   "mimetype": "text/x-python",
   "name": "python",
   "nbconvert_exporter": "python",
   "pygments_lexer": "ipython3",
   "version": "3.7.3"
  }
 },
 "nbformat": 4,
 "nbformat_minor": 2
}
