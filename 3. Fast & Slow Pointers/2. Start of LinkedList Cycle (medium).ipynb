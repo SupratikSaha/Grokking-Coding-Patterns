{
 "cells": [
  {
   "cell_type": "markdown",
   "metadata": {},
   "source": [
    "Problem Statement <br/>\n",
    "\n",
    "Given the head of a Singly LinkedList that contains a cycle, write a function to find the starting node of the cycle."
   ]
  },
  {
   "cell_type": "markdown",
   "metadata": {},
   "source": [
    "# Fast & Slow Pointers - O(N) runtime, O(1) space"
   ]
  },
  {
   "cell_type": "code",
   "execution_count": 1,
   "metadata": {},
   "outputs": [],
   "source": [
    "def find_cycle_start(head):\n",
    "    cycle_length = 0\n",
    "    # find the LinkedList cycle\n",
    "    slow = fast = head\n",
    "    while (fast and fast.next):\n",
    "        fast = fast.next.next\n",
    "        slow = slow.next\n",
    "        if slow == fast:    # found the cycle\n",
    "            cycle_length = calculate_cycle_length(slow)\n",
    "            break\n",
    "    return find_start(head, cycle_length)\n",
    " \n",
    "def calculate_cycle_length(slow):\n",
    "    current = slow\n",
    "    cycle_length = 0\n",
    "    while True:\n",
    "        current = current.next\n",
    "        cycle_length += 1\n",
    "        if current == slow:\n",
    "            break\n",
    "    return cycle_length\n",
    " \n",
    "def find_start(head, cycle_length):\n",
    "    pointer1 = head\n",
    "    pointer2 = head\n",
    "    # move pointer2 ahead 'cycle_length' nodes\n",
    "    while cycle_length > 0:\n",
    "        pointer2 = pointer2.next\n",
    "        cycle_length -= 1\n",
    "    # increment both pointers until they meet at the start of the cycle\n",
    "    while pointer1 != pointer2:\n",
    "        pointer1 = pointer1.next\n",
    "        pointer2 = pointer2.next\n",
    "    return pointer1"
   ]
  }
 ],
 "metadata": {
  "kernelspec": {
   "display_name": "Python 3",
   "language": "python",
   "name": "python3"
  },
  "language_info": {
   "codemirror_mode": {
    "name": "ipython",
    "version": 3
   },
   "file_extension": ".py",
   "mimetype": "text/x-python",
   "name": "python",
   "nbconvert_exporter": "python",
   "pygments_lexer": "ipython3",
   "version": "3.7.3"
  }
 },
 "nbformat": 4,
 "nbformat_minor": 2
}
