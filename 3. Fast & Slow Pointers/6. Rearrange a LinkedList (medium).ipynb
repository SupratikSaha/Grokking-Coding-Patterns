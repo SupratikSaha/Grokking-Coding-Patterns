{
 "cells": [
  {
   "cell_type": "markdown",
   "metadata": {},
   "source": [
    "Problem Statement: <br/>\n",
    "\n",
    "Given the head of a Singly LinkedList, write a method to modify the LinkedList such that the nodes from the second half of the LinkedList are inserted alternately to the nodes from the first half in reverse order. So if the LinkedList has nodes 1 -> 2 -> 3 -> 4 -> 5 -> 6 -> null, your method should return 1 -> 6 -> 2 -> 5 -> 3 -> 4 -> null. <br/>\n",
    "\n",
    "Your algorithm should not use any extra space and the input LinkedList should be modified in-place. <br/>\n",
    "\n",
    "Example 1: <br/>\n",
    "Input: 2 -> 4 -> 6 -> 8 -> 10 -> 12 -> null <br/>\n",
    "Output: 2 -> 12 -> 4 -> 10 -> 6 -> 8 -> null <br/>\n",
    "\n",
    "Example 2: <br/>\n",
    "Input: 2 -> 4 -> 6 -> 8 -> 10 -> null <br/>\n",
    "Output: 2 -> 10 -> 4 -> 8 -> 6 -> null"
   ]
  },
  {
   "cell_type": "markdown",
   "metadata": {},
   "source": [
    "# Fast & Slow Pointers - O(N) runtime, O(1) space"
   ]
  },
  {
   "cell_type": "code",
   "execution_count": 2,
   "metadata": {},
   "outputs": [],
   "source": [
    "def reorder(head):\n",
    "\n",
    "    if not head or not head.next:\n",
    "        return head\n",
    "    \n",
    "    mid = find_middle_of_linked_list(head)\n",
    "    even_head = reverse(mid)\n",
    "    odd_head = head\n",
    "\n",
    "    while even_head.next:\n",
    "        temp = odd_head.next\n",
    "        odd_head.next = even_head\n",
    "        odd_head = temp\n",
    " \n",
    "        temp = even_head.next\n",
    "        even_head.next = odd_head\n",
    "        even_head = temp\n",
    "    \n",
    "    return head\n",
    "\n",
    "def find_middle_of_linked_list(head):\n",
    "    slow = fast = head\n",
    "    while fast and fast.next:\n",
    "        slow = slow.next\n",
    "        fast = fast.next.next\n",
    "\n",
    "    return slow\n",
    "\n",
    "def reverse(head):\n",
    "    prev = None\n",
    "    while head:\n",
    "        next_node = head.next\n",
    "        head.next = prev\n",
    "        prev, head = head, next_node\n",
    "    \n",
    "    return prev"
   ]
  }
 ],
 "metadata": {
  "kernelspec": {
   "display_name": "Python 3",
   "language": "python",
   "name": "python3"
  },
  "language_info": {
   "codemirror_mode": {
    "name": "ipython",
    "version": 3
   },
   "file_extension": ".py",
   "mimetype": "text/x-python",
   "name": "python",
   "nbconvert_exporter": "python",
   "pygments_lexer": "ipython3",
   "version": "3.7.3"
  }
 },
 "nbformat": 4,
 "nbformat_minor": 2
}
