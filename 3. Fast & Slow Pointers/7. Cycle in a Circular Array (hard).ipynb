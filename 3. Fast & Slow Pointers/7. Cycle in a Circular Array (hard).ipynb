{
 "cells": [
  {
   "cell_type": "markdown",
   "metadata": {},
   "source": [
    "Problem Statement: <br/>\n",
    "We are given an array containing positive and negative numbers. Suppose the array contains a number ‘M’ at a particular index. Now, if ‘M’ is positive we will move forward ‘M’ indices and if ‘M’ is negative move backwards ‘M’ indices. You should assume that the array is circular which means two things: <br/>\n",
    "\n",
    "    If, while moving forward, we reach the end of the array, we will jump to the first element to continue the movement.\n",
    "    If, while moving backward, we reach the beginning of the array, we will jump to the last element to continue the movement.\n",
    "\n",
    "Write a method to determine if the array has a cycle. The cycle should have more than one element and should follow one direction which means the cycle should not contain both forward and backward movements. <br/>\n",
    "\n",
    "Example 1: <br/>\n",
    "Input: [1, 2, -1, 2, 2] <br/>\n",
    "Output: true <br/>\n",
    "Explanation: The array has a cycle among indices: 0 -> 1 -> 3 -> 0 <br/>\n",
    "\n",
    "Example 2: <br/>\n",
    "Input: [2, 2, -1, 2] <br/>\n",
    "Output: true <br/>\n",
    "Explanation: The array has a cycle among indices: 1 -> 3 -> 1 <br/>\n",
    "\n",
    "Example 3: <br/>\n",
    "Input: [2, 1, -1, -2] <br/>\n",
    "Output: false <br/>\n",
    "Explanation: The array does not have any cycle."
   ]
  },
  {
   "cell_type": "markdown",
   "metadata": {},
   "source": [
    "# Fast & Slow Pointers - O(N ^ 2) runtime, O(1) space"
   ]
  },
  {
   "cell_type": "code",
   "execution_count": 1,
   "metadata": {},
   "outputs": [],
   "source": [
    "def circular_array_loop_exists(arr):\n",
    "    for i in range(len(arr)):\n",
    "        is_forward = arr[i] >= 0    # if we are moving forward or not\n",
    "        slow, fast = i, i\n",
    "\n",
    "        # if slow or fast becomes '-1' this means we can't find cycle for this number\n",
    "        while True:\n",
    "            # move one step for slow pointer\n",
    "            slow = find_next_index(arr, is_forward, slow)\n",
    "            # move one step for fast pointer\n",
    "            fast = find_next_index(arr, is_forward, fast)\n",
    "            if (fast != -1):\n",
    "                # move another step for fast pointer\n",
    "                fast = find_next_index(arr, is_forward, fast)\n",
    "            if slow == -1 or fast == -1 or slow == fast:\n",
    "                break\n",
    "\n",
    "        if slow != -1 and slow == fast:\n",
    "            return True\n",
    "\n",
    "    return False\n",
    "\n",
    "\n",
    "def find_next_index(arr, is_forward, current_index):\n",
    "    direction = arr[current_index] >= 0\n",
    "\n",
    "    if is_forward != direction:\n",
    "        return -1    # change in direction, return -1\n",
    "\n",
    "    next_index = (current_index + arr[current_index]) % len(arr)\n",
    "\n",
    "    # one element cycle, return -1\n",
    "    if next_index == current_index:\n",
    "        next_index = -1\n",
    "\n",
    "    return next_index"
   ]
  },
  {
   "cell_type": "code",
   "execution_count": 2,
   "metadata": {},
   "outputs": [
    {
     "data": {
      "text/plain": [
       "True"
      ]
     },
     "execution_count": 2,
     "metadata": {},
     "output_type": "execute_result"
    }
   ],
   "source": [
    "circular_array_loop_exists([1, 2, -1, 2, 2])"
   ]
  }
 ],
 "metadata": {
  "kernelspec": {
   "display_name": "Python 3",
   "language": "python",
   "name": "python3"
  },
  "language_info": {
   "codemirror_mode": {
    "name": "ipython",
    "version": 3
   },
   "file_extension": ".py",
   "mimetype": "text/x-python",
   "name": "python",
   "nbconvert_exporter": "python",
   "pygments_lexer": "ipython3",
   "version": "3.7.3"
  }
 },
 "nbformat": 4,
 "nbformat_minor": 2
}
