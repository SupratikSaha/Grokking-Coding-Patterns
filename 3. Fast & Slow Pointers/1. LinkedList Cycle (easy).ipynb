{
 "cells": [
  {
   "cell_type": "markdown",
   "metadata": {},
   "source": [
    "Problem Statement <br/>\n",
    "\n",
    "Given the head of a Singly LinkedList, write a function to determine if the LinkedList has a cycle in it or not. <br/>\n",
    "\n",
    "1,2,4,5,6,# - No cycle <br/>\n",
    "1,2,3,4,5,6 -> 3,4,5,6 -> ... - Has Cycle"
   ]
  },
  {
   "cell_type": "markdown",
   "metadata": {},
   "source": [
    "# Fast & Slow Pointers - O(N) runtime, O(1) space"
   ]
  },
  {
   "cell_type": "code",
   "execution_count": 2,
   "metadata": {},
   "outputs": [],
   "source": [
    "def has_cycle(head):\n",
    "    slow, fast = head, head\n",
    "    while fast is not None and fast.next is not None:\n",
    "        fast = fast.next.next\n",
    "        slow = slow.next\n",
    "        if slow == fast:\n",
    "            return True  # found the cycle\n",
    "    return False"
   ]
  },
  {
   "cell_type": "markdown",
   "metadata": {},
   "source": [
    "Problem: Given the head of a LinkedList with a cycle, find the length of the cycle."
   ]
  },
  {
   "cell_type": "markdown",
   "metadata": {},
   "source": [
    "# Fast & Slow Pointers - O(N) runtime, O(1) space"
   ]
  },
  {
   "cell_type": "code",
   "execution_count": 3,
   "metadata": {},
   "outputs": [],
   "source": [
    "def find_cycle_length(head):\n",
    "    slow, fast = head, head\n",
    "    while fast is not None and fast.next is not None:\n",
    "        fast = fast.next.next\n",
    "        slow = slow.next\n",
    "        if slow == fast:    # found the cycle\n",
    "            return calculate_cycle_length(slow)\n",
    "\n",
    "    return 0\n",
    "\n",
    "\n",
    "def calculate_cycle_length(slow):\n",
    "    current = slow\n",
    "    cycle_length = 0\n",
    "    while True:\n",
    "        current = current.next\n",
    "        cycle_length += 1\n",
    "        if current == slow:\n",
    "            break\n",
    "    return cycle_length"
   ]
  }
 ],
 "metadata": {
  "kernelspec": {
   "display_name": "Python 3",
   "language": "python",
   "name": "python3"
  },
  "language_info": {
   "codemirror_mode": {
    "name": "ipython",
    "version": 3
   },
   "file_extension": ".py",
   "mimetype": "text/x-python",
   "name": "python",
   "nbconvert_exporter": "python",
   "pygments_lexer": "ipython3",
   "version": "3.7.3"
  }
 },
 "nbformat": 4,
 "nbformat_minor": 2
}
