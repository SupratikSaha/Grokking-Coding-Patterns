{
 "cells": [
  {
   "cell_type": "markdown",
   "metadata": {},
   "source": [
    "Problem Statement <br/>\n",
    "\n",
    "Given a binary tree, find the length of its diameter. The diameter of a tree is the number of nodes on the longest path between any two leaf nodes. The diameter of a tree may or may not pass through the root. <br/>\n",
    "\n",
    "Note: You can always assume that there are at least two leaf nodes in the given tree). <br/>\n",
    "\n",
    "Example 1: <br/>\n",
    "[[1],[2,3],[4,5,6]] <br/>\n",
    "Output: 5 <br/>\n",
    "Explanation: The diameter of the tree is: [4, 2, 1, 3, 6] <br/>\n",
    "\n",
    "Example 2: <br/>\n",
    "[[1],[2,3],[5,6],[7,8,9],[10,11]] <br/>\n",
    "Output: 7 <br/>\n",
    "Explanation: The diameter of the tree is: [10, 8, 5, 3, 6, 9, 11]"
   ]
  },
  {
   "cell_type": "markdown",
   "metadata": {},
   "source": [
    "# Depth First Search - O(N ^ 2) runtime, O(N) space"
   ]
  },
  {
   "cell_type": "code",
   "execution_count": 1,
   "metadata": {},
   "outputs": [],
   "source": [
    "class TreeDiameter:\n",
    "\n",
    "    def __init__(self):\n",
    "        self.treeDiameter = 0\n",
    "\n",
    "    def find_diameter(self, root):\n",
    "        self.calculate_height(root)\n",
    "        return self.treeDiameter\n",
    "\n",
    "    def calculate_height(self, currentNode):\n",
    "        if currentNode is None:\n",
    "            return 0\n",
    "\n",
    "        leftTreeHeight = self.calculate_height(currentNode.left)\n",
    "        rightTreeHeight = self.calculate_height(currentNode.right)\n",
    "\n",
    "        # diameter at the current node will be equal to the height of left subtree +\n",
    "        # the height of right sub-trees + '1' for the current node\n",
    "        diameter = leftTreeHeight + rightTreeHeight + 1\n",
    "\n",
    "        # update the global tree diameter\n",
    "        self.treeDiameter = max(self.treeDiameter, diameter)\n",
    "\n",
    "        # height of the current node will be equal to the maximum of the hights of\n",
    "        # left or right subtrees plus '1' for the current node\n",
    "        return max(leftTreeHeight, rightTreeHeight) + 1"
   ]
  }
 ],
 "metadata": {
  "kernelspec": {
   "display_name": "Python 3",
   "language": "python",
   "name": "python3"
  },
  "language_info": {
   "codemirror_mode": {
    "name": "ipython",
    "version": 3
   },
   "file_extension": ".py",
   "mimetype": "text/x-python",
   "name": "python",
   "nbconvert_exporter": "python",
   "pygments_lexer": "ipython3",
   "version": "3.7.3"
  }
 },
 "nbformat": 4,
 "nbformat_minor": 2
}
