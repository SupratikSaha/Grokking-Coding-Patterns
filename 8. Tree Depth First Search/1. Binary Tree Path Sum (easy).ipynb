{
 "cells": [
  {
   "cell_type": "markdown",
   "metadata": {},
   "source": [
    "Problem Statement <br/>\n",
    "\n",
    "Given a binary tree and a number ‘S’, find if the tree has a path from root-to-leaf such that the sum of all the node values of that path equals ‘S’. <br/>\n",
    "\n",
    "Example 1: <br/>\n",
    "[[1],[2,3],[4,5,6,7]] <br/>\n",
    "Sum: 10 <br/>\n",
    "Solution: True -> [[1,3,6]] <br/>\n",
    "\n",
    "Example 2: <br/>\n",
    "[[12],[7,1],[9,10,5]] <br/>\n",
    "Sum: 23 <br/>\n",
    "Solution: True [[12,1,10]] <br/>\n",
    "Sum: 16 <br/>\n",
    "Solution: False <br/>"
   ]
  },
  {
   "cell_type": "markdown",
   "metadata": {},
   "source": [
    "# Depth First Search - O(N) runtime, O(N) space, where N is the number of nodes"
   ]
  },
  {
   "cell_type": "code",
   "execution_count": 3,
   "metadata": {},
   "outputs": [],
   "source": [
    "def has_path(root, sum):\n",
    "    if root is None:\n",
    "        return False\n",
    "\n",
    "    # if the current node is a leaf and its value is equal to the sum, we've found a path\n",
    "    if root.val == sum and root.left is None and root.right is None:\n",
    "        return True\n",
    "\n",
    "    # recursively call to traverse the left and right sub-tree\n",
    "    # return true if any of the two recursive call return true\n",
    "    return has_path(root.left, sum - root.val) or has_path(root.right, sum - root.val)"
   ]
  }
 ],
 "metadata": {
  "kernelspec": {
   "display_name": "Python 3",
   "language": "python",
   "name": "python3"
  },
  "language_info": {
   "codemirror_mode": {
    "name": "ipython",
    "version": 3
   },
   "file_extension": ".py",
   "mimetype": "text/x-python",
   "name": "python",
   "nbconvert_exporter": "python",
   "pygments_lexer": "ipython3",
   "version": "3.7.3"
  }
 },
 "nbformat": 4,
 "nbformat_minor": 2
}
