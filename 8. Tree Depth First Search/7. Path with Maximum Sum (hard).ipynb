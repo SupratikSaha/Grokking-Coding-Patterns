{
 "cells": [
  {
   "cell_type": "markdown",
   "metadata": {},
   "source": [
    "Problem Statement <br/>\n",
    "\n",
    "Find the path with the maximum sum in a given binary tree. Write a function that returns the maximum sum. A path can be defined as a sequence of nodes between any two nodes and doesn’t necessarily pass through the root. <br/>\n",
    "\n",
    "Note: You can always assume that there are at least two leaf nodes in the given tree). <br/>\n",
    "\n",
    "Example 1: <br/>\n",
    "[[1],[2,3],[4,5,6]] <br/>\n",
    "Output: 16 <br/>\n",
    "Explanation: The path with maximum sum is: [4, 2, 1, 3, 6] <br/>\n",
    "\n",
    "Example 2: <br/>\n",
    "[[1],[2,3],[1,3,5,6],[7,8,9]] <br/>\n",
    "Output: 31 <br/>\n",
    "Explanation: The path with maximum sum is: [8, 5, 3, 6, 9"
   ]
  },
  {
   "cell_type": "markdown",
   "metadata": {},
   "source": [
    "# Depth First Search - O(N) runtime, O(N) space"
   ]
  },
  {
   "cell_type": "code",
   "execution_count": 5,
   "metadata": {},
   "outputs": [],
   "source": [
    "class TreePathSum:\n",
    "    def __init__(self):\n",
    "        self.maxPathSum = float('-inf')\n",
    "\n",
    "    def find_maximum_path_sum(self, root):\n",
    "        self.recursive_max_path_sum(root)\n",
    "        return self.maxPathSum\n",
    "\n",
    "    def recursive_max_path_sum(self, curr_node):\n",
    "        if not curr_node:\n",
    "            return 0\n",
    "\n",
    "        left_path_sum = self.recursive_max_path_sum(curr_node.left)\n",
    "        right_path_sum = self.recursive_max_path_sum(curr_node.right)\n",
    "\n",
    "        left_path_sum = max(left_path_sum, 0)\n",
    "        right_path_sum = max(right_path_sum, 0)\n",
    " \n",
    "        self.maxPathSum = max(self.maxPathSum, curr_node.val + left_path_sum + right_path_sum)\n",
    "        return curr_node.val + max(left_path_sum, right_path_sum)"
   ]
  }
 ],
 "metadata": {
  "kernelspec": {
   "display_name": "Python 3",
   "language": "python",
   "name": "python3"
  },
  "language_info": {
   "codemirror_mode": {
    "name": "ipython",
    "version": 3
   },
   "file_extension": ".py",
   "mimetype": "text/x-python",
   "name": "python",
   "nbconvert_exporter": "python",
   "pygments_lexer": "ipython3",
   "version": "3.7.3"
  }
 },
 "nbformat": 4,
 "nbformat_minor": 2
}
