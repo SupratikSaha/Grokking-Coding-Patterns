{
 "cells": [
  {
   "cell_type": "markdown",
   "metadata": {},
   "source": [
    "Problem Statement <br/>\n",
    "\n",
    "Given a binary tree where each node can only have a digit (0-9) value, each root-to-leaf path will represent a number. Find the total sum of all the numbers represented by all paths. <br/>\n",
    "\n",
    "Example 1: <br/>\n",
    "[[1],[7,9],[2,9]] <br/>\n",
    "Output: 408 <br/>\n",
    "Explanation: The sume of all path numbers: 17 + 192 + 199 <br/>\n",
    "\n",
    "Example 2: <br/>\n",
    "[[1],[0,1],[1,6,5]] <br/>\n",
    "Output: 332 <br/>\n",
    "Explanation: The sume of all path numbers: 101 + 116 + 115"
   ]
  },
  {
   "cell_type": "markdown",
   "metadata": {},
   "source": [
    "# Depth First Search - O(N) runtime, O(N) space, where N is the number of nodes"
   ]
  },
  {
   "cell_type": "code",
   "execution_count": 1,
   "metadata": {},
   "outputs": [],
   "source": [
    "def find_sum_of_path_numbers(root):\n",
    "    return find_root_to_leaf_path_numbers(root, 0)\n",
    "\n",
    "\n",
    "def find_root_to_leaf_path_numbers(currentNode, pathSum):\n",
    "    if currentNode is None:\n",
    "        return 0\n",
    "\n",
    "    # calculate the path number of the current node\n",
    "    pathSum = 10 * pathSum + currentNode.val\n",
    "\n",
    "    # if the current node is a leaf, return the current path sum\n",
    "    if currentNode.left is None and currentNode.right is None:\n",
    "        return pathSum\n",
    "\n",
    "    # traverse the left and the right sub-tree\n",
    "    return find_root_to_leaf_path_numbers(currentNode.left, pathSum) + find_root_to_leaf_path_numbers(currentNode.right, pathSum)"
   ]
  }
 ],
 "metadata": {
  "kernelspec": {
   "display_name": "Python 3",
   "language": "python",
   "name": "python3"
  },
  "language_info": {
   "codemirror_mode": {
    "name": "ipython",
    "version": 3
   },
   "file_extension": ".py",
   "mimetype": "text/x-python",
   "name": "python",
   "nbconvert_exporter": "python",
   "pygments_lexer": "ipython3",
   "version": "3.7.3"
  }
 },
 "nbformat": 4,
 "nbformat_minor": 2
}
