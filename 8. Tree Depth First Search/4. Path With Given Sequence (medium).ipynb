{
 "cells": [
  {
   "cell_type": "markdown",
   "metadata": {},
   "source": [
    "Problem Statement <br/>\n",
    "\n",
    "Given a binary tree and a number sequence, find if the sequence is present as a root-to-leaf path in the given tree. <br/>\n",
    "\n",
    "Example 1: <br/>\n",
    "[[1],[7,9],[2,9]] <br/>\n",
    "Sequence: [1,9,9] <br/>\n",
    "Output: True <br/>\n",
    "\n",
    "Example 2: <br/>\n",
    "[[1],[0,1],[1,6,5]] <br/>\n",
    "Sequence: [1,0,7] <br/>\n",
    "Output: False <br/>\n",
    "    \n",
    "Sequence: [1,1,6] <br/>\n",
    "Output: True <br/>"
   ]
  },
  {
   "cell_type": "markdown",
   "metadata": {},
   "source": [
    "# Depth First Search - O(N) runtime, O(N) space, where N is the number of nodes"
   ]
  },
  {
   "cell_type": "code",
   "execution_count": 1,
   "metadata": {},
   "outputs": [],
   "source": [
    "def find_path(root, sequence):\n",
    "    if not root:\n",
    "        return len(sequence) == 0\n",
    "\n",
    "    return find_path_recursive(root, sequence, 0)\n",
    "\n",
    "\n",
    "def find_path_recursive(currentNode, sequence, sequenceIndex):\n",
    "\n",
    "    if currentNode is None:\n",
    "        return False\n",
    "\n",
    "    seqLen = len(sequence)\n",
    "    if sequenceIndex >= seqLen or currentNode.val != sequence[sequenceIndex]:\n",
    "        return False\n",
    "\n",
    "    # if the current node is a leaf, add it is the end of the sequence, we have found a path!\n",
    "    if currentNode.left is None and currentNode.right is None and sequenceIndex == seqLen - 1:\n",
    "        return True\n",
    "\n",
    "    # recursively call to traverse the left and right sub-tree\n",
    "    # return true if any of the two recursive call return true\n",
    "    return find_path_recursive(currentNode.left, sequence, sequenceIndex + 1) or \\\n",
    "                 find_path_recursive(currentNode.right, sequence, sequenceIndex + 1)"
   ]
  }
 ],
 "metadata": {
  "kernelspec": {
   "display_name": "Python 3",
   "language": "python",
   "name": "python3"
  },
  "language_info": {
   "codemirror_mode": {
    "name": "ipython",
    "version": 3
   },
   "file_extension": ".py",
   "mimetype": "text/x-python",
   "name": "python",
   "nbconvert_exporter": "python",
   "pygments_lexer": "ipython3",
   "version": "3.7.3"
  }
 },
 "nbformat": 4,
 "nbformat_minor": 2
}
