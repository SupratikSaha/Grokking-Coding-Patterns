{
 "cells": [
  {
   "cell_type": "markdown",
   "metadata": {},
   "source": [
    "Problem Statement <br/>\n",
    "\n",
    "Given a binary tree and a number ‘S’, find all paths in the tree such that the sum of all the node values of each path equals ‘S’. Please note that the paths can start or end at any node but all paths must follow direction from parent to child (top to bottom). <br/>\n",
    "\n",
    "Example 1: <br/>\n",
    "[[1],[7,9],[6,5,2,3]] <br/>\n",
    "S: 12 <br/>\n",
    "Output: 3 <br/>\n",
    "Explanation: There are three paths with sum '12':7 -> 5, 1 -> 9 -> 2, and 9 -> 3 <br/>\n",
    "\n",
    "Example 2: <br/>\n",
    "[[1],[7,9],[6,5,2,3]] <br/>\n",
    "S: 11 <br/>\n",
    "Output: 2 <br/>\n",
    "Explanation: Here are the two paths with sum '11':7 -> 4 . and 1 -> 10."
   ]
  },
  {
   "cell_type": "markdown",
   "metadata": {},
   "source": [
    "# Depth First Search - O(N ^ 2) runtime, O(N) space"
   ]
  },
  {
   "cell_type": "code",
   "execution_count": 3,
   "metadata": {},
   "outputs": [],
   "source": [
    "def count_paths(root, S):\n",
    "    return count_paths_recursive(root, S, [])\n",
    "\n",
    "    \n",
    "def count_paths_recursive(currentNode, S, currentPath):\n",
    "    if currentNode is None:\n",
    "        return 0\n",
    "\n",
    "    # add the current node to the path\n",
    "    currentPath.append(currentNode.val)\n",
    "    pathCount, pathSum = 0, 0\n",
    "    # find the sums of all sub-paths in the current path list\n",
    "    for i in range(len(currentPath)-1, -1, -1):\n",
    "        pathSum += currentPath[i]\n",
    "        # if the sum of any sub-path is equal to 'S' we increment our path count.\n",
    "        if pathSum == S:\n",
    "            pathCount += 1\n",
    "\n",
    "    # traverse the left sub-tree\n",
    "    pathCount += count_paths_recursive(currentNode.left, S, currentPath)\n",
    "    # traverse the right sub-tree\n",
    "    pathCount += count_paths_recursive(currentNode.right, S, currentPath)\n",
    "\n",
    "    # remove the current node from the path to backtrack\n",
    "    # we need to remove the current node while we are going up the recursive call stack\n",
    "    del currentPath[-1]\n",
    "\n",
    "    return pathCount"
   ]
  }
 ],
 "metadata": {
  "kernelspec": {
   "display_name": "Python 3",
   "language": "python",
   "name": "python3"
  },
  "language_info": {
   "codemirror_mode": {
    "name": "ipython",
    "version": 3
   },
   "file_extension": ".py",
   "mimetype": "text/x-python",
   "name": "python",
   "nbconvert_exporter": "python",
   "pygments_lexer": "ipython3",
   "version": "3.7.3"
  }
 },
 "nbformat": 4,
 "nbformat_minor": 2
}
