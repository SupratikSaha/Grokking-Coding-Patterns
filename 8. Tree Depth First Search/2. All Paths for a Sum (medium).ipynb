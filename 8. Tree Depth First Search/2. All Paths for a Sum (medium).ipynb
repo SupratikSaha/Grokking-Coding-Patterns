{
 "cells": [
  {
   "cell_type": "markdown",
   "metadata": {},
   "source": [
    "Problem Statement <br/>\n",
    "\n",
    "Given a binary tree and a number ‘S’, find all paths from root-to-leaf such that the sum of all the node values of each path equals ‘S’. <br/>\n",
    "\n",
    "Example 1: <br/>\n",
    "[[1],[7,9],[4,5,2,7]] <br/>\n",
    "Sum: 12 <br/>\n",
    "Solution: [[1,7,4], [1,9,2]] <br/>\n",
    "\n",
    "Example 2: <br/>\n",
    "[[12],[7,1],[4,10,5]] <br/>\n",
    "Sum: 23 <br/>\n",
    "Solution: True [[12,7,4], [12,1,10]] <br/>\n",
    "Sum: 16 <br/>\n",
    "Solution: [] <br/>"
   ]
  },
  {
   "cell_type": "markdown",
   "metadata": {},
   "source": [
    "# Depth First Search - O(N * log N) runtime, O(N * log N) space, where N is the number of nodes"
   ]
  },
  {
   "cell_type": "code",
   "execution_count": 1,
   "metadata": {},
   "outputs": [],
   "source": [
    "def find_paths(root, sum_val):\n",
    "    allPaths = []\n",
    "    find_paths_recursive(root, sum_val, allPaths, [])\n",
    "    return allPaths\n",
    "\n",
    "def find_paths_recursive(root, sum_val, allPaths, curr_path):\n",
    "    if not root:\n",
    "        return\n",
    "    sum_val -= root.val\n",
    "    curr_path.append(root.val)\n",
    "    if sum_val == 0 and not root.left and not root.right:\n",
    "        allPaths.append(list(curr_path))\n",
    "        return\n",
    "    if root.left:\n",
    "        find_paths_recursive(root.left, sum_val, allPaths, curr_path)\n",
    "    if root.right:\n",
    "        find_paths_recursive(root.right, sum_val, allPaths, curr_path)\n",
    "    \n",
    "    del curr_path[-1]"
   ]
  }
 ],
 "metadata": {
  "kernelspec": {
   "display_name": "Python 3",
   "language": "python",
   "name": "python3"
  },
  "language_info": {
   "codemirror_mode": {
    "name": "ipython",
    "version": 3
   },
   "file_extension": ".py",
   "mimetype": "text/x-python",
   "name": "python",
   "nbconvert_exporter": "python",
   "pygments_lexer": "ipython3",
   "version": "3.7.3"
  }
 },
 "nbformat": 4,
 "nbformat_minor": 2
}
