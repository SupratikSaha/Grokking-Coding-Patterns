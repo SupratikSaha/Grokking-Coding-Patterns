{
 "cells": [
  {
   "cell_type": "markdown",
   "metadata": {},
   "source": [
    "Problem Statement <br/>\n",
    "\n",
    "Given an unsorted array of numbers, find the top ‘K’ frequently occurring numbers in it. <br/>\n",
    "\n",
    "Example 1: <br/>\n",
    "Input: [1, 3, 5, 12, 11, 12, 11], K = 2 <br/>\n",
    "Output: [12, 11] <br/>\n",
    "Explanation: Both '11' and '12' apeared twice. <br/>\n",
    "\n",
    "Example 2: <br/>\n",
    "Input: [5, 12, 11, 3, 11], K = 2 <br/>\n",
    "Output: [11, 5] or [11, 12] or [11, 3] <br/>\n",
    "Explanation: Only '11' appeared twice, all other numbers appeared once."
   ]
  },
  {
   "cell_type": "markdown",
   "metadata": {},
   "source": [
    "# Heap - O(N + N * log K) runtime, O(N) space, where N is the number of array elemens and K is the number of top frequency elements"
   ]
  },
  {
   "cell_type": "code",
   "execution_count": 3,
   "metadata": {},
   "outputs": [],
   "source": [
    "from heapq import *\n",
    "\n",
    "def find_k_frequent_numbers(nums, k):\n",
    "\n",
    "    # find the frequency of each number\n",
    "    numFrequencyMap = {}\n",
    "    for num in nums:\n",
    "        numFrequencyMap[num] = numFrequencyMap.get(num, 0) + 1\n",
    "\n",
    "    minHeap = []\n",
    "\n",
    "    # go through all numbers of the numFrequencyMap and push them in the minHeap, which will have\n",
    "    # top k frequent numbers. If the heap size is more than k, we remove the smallest(top) number\n",
    "    for num, frequency in numFrequencyMap.items():\n",
    "        heappush(minHeap, (frequency, num))\n",
    "        if len(minHeap) > k:\n",
    "            heappop(minHeap)\n",
    "\n",
    "    # create a list of top k numbers\n",
    "    topNumbers = []\n",
    "    while minHeap:\n",
    "        topNumbers.append(heappop(minHeap)[1])\n",
    "\n",
    "    return topNumbers"
   ]
  },
  {
   "cell_type": "code",
   "execution_count": 4,
   "metadata": {},
   "outputs": [
    {
     "data": {
      "text/plain": [
       "[12, 11]"
      ]
     },
     "execution_count": 4,
     "metadata": {},
     "output_type": "execute_result"
    }
   ],
   "source": [
    "find_k_frequent_numbers([5, 12, 11, 3, 11], 2)"
   ]
  }
 ],
 "metadata": {
  "kernelspec": {
   "display_name": "Python 3",
   "language": "python",
   "name": "python3"
  },
  "language_info": {
   "codemirror_mode": {
    "name": "ipython",
    "version": 3
   },
   "file_extension": ".py",
   "mimetype": "text/x-python",
   "name": "python",
   "nbconvert_exporter": "python",
   "pygments_lexer": "ipython3",
   "version": "3.7.3"
  }
 },
 "nbformat": 4,
 "nbformat_minor": 2
}
