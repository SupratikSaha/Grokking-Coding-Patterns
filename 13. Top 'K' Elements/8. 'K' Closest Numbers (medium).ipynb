{
 "cells": [
  {
   "cell_type": "markdown",
   "metadata": {},
   "source": [
    "Problem Statement <br/>\n",
    "\n",
    "Given a sorted number array and two integers ‘K’ and ‘X’, find ‘K’ closest numbers to ‘X’ in the array. Return the numbers in the sorted order. ‘X’ is not necessarily present in the array. <br/>\n",
    "\n",
    "Example 1: <br/>\n",
    "Input: [5, 6, 7, 8, 9], K = 3, X = 7 <br/>\n",
    "Output: [6, 7, 8] <br/>\n",
    "\n",
    "Example 2: <br/>\n",
    "Input: [2, 4, 5, 6, 9], K = 3, X = 6 <br/>\n",
    "Output: [4, 5, 6] <br/>\n",
    "\n",
    "Example 3: <br/>\n",
    "Input: [2, 4, 5, 6, 9], K = 3, X = 10 <br/>\n",
    "Output: [5, 6, 9]"
   ]
  },
  {
   "cell_type": "markdown",
   "metadata": {},
   "source": [
    "# Heap - O(logN+K∗logK) runtime, O(K) space"
   ]
  },
  {
   "cell_type": "code",
   "execution_count": 7,
   "metadata": {},
   "outputs": [],
   "source": [
    "from heapq import *\n",
    " \n",
    "def find_closest_elements(arr, K, X):\n",
    "    index = binary_search(arr, X)\n",
    "    low, high = index - K, index + K\n",
    " \n",
    "    low = max(low, 0)    # 'low' should not be less than zero\n",
    "    # 'high' should not be greater the size of the array\n",
    "    high = min(high, len(arr) - 1)\n",
    " \n",
    "    minHeap = []\n",
    "    # add all candidate elements to the min heap, sorted by their absolute difference from 'X'\n",
    "    for i in range(low, high+1):\n",
    "        heappush(minHeap, (abs(arr[i] - X), arr[i]))\n",
    " \n",
    "    # we need the top 'K' elements having smallest difference from 'X'\n",
    "    result = []\n",
    "    for _ in range(K):\n",
    "        result.append(heappop(minHeap)[1])\n",
    " \n",
    "    result.sort()\n",
    "    return result\n",
    " \n",
    "def binary_search(arr,    target):\n",
    "    low, high = 0, len(arr) - 1\n",
    "    while low <= high:\n",
    "        mid = int(low + (high - low) / 2)\n",
    "        if arr[mid] == target:\n",
    "            return mid\n",
    "        if arr[mid] < target:\n",
    "            low = mid + 1\n",
    "        else:\n",
    "            high = mid - 1\n",
    "    if low > 0:\n",
    "        return low - 1\n",
    "    return low"
   ]
  },
  {
   "cell_type": "markdown",
   "metadata": {},
   "source": [
    "# Two Pointers -  O(logN+K)) runtime, O(1) space"
   ]
  },
  {
   "cell_type": "code",
   "execution_count": 5,
   "metadata": {},
   "outputs": [],
   "source": [
    "from collections import deque\n",
    " \n",
    "def find_closest_elements(arr, K, X):\n",
    "    result = deque()\n",
    "    index = binary_search(arr, X)\n",
    "    leftPointer, rightPointer = index, index + 1\n",
    "    n = len(arr)\n",
    "    for i in range(K):\n",
    "        if leftPointer >= 0 and rightPointer < n:\n",
    "            diff1 = abs(X - arr[leftPointer])\n",
    "            diff2 = abs(X - arr[rightPointer])\n",
    "            if diff1 <= diff2:\n",
    "                result.appendleft(arr[leftPointer])\n",
    "                leftPointer -= 1\n",
    "            else:\n",
    "                result.append(arr[rightPointer])\n",
    "                rightPointer += 1\n",
    "        elif leftPointer >= 0:\n",
    "            result.appendleft(arr[leftPointer])\n",
    "            leftPointer -= 1\n",
    "        elif rightPointer < n:\n",
    "            result.append(arr[rightPointer])\n",
    "            rightPointer += 1\n",
    " \n",
    "    return list(result)\n",
    " \n",
    " \n",
    "def binary_search(arr,    target):\n",
    "    low, high = 0, len(arr) - 1\n",
    "    while low <= high:\n",
    "        mid = int(low + (high - low) / 2)\n",
    "        if arr[mid] == target:\n",
    "            return mid\n",
    "        if arr[mid] < target:\n",
    "            low = mid + 1\n",
    "        else:\n",
    "            high = mid - 1\n",
    "    if low > 0:\n",
    "        return low - 1\n",
    "    return low"
   ]
  },
  {
   "cell_type": "code",
   "execution_count": 8,
   "metadata": {},
   "outputs": [
    {
     "data": {
      "text/plain": [
       "[6, 7, 8]"
      ]
     },
     "execution_count": 8,
     "metadata": {},
     "output_type": "execute_result"
    }
   ],
   "source": [
    "find_closest_elements([5, 6, 7, 8, 9], 3, 7)"
   ]
  }
 ],
 "metadata": {
  "kernelspec": {
   "display_name": "Python 3",
   "language": "python",
   "name": "python3"
  },
  "language_info": {
   "codemirror_mode": {
    "name": "ipython",
    "version": 3
   },
   "file_extension": ".py",
   "mimetype": "text/x-python",
   "name": "python",
   "nbconvert_exporter": "python",
   "pygments_lexer": "ipython3",
   "version": "3.7.3"
  }
 },
 "nbformat": 4,
 "nbformat_minor": 2
}
