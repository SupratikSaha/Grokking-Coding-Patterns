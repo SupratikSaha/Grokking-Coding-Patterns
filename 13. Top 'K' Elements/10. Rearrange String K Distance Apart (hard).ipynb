{
 "cells": [
  {
   "cell_type": "markdown",
   "metadata": {},
   "source": [
    "Problem Statement <br/>\n",
    "\n",
    "Given a string and a number ‘K’, find if the string can be rearranged such that the same characters are at least ‘K’ distance apart from each other. <br/>\n",
    "\n",
    "Example 1: <br/>\n",
    "Input: \"mmpp\", K=2 <br/>\n",
    "Output: \"mpmp\" or \"pmpm\" <br/>\n",
    "Explanation: All same characters are 2 distance apart. <br/>\n",
    "\n",
    "Example 2: <br/>\n",
    "Input: \"Programming\", K=3 <br/>\n",
    "Output: \"rgmPrgmiano\" or \"gmringmrPoa\" or \"gmrPagimnor\" and a few more  <br/>\n",
    "Explanation: All same characters are 3 distance apart. <br/>\n",
    "\n",
    "Example 3: <br/>\n",
    "Input: \"aab\", K=2 <br/>\n",
    "Output: \"aba\" <br/>\n",
    "Explanation: All same characters are 2 distance apart. <br/>\n",
    "\n",
    "Example 4: <br/>\n",
    "Input: \"aappa\", K=3 <br/>\n",
    "Output: \"\" <br/>\n",
    "Explanation: We cannot find an arrangement of the string where any two 'a' are 3 distance apart."
   ]
  },
  {
   "cell_type": "markdown",
   "metadata": {},
   "source": [
    "# Heap - O(N log N) runtime, O(N) space"
   ]
  },
  {
   "cell_type": "code",
   "execution_count": 24,
   "metadata": {},
   "outputs": [],
   "source": [
    "from heapq import *\n",
    "from collections import deque\n",
    "\n",
    "\n",
    "def reorganize_string(str, k):\n",
    "    if k <= 1: \n",
    "        return str\n",
    "\n",
    "    charFrequencyMap = {}\n",
    "    for char in str:\n",
    "        charFrequencyMap[char] = charFrequencyMap.get(char, 0) + 1\n",
    "\n",
    "    maxHeap = []\n",
    "    # add all characters to the max heap\n",
    "    for char, frequency in charFrequencyMap.items():\n",
    "        heappush(maxHeap, (-frequency, char))\n",
    "\n",
    "    queue = deque()\n",
    "    resultString = []\n",
    "    while maxHeap:\n",
    "        frequency, char = heappop(maxHeap)\n",
    "        # append the current character to the result string and decrement its count\n",
    "        resultString.append(char)\n",
    "        # decrement the frequency and append to the queue\n",
    "        queue.append((char, frequency+1))\n",
    "        if len(queue) == k:\n",
    "            char, frequency = queue.popleft()\n",
    "            if -frequency > 0:\n",
    "                heappush(maxHeap, (frequency, char))\n",
    "\n",
    "    # if we were successful in appending all the characters to the result string, return it\n",
    "    return ''.join(resultString) if len(resultString) == len(str) else \"\""
   ]
  },
  {
   "cell_type": "code",
   "execution_count": 26,
   "metadata": {},
   "outputs": [
    {
     "data": {
      "text/plain": [
       "'gmrPagimnor'"
      ]
     },
     "execution_count": 26,
     "metadata": {},
     "output_type": "execute_result"
    }
   ],
   "source": [
    "reorganize_string(\"Programming\",2)"
   ]
  }
 ],
 "metadata": {
  "kernelspec": {
   "display_name": "Python 3",
   "language": "python",
   "name": "python3"
  },
  "language_info": {
   "codemirror_mode": {
    "name": "ipython",
    "version": 3
   },
   "file_extension": ".py",
   "mimetype": "text/x-python",
   "name": "python",
   "nbconvert_exporter": "python",
   "pygments_lexer": "ipython3",
   "version": "3.7.3"
  }
 },
 "nbformat": 4,
 "nbformat_minor": 2
}
