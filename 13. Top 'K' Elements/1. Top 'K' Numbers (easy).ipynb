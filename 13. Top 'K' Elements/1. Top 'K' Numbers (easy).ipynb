{
 "cells": [
  {
   "cell_type": "markdown",
   "metadata": {},
   "source": [
    "Problem Statement <br/>\n",
    "\n",
    "Given an unsorted array of numbers, find the ‘K’ largest numbers in it. <br/>\n",
    "\n",
    "Note: For a detailed discussion about different approaches to solve this problem, take a look at Kth Smallest Number. <br/>\n",
    "\n",
    "Example 1: <br/>\n",
    "Input: [3, 1, 5, 12, 2, 11], K = 3 <br/>\n",
    "Output: [5, 12, 11] <br/>\n",
    "\n",
    "Example 2: <br/>\n",
    "Input: [5, 12, 11, -1, 12], K = 3 <br/>\n",
    "Output: [12, 11, 12]"
   ]
  },
  {
   "cell_type": "markdown",
   "metadata": {},
   "source": [
    "# Heap - O(N *log K) runtime, O(K) space, where N is the number of elements in the array and we are searching for top K numbers"
   ]
  },
  {
   "cell_type": "code",
   "execution_count": 1,
   "metadata": {},
   "outputs": [],
   "source": [
    "from heapq import *\n",
    "\n",
    "def find_k_largest_numbers(nums, k):\n",
    "    minHeap = []\n",
    "    # put first 'K' numbers in the min heap\n",
    "    for i in range(k):\n",
    "        heappush(minHeap, nums[i])\n",
    "\n",
    "    # go through the remaining numbers of the array, if the number from the array is bigger than the\n",
    "    # top(smallest) number of the min-heap, remove the top number from heap and add the number from array\n",
    "    for i in range(k, len(nums)):\n",
    "        if nums[i] > minHeap[0]:\n",
    "            heappop(minHeap)\n",
    "            heappush(minHeap, nums[i])\n",
    "\n",
    "    # the heap has the top 'K' numbers, return them in a list\n",
    "    return list(minHeap)"
   ]
  },
  {
   "cell_type": "code",
   "execution_count": 2,
   "metadata": {},
   "outputs": [
    {
     "data": {
      "text/plain": [
       "[11, 12, 12]"
      ]
     },
     "execution_count": 2,
     "metadata": {},
     "output_type": "execute_result"
    }
   ],
   "source": [
    "find_k_largest_numbers([5, 12, 11, -1, 12], 3)"
   ]
  }
 ],
 "metadata": {
  "kernelspec": {
   "display_name": "Python 3",
   "language": "python",
   "name": "python3"
  },
  "language_info": {
   "codemirror_mode": {
    "name": "ipython",
    "version": 3
   },
   "file_extension": ".py",
   "mimetype": "text/x-python",
   "name": "python",
   "nbconvert_exporter": "python",
   "pygments_lexer": "ipython3",
   "version": "3.7.3"
  }
 },
 "nbformat": 4,
 "nbformat_minor": 2
}
