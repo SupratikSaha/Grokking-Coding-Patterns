{
 "cells": [
  {
   "cell_type": "markdown",
   "metadata": {},
   "source": [
    "Problem Statement <br/>\n",
    "\n",
    "Given an array of points in the a 2D plane, find ‘K’ closest points to the origin. <br/>\n",
    "\n",
    "Example 1: <br/>\n",
    "\n",
    "Input: points = [[1,2],[1,3]], K = 1 <br/>\n",
    "Output: [[1,2]] <br/>\n",
    "Explanation: The Euclidean distance between (1, 2) and the origin is sqrt(5). <br/>\n",
    "The Euclidean distance between (1, 3) and the origin is sqrt(10). <br/>\n",
    "Since sqrt(5) < sqrt(10), therefore (1, 2) is closer to the origin. <br/>\n",
    "\n",
    "Example 2: <br/>\n",
    "Input: point = [[1, 3], [3, 4], [2, -1]], K = 2 <br/>\n",
    "Output: [[1, 3], [2, -1]]"
   ]
  },
  {
   "cell_type": "markdown",
   "metadata": {},
   "source": [
    "# Heap - O(N * log K) runtime, O(K) space, where N is the number of elements in the array and we are looking for the Kth smallest element"
   ]
  },
  {
   "cell_type": "code",
   "execution_count": 1,
   "metadata": {},
   "outputs": [],
   "source": [
    "from __future__ import print_function\n",
    "from heapq import *\n",
    "\n",
    "class Point:\n",
    "\n",
    "    def __init__(self, x, y):\n",
    "        self.x = x\n",
    "        self.y = y\n",
    "\n",
    "    # used for max-heap\n",
    "    def __lt__(self, other):\n",
    "        return self.distance_from_origin() > other.distance_from_origin()\n",
    "\n",
    "    def distance_from_origin(self):\n",
    "        # ignoring sqrt to calculate the distance\n",
    "        return (self.x * self.x) + (self.y * self.y)\n",
    "\n",
    "    def print_point(self):\n",
    "        print(\"[\" + str(self.x) + \", \" + str(self.y) + \"] \", end='')\n",
    "\n",
    "def find_closest_points(points, k):\n",
    "    maxHeap = []\n",
    "    # put first 'k' points in the max heap\n",
    "    for i in range(k):\n",
    "        heappush(maxHeap, points[i])\n",
    "\n",
    "    # go through the remaining points of the input array, if a point is closer to the origin than the top point\n",
    "    # of the max-heap, remove the top point from heap and add the point from the input array\n",
    "    for i in range(k, len(points)):\n",
    "        if points[i].distance_from_origin() < maxHeap[0].distance_from_origin():\n",
    "            heappop(maxHeap)\n",
    "            heappush(maxHeap, points[i])\n",
    "\n",
    "    # the heap has 'k' points closest to the origin, return them in a list\n",
    "    return list(maxHeap)"
   ]
  },
  {
   "cell_type": "code",
   "execution_count": 2,
   "metadata": {},
   "outputs": [
    {
     "name": "stdout",
     "output_type": "stream",
     "text": [
      "Here are the k points closest the origin: [1, 3] [2, -1] "
     ]
    }
   ],
   "source": [
    "result = find_closest_points([Point(1, 3), Point(3, 4), Point(2, -1)], 2)\n",
    "print(\"Here are the k points closest the origin: \", end='')\n",
    "for point in result:\n",
    "    point.print_point()"
   ]
  }
 ],
 "metadata": {
  "kernelspec": {
   "display_name": "Python 3",
   "language": "python",
   "name": "python3"
  },
  "language_info": {
   "codemirror_mode": {
    "name": "ipython",
    "version": 3
   },
   "file_extension": ".py",
   "mimetype": "text/x-python",
   "name": "python",
   "nbconvert_exporter": "python",
   "pygments_lexer": "ipython3",
   "version": "3.7.3"
  }
 },
 "nbformat": 4,
 "nbformat_minor": 2
}
