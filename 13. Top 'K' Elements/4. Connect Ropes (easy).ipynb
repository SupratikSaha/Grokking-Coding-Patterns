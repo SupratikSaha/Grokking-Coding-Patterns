{
 "cells": [
  {
   "cell_type": "markdown",
   "metadata": {},
   "source": [
    "Problem Statement <br/>\n",
    "\n",
    "Given ‘N’ ropes with different lengths, we need to connect these ropes into one big rope with minimum cost. The cost of connecting two ropes is equal to the sum of their lengths. <br/>\n",
    "\n",
    "Example 1: <br/>\n",
    "Input: [1, 3, 11, 5] <br/>\n",
    "Output: 33 <br/>\n",
    "Explanation: First connect 1+3(=4), then 4+5(=9), and then 9+11(=20). So the total cost is 33 (4+9+20) <br/>\n",
    "\n",
    "Example 2: <br/>\n",
    "Input: [3, 4, 5, 6] <br/>\n",
    "Output: 36 <br/>\n",
    "Explanation: First connect 3+4(=7), then 5+6(=11), 7+11(=18). Total cost is 36 (7+11+18) <br/>\n",
    "\n",
    "Example 3: <br/>\n",
    "Input: [1, 3, 11, 5, 2] <br/>\n",
    "Output: 42 <br/>\n",
    "Explanation: First connect 1+2(=3), then 3+3(=6), 6+5(=11), 11+11(=22). Total cost is 42 (3+6+11+22)"
   ]
  },
  {
   "cell_type": "markdown",
   "metadata": {},
   "source": [
    "# Heap - O(N * log N) runtime, O(N) space"
   ]
  },
  {
   "cell_type": "code",
   "execution_count": 1,
   "metadata": {},
   "outputs": [],
   "source": [
    "from heapq import *\n",
    "\n",
    "def minimum_cost_to_connect_ropes(ropeLengths):\n",
    "    minHeap = []\n",
    "    # add all ropes to the min heap\n",
    "    for i in ropeLengths:\n",
    "        heappush(minHeap, i)\n",
    "\n",
    "    # go through the values of the heap, in each step take top (lowest) rope lengths from the min heap\n",
    "    # connect them and push the result back to the min heap.\n",
    "    # keep doing this until the heap is left with only one rope\n",
    "    result, temp = 0, 0\n",
    "    while len(minHeap) > 1:\n",
    "        temp = heappop(minHeap) + heappop(minHeap)\n",
    "        result += temp\n",
    "        heappush(minHeap, temp)\n",
    "\n",
    "    return result"
   ]
  },
  {
   "cell_type": "code",
   "execution_count": 2,
   "metadata": {},
   "outputs": [
    {
     "data": {
      "text/plain": [
       "42"
      ]
     },
     "execution_count": 2,
     "metadata": {},
     "output_type": "execute_result"
    }
   ],
   "source": [
    "minimum_cost_to_connect_ropes([1, 3, 11, 5, 2])"
   ]
  }
 ],
 "metadata": {
  "kernelspec": {
   "display_name": "Python 3",
   "language": "python",
   "name": "python3"
  },
  "language_info": {
   "codemirror_mode": {
    "name": "ipython",
    "version": 3
   },
   "file_extension": ".py",
   "mimetype": "text/x-python",
   "name": "python",
   "nbconvert_exporter": "python",
   "pygments_lexer": "ipython3",
   "version": "3.7.3"
  }
 },
 "nbformat": 4,
 "nbformat_minor": 2
}
