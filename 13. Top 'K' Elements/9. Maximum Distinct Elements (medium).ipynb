{
 "cells": [
  {
   "cell_type": "markdown",
   "metadata": {},
   "source": [
    "Problem Statement <br/>\n",
    "\n",
    "Given an array of numbers and a number ‘K’, we need to remove ‘K’ numbers from the array such that we are left with maximum distinct numbers. <br/>\n",
    "\n",
    "Example 1: <br/>\n",
    "\n",
    "Input: [7, 3, 5, 8, 5, 3, 3], and K=2 <br/>\n",
    "Output: 3 <br/>\n",
    "Explanation: We can remove two occurrences of 3 to be left with 3 distinct numbers [7, 3, 8], we have \n",
    "to skip 5 because it is not distinct and occurred twice. <br/>\n",
    "Another solution could be to remove one instance of '5' and '3' each to be left with three \n",
    "distinct numbers [7, 5, 8], in this case, we have to skip 3 because it occurred twice. <br/>\n",
    "\n",
    "Example 2: <br/>\n",
    "Input: [3, 5, 12, 11, 12], and K=3 <br/>\n",
    "Output: 2 <br/>\n",
    "Explanation: We can remove one occurrence of 12, after which all numbers will become distinct. Then \n",
    "we can delete any two numbers which will leave us 2 distinct numbers in the result. <br/>\n",
    "\n",
    "Example 3: <br/>\n",
    "Input: [1, 2, 3, 3, 3, 3, 4, 4, 5, 5, 5], and K=2 <br/>\n",
    "Output: 3 <br/>\n",
    "Explanation: We can remove one occurrence of '4' to get three distinct numbers."
   ]
  },
  {
   "cell_type": "markdown",
   "metadata": {},
   "source": [
    "# Heap - O(NlogK + K logK) runtime, O(N) space"
   ]
  },
  {
   "cell_type": "code",
   "execution_count": 1,
   "metadata": {},
   "outputs": [],
   "source": [
    "from heapq import *\n",
    "\n",
    "def find_maximum_distinct_elements(nums, k):\n",
    "    distinctElementsCount = 0\n",
    "    if len(nums) <= k:\n",
    "        return distinctElementsCount\n",
    "\n",
    "    # find the frequency of each number\n",
    "    numFrequencyMap = {}\n",
    "    for i in nums:\n",
    "        numFrequencyMap[i] = numFrequencyMap.get(i, 0) + 1\n",
    "\n",
    "    minHeap = []\n",
    "    # insert all numbers with frequency greater than '1' into the min-heap\n",
    "    for num, frequency in numFrequencyMap.items():\n",
    "        if frequency == 1:\n",
    "            distinctElementsCount += 1\n",
    "        else:\n",
    "            heappush(minHeap, (frequency, num))\n",
    "\n",
    "    # following a greedy approach, try removing the least frequent numbers first from the min-heap\n",
    "    while k > 0 and minHeap:\n",
    "        frequency, num = heappop(minHeap)\n",
    "        # to make an element distinct, we need to remove all of its occurrences except one\n",
    "        k -= frequency - 1\n",
    "        if k >= 0:\n",
    "            distinctElementsCount += 1\n",
    "\n",
    "    # if k > 0, this means we have to remove some distinct numbers\n",
    "    if k > 0:\n",
    "        distinctElementsCount -= k\n",
    "\n",
    "    return distinctElementsCount"
   ]
  },
  {
   "cell_type": "code",
   "execution_count": 2,
   "metadata": {},
   "outputs": [
    {
     "data": {
      "text/plain": [
       "3"
      ]
     },
     "execution_count": 2,
     "metadata": {},
     "output_type": "execute_result"
    }
   ],
   "source": [
    "find_maximum_distinct_elements([1, 2, 3, 3, 3, 3, 4, 4, 5, 5, 5], 2)"
   ]
  }
 ],
 "metadata": {
  "kernelspec": {
   "display_name": "Python 3",
   "language": "python",
   "name": "python3"
  },
  "language_info": {
   "codemirror_mode": {
    "name": "ipython",
    "version": 3
   },
   "file_extension": ".py",
   "mimetype": "text/x-python",
   "name": "python",
   "nbconvert_exporter": "python",
   "pygments_lexer": "ipython3",
   "version": "3.7.3"
  }
 },
 "nbformat": 4,
 "nbformat_minor": 2
}
