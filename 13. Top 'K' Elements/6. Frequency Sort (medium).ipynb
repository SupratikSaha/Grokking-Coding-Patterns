{
 "cells": [
  {
   "cell_type": "markdown",
   "metadata": {},
   "source": [
    "Problem Statement <br/>\n",
    "\n",
    "Given a string, sort it based on the decreasing frequency of its characters. <br/>\n",
    "\n",
    "Example 1: <br/>\n",
    "Input: \"Programming\" <br/>\n",
    "Output: \"rrggmmPiano\" <br/>\n",
    "Explanation: 'r', 'g', and 'm' appeared twice, so they need to appear before any other character. <br/>\n",
    "\n",
    "Example 2: <br/>\n",
    "Input: \"abcbab\" <br/>\n",
    "Output: \"bbbaac\" <br/>\n",
    "Explanation: 'b' appeared three times, 'a' appeared twice, and 'c' appeared only once."
   ]
  },
  {
   "cell_type": "markdown",
   "metadata": {},
   "source": [
    "# Heap - O(N*logN) runtime, O(N) space"
   ]
  },
  {
   "cell_type": "code",
   "execution_count": 1,
   "metadata": {},
   "outputs": [],
   "source": [
    "from heapq import *\n",
    "\n",
    "def sort_character_by_frequency(str):\n",
    "\n",
    "    # find the frequency of each character\n",
    "    charFrequencyMap = {}\n",
    "    for char in str:\n",
    "        charFrequencyMap[char] = charFrequencyMap.get(char, 0) + 1\n",
    "\n",
    "    maxHeap = []\n",
    "    # add all characters to the max heap\n",
    "    for char, frequency in charFrequencyMap.items():\n",
    "        heappush(maxHeap, (-frequency, char))\n",
    "\n",
    "    # build a string, appending the most occurring characters first\n",
    "    sortedString = []\n",
    "    while maxHeap:\n",
    "        frequency, char = heappop(maxHeap)\n",
    "        for _ in range(-frequency):\n",
    "            sortedString.append(char)\n",
    "\n",
    "    return ''.join(sortedString)"
   ]
  },
  {
   "cell_type": "code",
   "execution_count": 2,
   "metadata": {},
   "outputs": [
    {
     "data": {
      "text/plain": [
       "'ggmmrrPaino'"
      ]
     },
     "execution_count": 2,
     "metadata": {},
     "output_type": "execute_result"
    }
   ],
   "source": [
    "sort_character_by_frequency(\"Programming\")"
   ]
  }
 ],
 "metadata": {
  "kernelspec": {
   "display_name": "Python 3",
   "language": "python",
   "name": "python3"
  },
  "language_info": {
   "codemirror_mode": {
    "name": "ipython",
    "version": 3
   },
   "file_extension": ".py",
   "mimetype": "text/x-python",
   "name": "python",
   "nbconvert_exporter": "python",
   "pygments_lexer": "ipython3",
   "version": "3.7.3"
  }
 },
 "nbformat": 4,
 "nbformat_minor": 2
}
