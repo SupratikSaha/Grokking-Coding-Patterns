{
 "cells": [
  {
   "cell_type": "markdown",
   "metadata": {},
   "source": [
    "Problem Statement <br/>\n",
    "\n",
    "Design a class to efficiently find the Kth largest element in a stream of numbers. <br/>\n",
    "\n",
    "The class should have the following two things: <br/>\n",
    "\n",
    "    The constructor of the class should accept an integer array containing initial numbers from the stream and an integer ‘K’. <br/>\n",
    "    The class should expose a function add(int num) which will store the given number and return the Kth largest number. <br/>\n",
    "\n",
    "Example 1: <br/>\n",
    "Input: [3, 1, 5, 12, 2, 11], K = 4 <br/>\n",
    "1. Calling add(6) should return '5'. <br/>\n",
    "2. Calling add(13) should return '6'. <br/>\n",
    "2. Calling add(4) should still return '6'."
   ]
  },
  {
   "cell_type": "markdown",
   "metadata": {},
   "source": [
    "# Heap - O(log K) runtime, O(K) space"
   ]
  },
  {
   "cell_type": "code",
   "execution_count": 3,
   "metadata": {},
   "outputs": [],
   "source": [
    "from heapq import *\n",
    "\n",
    "class KthLargestNumberInStream:\n",
    "    def __init__(self, nums, k):\n",
    "        self.k = k\n",
    "        self.minheap = []\n",
    "        self.createMinHeap(nums)\n",
    "    \n",
    "    def createMinHeap(self, nums):\n",
    "        length = min(len(nums), self.k)\n",
    "        for i in range(length):\n",
    "            heappush(self.minheap, nums[i])\n",
    "        \n",
    "        \n",
    "        for j in range(i + 1, len(nums)):\n",
    "            if nums[j] > self.minheap[0]:\n",
    "                heappop(self.minheap)\n",
    "                heappush(self.minheap, nums[j])\n",
    "        print(self.minheap)\n",
    "\n",
    "\n",
    "    def add(self, num):\n",
    "        if len(self.minheap) < self.k:\n",
    "            heappush(self.minheap, num)\n",
    "        elif num > self.minheap[0]:\n",
    "                heappop(self.minheap)\n",
    "                heappush(self.minheap, num)\n",
    "        return self.minheap[0]"
   ]
  },
  {
   "cell_type": "code",
   "execution_count": 4,
   "metadata": {},
   "outputs": [
    {
     "name": "stdout",
     "output_type": "stream",
     "text": [
      "[3, 11, 5, 12]\n",
      "4th largest number is: 5\n"
     ]
    }
   ],
   "source": [
    "kthLargestNumber = KthLargestNumberInStream([3, 1, 5, 12, 2, 11], 4)\n",
    "print(\"4th largest number is: \" + str(kthLargestNumber.add(6)))"
   ]
  }
 ],
 "metadata": {
  "kernelspec": {
   "display_name": "Python 3",
   "language": "python",
   "name": "python3"
  },
  "language_info": {
   "codemirror_mode": {
    "name": "ipython",
    "version": 3
   },
   "file_extension": ".py",
   "mimetype": "text/x-python",
   "name": "python",
   "nbconvert_exporter": "python",
   "pygments_lexer": "ipython3",
   "version": "3.7.3"
  }
 },
 "nbformat": 4,
 "nbformat_minor": 2
}
