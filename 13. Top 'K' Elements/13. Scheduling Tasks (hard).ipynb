{
 "cells": [
  {
   "cell_type": "markdown",
   "metadata": {},
   "source": [
    "Problem Statement <br/>\n",
    "\n",
    "You are given a list of tasks that need to be run, in any order, on a server. Each task will take one CPU interval to execute but once a task has finished, it has a cooling period during which it can’t be run again. If the cooling period for all tasks is ‘K’ intervals, find the minimum number of CPU intervals that the server needs to finish all tasks. <br/>\n",
    "\n",
    "If at any time the server can’t execute any task then it must stay idle. <br/>\n",
    "\n",
    "Example 1: <br/>\n",
    "Input: [a, a, a, b, c, c], K=2 <br/>\n",
    "Output: 7 <br/>\n",
    "Explanation: a -> c -> b -> a -> c -> idle -> a <br/>\n",
    "\n",
    "Example 2: <br/>\n",
    "Input: [a, b, a], K=3 <br/>\n",
    "Output: 5 <br/>\n",
    "Explanation: a -> b -> idle -> idle -> a"
   ]
  },
  {
   "cell_type": "markdown",
   "metadata": {},
   "source": [
    "# heap - O(N logN) runtime, O(N) space "
   ]
  },
  {
   "cell_type": "code",
   "execution_count": 1,
   "metadata": {},
   "outputs": [],
   "source": [
    "from heapq import *\n",
    "\n",
    "def schedule_tasks(tasks, k):\n",
    "    intervalCount = 0\n",
    "    taskFrequencyMap = {}\n",
    "    for char in tasks:\n",
    "        taskFrequencyMap[char] = taskFrequencyMap.get(char, 0) + 1\n",
    "\n",
    "    maxHeap = []\n",
    "    # add all tasks to the max heap\n",
    "    for char, frequency in taskFrequencyMap.items():\n",
    "        heappush(maxHeap, (-frequency, char))\n",
    "\n",
    "    while maxHeap:\n",
    "        waitList = []\n",
    "        n = k + 1    # try to execute as many as 'k+1' tasks from the max-heap\n",
    "        while n > 0 and maxHeap:\n",
    "            intervalCount += 1\n",
    "            frequency, char = heappop(maxHeap)\n",
    "            if -frequency > 1:\n",
    "                # decrement the frequency and add to the waitList\n",
    "                waitList.append((frequency+1, char))\n",
    "            n -= 1\n",
    "\n",
    "        # put all the waiting list back on the heap\n",
    "        for frequency, char in waitList:\n",
    "            heappush(maxHeap, (frequency, char))\n",
    "\n",
    "        if maxHeap:\n",
    "            intervalCount += n    # we'll be having 'n' idle intervals for the next iteration\n",
    "\n",
    "    return intervalCount"
   ]
  },
  {
   "cell_type": "code",
   "execution_count": 3,
   "metadata": {},
   "outputs": [
    {
     "data": {
      "text/plain": [
       "7"
      ]
     },
     "execution_count": 3,
     "metadata": {},
     "output_type": "execute_result"
    }
   ],
   "source": [
    "schedule_tasks(['a', 'a', 'a', 'b', 'c', 'c'], 2)"
   ]
  }
 ],
 "metadata": {
  "kernelspec": {
   "display_name": "Python 3",
   "language": "python",
   "name": "python3"
  },
  "language_info": {
   "codemirror_mode": {
    "name": "ipython",
    "version": 3
   },
   "file_extension": ".py",
   "mimetype": "text/x-python",
   "name": "python",
   "nbconvert_exporter": "python",
   "pygments_lexer": "ipython3",
   "version": "3.7.3"
  }
 },
 "nbformat": 4,
 "nbformat_minor": 2
}
