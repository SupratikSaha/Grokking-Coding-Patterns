{
 "cells": [
  {
   "cell_type": "markdown",
   "metadata": {},
   "source": [
    "Problem Statement <br/>\n",
    "\n",
    "Given a string, find if its letters can be rearranged in such a way that no two same characters come next to each other. <br/>\n",
    "\n",
    "Example 1: <br/>\n",
    "Input: \"aappp\" <br/>\n",
    "Output: \"papap\" <br/>\n",
    "Explanation: In \"papap\", none of the repeating characters come next to each other. <br/>\n",
    "\n",
    "Example 2: <br/>\n",
    "Input: \"Programming\" <br/>\n",
    "Output: \"rgmrgmPiano\" or \"gmringmrPoa\" or \"gmrPagimnor\", etc. <br/>\n",
    "Explanation: None of the repeating characters come next to each other. <br/>\n",
    "\n",
    "Example 3: <br/>\n",
    "Input: \"aapa\" <br/>\n",
    "Output: \"\" <br/>\n",
    "Explanation: In all arrangements of \"aapa\", atleast two 'a' will come together e.g., \"apaa\", \"paaa\"."
   ]
  },
  {
   "cell_type": "markdown",
   "metadata": {},
   "source": [
    "# Heap - O(N * logN) runtime, O(N) space"
   ]
  },
  {
   "cell_type": "code",
   "execution_count": 1,
   "metadata": {},
   "outputs": [],
   "source": [
    "from heapq import *\n",
    "\n",
    "def rearrange_string(str):\n",
    "    charFrequencyMap = {}\n",
    "    for char in str:\n",
    "        charFrequencyMap[char] = charFrequencyMap.get(char, 0) + 1\n",
    "\n",
    "    maxHeap = []\n",
    "    # add all characters to the max heap\n",
    "    for char, frequency in charFrequencyMap.items():\n",
    "        heappush(maxHeap, (-frequency, char))\n",
    "\n",
    "    previousChar, previousFrequency = None, 0\n",
    "    resultString = []\n",
    "    while maxHeap:\n",
    "        frequency, char = heappop(maxHeap)\n",
    "        # add the previous entry back in the heap if its frequency is greater than zero\n",
    "        if previousChar and -previousFrequency > 0:\n",
    "            heappush(maxHeap, (previousFrequency, previousChar))\n",
    "        # append the current character to the result string and decrement its count\n",
    "        resultString.append(char)\n",
    "        previousChar = char\n",
    "        previousFrequency = frequency+1    # decrement the frequency\n",
    "\n",
    "    # if we were successful in appending all the characters to the result string, return it\n",
    "    return ''.join(resultString) if len(resultString) == len(str) else \"\""
   ]
  },
  {
   "cell_type": "code",
   "execution_count": 2,
   "metadata": {},
   "outputs": [
    {
     "data": {
      "text/plain": [
       "'gmrPagimnor'"
      ]
     },
     "execution_count": 2,
     "metadata": {},
     "output_type": "execute_result"
    }
   ],
   "source": [
    "rearrange_string(\"Programming\")"
   ]
  }
 ],
 "metadata": {
  "kernelspec": {
   "display_name": "Python 3",
   "language": "python",
   "name": "python3"
  },
  "language_info": {
   "codemirror_mode": {
    "name": "ipython",
    "version": 3
   },
   "file_extension": ".py",
   "mimetype": "text/x-python",
   "name": "python",
   "nbconvert_exporter": "python",
   "pygments_lexer": "ipython3",
   "version": "3.7.3"
  }
 },
 "nbformat": 4,
 "nbformat_minor": 2
}
