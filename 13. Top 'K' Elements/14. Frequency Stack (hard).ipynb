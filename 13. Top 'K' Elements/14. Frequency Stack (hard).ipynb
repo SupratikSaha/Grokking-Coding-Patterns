{
 "cells": [
  {
   "cell_type": "markdown",
   "metadata": {},
   "source": [
    "Problem Statement <br/>\n",
    "\n",
    "Design a class that simulates a Stack data structure, implementing the following two operations: <br/>\n",
    "\n",
    "    push(int num): Pushes the number ‘num’ on the stack. <br/>\n",
    "    pop(): Returns the most frequent number in the stack. If there is a tie, return the number which was pushed later. <br/>\n",
    "\n",
    "Example: <br/>\n",
    "After following push operations: push(1), push(2), push(3), push(2), push(1), push(2), push(5) <br/>\n",
    " \n",
    "1. pop() should return 2, as it is the most frequent number <br/>\n",
    "2. Next pop() should return 1 <br/>\n",
    "3. Next pop() should return 2"
   ]
  },
  {
   "cell_type": "markdown",
   "metadata": {},
   "source": [
    "# Heap - O(log N) runtime, O(N) space"
   ]
  },
  {
   "cell_type": "code",
   "execution_count": 1,
   "metadata": {},
   "outputs": [],
   "source": [
    "from heapq import *\n",
    "\n",
    "class Element:\n",
    "\n",
    "  def __init__(self, number, frequency, sequenceNumber):\n",
    "     self.number = number\n",
    "     self.frequency = frequency\n",
    "     self.sequenceNumber = sequenceNumber\n",
    "\n",
    "  def __lt__(self, other):\n",
    "     # higher frequency wins\n",
    "     if self.frequency != other.frequency:\n",
    "        return self.frequency > other.frequency\n",
    "     # if both elements have same frequency, return the element that was pushed later\n",
    "     return self.sequenceNumber > other.sequenceNumber\n",
    "\n",
    "class FrequencyStack:\n",
    "  sequenceNumber = 0\n",
    "  maxHeap = []\n",
    "  frequencyMap = {}\n",
    "\n",
    "  def push(self, num):\n",
    "     self.frequencyMap[num] = self.frequencyMap.get(num, 0) + 1\n",
    "     heappush(self.maxHeap, Element(\n",
    "        num, self.frequencyMap[num], self.sequenceNumber))\n",
    "     self.sequenceNumber += 1\n",
    "\n",
    "  def pop(self):\n",
    "     num = heappop(self.maxHeap).number\n",
    "     # decrement the frequency or remove if this is the last number\n",
    "     if self.frequencyMap[num] > 1:\n",
    "        self.frequencyMap[num] -= 1\n",
    "     else:\n",
    "        del self.frequencyMap[num]\n",
    "\n",
    "     return num"
   ]
  },
  {
   "cell_type": "code",
   "execution_count": 2,
   "metadata": {},
   "outputs": [
    {
     "name": "stdout",
     "output_type": "stream",
     "text": [
      "2\n",
      "1\n",
      "2\n"
     ]
    }
   ],
   "source": [
    "frequencyStack = FrequencyStack()\n",
    "frequencyStack.push(1)\n",
    "frequencyStack.push(2)\n",
    "frequencyStack.push(3)\n",
    "frequencyStack.push(2)\n",
    "frequencyStack.push(1)\n",
    "frequencyStack.push(2)\n",
    "frequencyStack.push(5)\n",
    "print(frequencyStack.pop())\n",
    "print(frequencyStack.pop())\n",
    "print(frequencyStack.pop())"
   ]
  }
 ],
 "metadata": {
  "kernelspec": {
   "display_name": "Python 3",
   "language": "python",
   "name": "python3"
  },
  "language_info": {
   "codemirror_mode": {
    "name": "ipython",
    "version": 3
   },
   "file_extension": ".py",
   "mimetype": "text/x-python",
   "name": "python",
   "nbconvert_exporter": "python",
   "pygments_lexer": "ipython3",
   "version": "3.7.3"
  }
 },
 "nbformat": 4,
 "nbformat_minor": 2
}
