{
 "cells": [
  {
   "cell_type": "markdown",
   "metadata": {},
   "source": [
    "Problem Statement <br/>\n",
    "\n",
    "Given an unsorted array of numbers, find Kth smallest number in it. <br/>\n",
    "\n",
    "Please note that it is the Kth smallest number in the sorted order, not the Kth distinct element. <br/>\n",
    "\n",
    "Note: For a detailed discussion about different approaches to solve this problem, take a look at Kth Smallest Number. <br/>\n",
    "\n",
    "Example 1: <br/>\n",
    "Input: [1, 5, 12, 2, 11, 5], K = 3 <br/>\n",
    "Output: 5 <br/>\n",
    "Explanation: The 3rd smallest number is '5', as the first two smaller numbers are [1, 2]. <br/>\n",
    "\n",
    "Example 2: <br/>\n",
    "Input: [1, 5, 12, 2, 11, 5], K = 4 <br/>\n",
    "Output: 5 <br/>\n",
    "Explanation: The 4th smallest number is '5', as the first three small numbers are [1, 2, 5]. <br/>\n",
    "\n",
    "Example 3: <br/>\n",
    "Input: [5, 12, 11, -1, 12], K = 3 <br/>\n",
    "Output: 11 <br/>\n",
    "Explanation: The 3rd smallest number is '11', as the first two small numbers are [5, -1]."
   ]
  },
  {
   "cell_type": "markdown",
   "metadata": {},
   "source": [
    "# Heap - O(N * log K) runtime, O(K) space, where N is the number of elements in the array and we are looking for the Kth smallest element"
   ]
  },
  {
   "cell_type": "code",
   "execution_count": 1,
   "metadata": {},
   "outputs": [],
   "source": [
    "from heapq import *\n",
    "\n",
    "def find_Kth_smallest_number(nums, k):\n",
    "    maxHeap = []\n",
    "    # put first k numbers in the max heap\n",
    "    for i in range(k):\n",
    "        heappush(maxHeap, -nums[i])\n",
    "\n",
    "    # go through the remaining numbers of the array, if the number from the array is smaller than the\n",
    "    # top(biggest) number of the heap, remove the top number from heap and add the number from array\n",
    "    for i in range(k, len(nums)):\n",
    "        if -nums[i] > maxHeap[0]:\n",
    "            heappop(maxHeap)\n",
    "            heappush(maxHeap, -nums[i])\n",
    "\n",
    "    # the root of the heap has the Kth smallest number\n",
    "    return -maxHeap[0]"
   ]
  },
  {
   "cell_type": "code",
   "execution_count": 2,
   "metadata": {},
   "outputs": [
    {
     "data": {
      "text/plain": [
       "5"
      ]
     },
     "execution_count": 2,
     "metadata": {},
     "output_type": "execute_result"
    }
   ],
   "source": [
    "find_Kth_smallest_number( [1, 5, 12, 2, 11, 5], 4)"
   ]
  }
 ],
 "metadata": {
  "kernelspec": {
   "display_name": "Python 3",
   "language": "python",
   "name": "python3"
  },
  "language_info": {
   "codemirror_mode": {
    "name": "ipython",
    "version": 3
   },
   "file_extension": ".py",
   "mimetype": "text/x-python",
   "name": "python",
   "nbconvert_exporter": "python",
   "pygments_lexer": "ipython3",
   "version": "3.7.3"
  }
 },
 "nbformat": 4,
 "nbformat_minor": 2
}
