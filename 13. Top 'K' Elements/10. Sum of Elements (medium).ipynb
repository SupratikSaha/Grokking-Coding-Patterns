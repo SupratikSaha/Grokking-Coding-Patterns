{
 "cells": [
  {
   "cell_type": "markdown",
   "metadata": {},
   "source": [
    "Problem Statement <br/>\n",
    "\n",
    "Given an array, find the sum of all numbers between the K1’th and K2’th smallest elements of that array. <br/>\n",
    "\n",
    "Example 1: <br/>\n",
    "Input: [1, 3, 12, 5, 15, 11], and K1=3, K2=6 <br/>\n",
    "Output: 23 <br/>\n",
    "Explanation: The 3rd smallest number is 5 and 6th smallest number 15. The sum of numbers coming\n",
    "between 5 and 15 is 23 (11+12). <br/>\n",
    "\n",
    "Example 2: <br/>\n",
    "Input: [3, 5, 8, 7], and K1=1, K2=4 <br/>\n",
    "Output: 12 <br/>\n",
    "Explanation: The sum of the numbers between the 1st smallest number (3) and the 4th smallest \n",
    "number (8) is 12 (5+7)."
   ]
  },
  {
   "cell_type": "markdown",
   "metadata": {},
   "source": [
    "# Heap - O(N * logN) runtime, O(N) space"
   ]
  },
  {
   "cell_type": "code",
   "execution_count": 1,
   "metadata": {},
   "outputs": [],
   "source": [
    "from heapq import *\n",
    "\n",
    "def find_sum_of_elements(nums, k1, k2):\n",
    "    if k2 <= k1 + 1:\n",
    "        return 0\n",
    "    \n",
    "    minHeap = []\n",
    "    for num in nums:\n",
    "        heappush(minHeap,num)\n",
    "\n",
    "    for _ in range(k1):\n",
    "        heappop(minHeap)\n",
    "    \n",
    "    result = 0\n",
    "    for _ in range(k2 - k1 - 1):\n",
    "        result += heappop(minHeap)\n",
    "\n",
    "    return result"
   ]
  },
  {
   "cell_type": "markdown",
   "metadata": {},
   "source": [
    "# Heap - O(N * logk2) runtime, O(k2) space"
   ]
  },
  {
   "cell_type": "code",
   "execution_count": 4,
   "metadata": {},
   "outputs": [],
   "source": [
    "from heapq import *\n",
    "\n",
    "def find_sum_of_elements(nums, k1, k2):\n",
    "    maxHeap = []\n",
    "    # keep smallest k2 numbers in the max heap\n",
    "    for i in range(len(nums)):\n",
    "        if i < k2 - 1:\n",
    "            heappush(maxHeap, -nums[i])\n",
    "        elif nums[i] < -maxHeap[0]:\n",
    "            heappop(maxHeap) # as we are interested only in the smallest k2 numbers\n",
    "            heappush(maxHeap, -nums[i])\n",
    "\n",
    "    # get the sum of numbers between k1 and k2 indices\n",
    "    # these numbers will be at the top of the max heap\n",
    "    elementSum = 0\n",
    "    for _ in range(k2 - k1 - 1):\n",
    "        elementSum += -heappop(maxHeap)\n",
    "\n",
    "    return elementSum"
   ]
  },
  {
   "cell_type": "code",
   "execution_count": 5,
   "metadata": {},
   "outputs": [
    {
     "data": {
      "text/plain": [
       "23"
      ]
     },
     "execution_count": 5,
     "metadata": {},
     "output_type": "execute_result"
    }
   ],
   "source": [
    "find_sum_of_elements([1, 3, 12, 5, 15, 11], 3, 6)"
   ]
  }
 ],
 "metadata": {
  "kernelspec": {
   "display_name": "Python 3",
   "language": "python",
   "name": "python3"
  },
  "language_info": {
   "codemirror_mode": {
    "name": "ipython",
    "version": 3
   },
   "file_extension": ".py",
   "mimetype": "text/x-python",
   "name": "python",
   "nbconvert_exporter": "python",
   "pygments_lexer": "ipython3",
   "version": "3.7.3"
  }
 },
 "nbformat": 4,
 "nbformat_minor": 2
}
