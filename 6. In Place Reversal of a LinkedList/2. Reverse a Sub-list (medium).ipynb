{
 "cells": [
  {
   "cell_type": "markdown",
   "metadata": {},
   "source": [
    "Problem Statement <br/>\n",
    "\n",
    "Given the head of a LinkedList and two positions ‘p’ and ‘q’, reverse the LinkedList from position ‘p’ to ‘q’. <br/>\n",
    "\n",
    "1 -> (2) -> (3) -> (4) -> 5 -> 6 <br/>\n",
    "\n",
    "1 -> 4 -> 3 -> 2 -> 5 -> 6 <br/>"
   ]
  },
  {
   "cell_type": "markdown",
   "metadata": {},
   "source": [
    "# Linear Traversal - O(N) runtime, O(1) space"
   ]
  },
  {
   "cell_type": "code",
   "execution_count": 2,
   "metadata": {},
   "outputs": [],
   "source": [
    "class Node:\n",
    "    def __init__(self, value, next=None):\n",
    "        self.value = value\n",
    "        self.next = next\n",
    "\n",
    "    def reverse_sub_list(head, p, q):\n",
    "        if p == q:\n",
    "            return head\n",
    "\n",
    "        i = 0\n",
    "        prev, curr = None, head\n",
    "        \n",
    "        while curr and i < p - 1:\n",
    "            prev, curr = curr, curr.next\n",
    "            i += 1\n",
    "        \n",
    "        save_prev, save_curr, prev = prev, curr, None\n",
    "        \n",
    "        while curr and i < q:\n",
    "            next_node = curr.next\n",
    "            curr.next = prev\n",
    "            prev, curr = curr, next_node\n",
    "            i += 1\n",
    "            \n",
    "        if save_prev:\n",
    "            save_prev.next = prev\n",
    "        else:\n",
    "            head = prev\n",
    "        \n",
    "        save_curr.next = curr\n",
    "        prev = save_curr\n",
    "\n",
    "        return head"
   ]
  }
 ],
 "metadata": {
  "kernelspec": {
   "display_name": "Python 3",
   "language": "python",
   "name": "python3"
  },
  "language_info": {
   "codemirror_mode": {
    "name": "ipython",
    "version": 3
   },
   "file_extension": ".py",
   "mimetype": "text/x-python",
   "name": "python",
   "nbconvert_exporter": "python",
   "pygments_lexer": "ipython3",
   "version": "3.7.3"
  }
 },
 "nbformat": 4,
 "nbformat_minor": 2
}
