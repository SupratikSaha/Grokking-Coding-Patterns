{
 "cells": [
  {
   "cell_type": "markdown",
   "metadata": {},
   "source": [
    "Problem Statement <br/>\n",
    "\n",
    "Given the head of a LinkedList and a number ‘k’, reverse every ‘k’ sized sub-list starting from the head. <br/>\n",
    "If, in the end, you are left with a sub-list with less than ‘k’ elements, reverse it too. <br/>\n",
    "\n",
    "1->2->3->4->5->6->7->8 <br/>\n",
    "\n",
    "3->2->1->6->5->4->8->7"
   ]
  },
  {
   "cell_type": "markdown",
   "metadata": {},
   "source": [
    "# Linear Traversal - O(N) runtime, O(1) space"
   ]
  },
  {
   "cell_type": "code",
   "execution_count": 1,
   "metadata": {},
   "outputs": [],
   "source": [
    "def reverse_every_k_elements(head, k):\n",
    " \n",
    "    if k <= 1 or head is None:\n",
    "        return head\n",
    "    \n",
    "    prev, curr = None, head\n",
    "    i = 0\n",
    " \n",
    "    while curr:\n",
    "        save_prev, save_curr, prev = prev, curr, None\n",
    "        while curr and i < k:\n",
    "            next_node = curr.next\n",
    "            curr.next = prev\n",
    "            prev, curr = curr, next_node\n",
    "            i += 1\n",
    "        \n",
    "        if save_prev:\n",
    "            save_prev.next = prev\n",
    "        else:\n",
    "            head = prev\n",
    "        \n",
    "        save_curr.next = curr\n",
    "        prev = save_curr\n",
    "        i = 0\n",
    " \n",
    "    return head"
   ]
  }
 ],
 "metadata": {
  "kernelspec": {
   "display_name": "Python 3",
   "language": "python",
   "name": "python3"
  },
  "language_info": {
   "codemirror_mode": {
    "name": "ipython",
    "version": 3
   },
   "file_extension": ".py",
   "mimetype": "text/x-python",
   "name": "python",
   "nbconvert_exporter": "python",
   "pygments_lexer": "ipython3",
   "version": "3.7.3"
  }
 },
 "nbformat": 4,
 "nbformat_minor": 2
}
