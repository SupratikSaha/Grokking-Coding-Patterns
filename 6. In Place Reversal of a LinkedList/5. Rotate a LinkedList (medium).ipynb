{
 "cells": [
  {
   "cell_type": "markdown",
   "metadata": {},
   "source": [
    "Problem Statement <br/>\n",
    "\n",
    "Given the head of a Singly LinkedList and a number ‘k’, rotate the LinkedList to the right by ‘k’ nodes. <br/>\n",
    "\n",
    "1,2,3,4,5,6 and k = 3 <br/>\n",
    "4,5,6,1,2,3 <br/>\n",
    "\n",
    "1,2,3,4,5 and k = 8 <br/>\n",
    "3,4,5,1,2"
   ]
  },
  {
   "cell_type": "markdown",
   "metadata": {},
   "source": [
    "# Linear Traversal: O(N) runtime, O(1) space"
   ]
  },
  {
   "cell_type": "code",
   "execution_count": 3,
   "metadata": {},
   "outputs": [],
   "source": [
    "def rotate(head, rotations):\n",
    "    \n",
    "    if not head or not head.next or rotations <= 0:\n",
    "        return head\n",
    "\n",
    "    i = 0\n",
    "    prev, curr = None, head\n",
    "\n",
    "    while i < rotations:\n",
    "        prev, curr = curr, curr.next\n",
    "        if not curr:\n",
    "            prev, curr = None, head\n",
    "            i += 1\n",
    "        \n",
    "        i += 1 \n",
    "\n",
    "    save_prev, save_curr = prev, curr\n",
    "    while curr:\n",
    "        prev, curr = curr, curr.next\n",
    "\n",
    "    save_prev.next = None\n",
    "    prev.next = head\n",
    "    head = save_curr\n",
    "\n",
    "    return head"
   ]
  },
  {
   "cell_type": "markdown",
   "metadata": {},
   "source": [
    "# Linear Travesal - No repeat loops - O(N) runtime, O(1) space"
   ]
  },
  {
   "cell_type": "code",
   "execution_count": 2,
   "metadata": {},
   "outputs": [],
   "source": [
    "def rotate(head, rotations):\n",
    "    if head is None or head.next is None or rotations <= 0:\n",
    "        return head\n",
    "\n",
    "    # find the length and the last node of the list\n",
    "    last_node = head\n",
    "    list_length = 1\n",
    "    while last_node.next is not None:\n",
    "        last_node = last_node.next\n",
    "        list_length += 1\n",
    "\n",
    "    last_node.next = head    # connect the last node with the head to make it a circular list\n",
    "    rotations %= list_length    # no need to do rotations more than the length of the list\n",
    "    skip_length = list_length - rotations\n",
    "    last_node_of_rotated_list = head\n",
    "    for i in range(skip_length - 1):\n",
    "        last_node_of_rotated_list = last_node_of_rotated_list.next\n",
    "\n",
    "    # 'last_node_of_rotated_list.next' is pointing to the sub-list of 'k' ending nodes\n",
    "    head = last_node_of_rotated_list.next\n",
    "    last_node_of_rotated_list.next = None\n",
    "    return head"
   ]
  }
 ],
 "metadata": {
  "kernelspec": {
   "display_name": "Python 3",
   "language": "python",
   "name": "python3"
  },
  "language_info": {
   "codemirror_mode": {
    "name": "ipython",
    "version": 3
   },
   "file_extension": ".py",
   "mimetype": "text/x-python",
   "name": "python",
   "nbconvert_exporter": "python",
   "pygments_lexer": "ipython3",
   "version": "3.7.3"
  }
 },
 "nbformat": 4,
 "nbformat_minor": 2
}
