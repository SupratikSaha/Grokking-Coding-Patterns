{
 "cells": [
  {
   "cell_type": "markdown",
   "metadata": {},
   "source": [
    "Problem Statement\n",
    "Given a string, find the length of the longest substring in it with no more than K distinct characters. <br/>\n",
    "\n",
    "Example 1: <br/>\n",
    "Input: String=\"araaci\", K=2 <br/>\n",
    "Output: 4 <br/>\n",
    "Explanation: The longest substring with no more than '2' distinct characters is \"araa\". <br/>\n",
    "\n",
    "Example 2: <br/>\n",
    "Input: String=\"araaci\", K=1 <br/>\n",
    "Output: 2 <br/>\n",
    "Explanation: The longest substring with no more than '1' distinct characters is \"aa\". <br/>\n",
    "\n",
    "Example 3: <br/>\n",
    "Input: String=\"cbbebi\", K=3 <br/>\n",
    "Output: 5 <br/>\n",
    "Explanation: The longest substrings with no more than '3' distinct characters are \"cbbeb\" & \"bbebi\". <br/>"
   ]
  },
  {
   "cell_type": "markdown",
   "metadata": {},
   "source": [
    "# Sliding Window: O(N) runtime, O(K) space"
   ]
  },
  {
   "cell_type": "code",
   "execution_count": 6,
   "metadata": {},
   "outputs": [],
   "source": [
    "def longest_substring_with_k_distinct(str, k):\n",
    "  \n",
    "    charSetLastPos = {}\n",
    "    charSetLength = windowStart = maxLength = 0\n",
    "\n",
    "    for i, char in enumerate(str):\n",
    "        if char not in charSetLastPos and charSetLength == k :\n",
    "            min_key = min(charSetLastPos, key=charSetLastPos.get)\n",
    "            windowStart = charSetLastPos.pop(min_key) + 1\n",
    "        elif char not in charSetLastPos:\n",
    "            charSetLength += 1\n",
    "\n",
    "        charSetLastPos[char] = i\n",
    "        maxLength = max(maxLength, i - windowStart + 1)\n",
    "\n",
    "    return maxLength"
   ]
  },
  {
   "cell_type": "code",
   "execution_count": 7,
   "metadata": {},
   "outputs": [
    {
     "data": {
      "text/plain": [
       "5"
      ]
     },
     "execution_count": 7,
     "metadata": {},
     "output_type": "execute_result"
    }
   ],
   "source": [
    "longest_substring_with_k_distinct(\"cbbebi\", 3)"
   ]
  }
 ],
 "metadata": {
  "kernelspec": {
   "display_name": "Python 3",
   "language": "python",
   "name": "python3"
  },
  "language_info": {
   "codemirror_mode": {
    "name": "ipython",
    "version": 3
   },
   "file_extension": ".py",
   "mimetype": "text/x-python",
   "name": "python",
   "nbconvert_exporter": "python",
   "pygments_lexer": "ipython3",
   "version": "3.7.3"
  }
 },
 "nbformat": 4,
 "nbformat_minor": 2
}
