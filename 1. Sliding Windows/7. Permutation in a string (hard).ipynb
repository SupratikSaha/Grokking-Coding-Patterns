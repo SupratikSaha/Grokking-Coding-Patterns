{
 "cells": [
  {
   "cell_type": "markdown",
   "metadata": {},
   "source": [
    "Problem Statement <br/>\n",
    "Given a string and a pattern, find out if the string contains any permutation of the pattern. <br/>\n",
    "Permutation is defined as the rearranging of the characters of the string. For example, “abc” has the following six permutations: <br/>\n",
    "abc <br/>\n",
    "acb <br/>\n",
    "bac <br/>\n",
    "bca <br/>\n",
    "cab <br/>\n",
    "cba <br/>\n",
    "If a string has ‘n’ distinct characters it will have n!n!n! permutations. <br/>\n",
    "\n",
    "Example 1: <br/>\n",
    "Input: String=\"oidbcaf\", Pattern=\"abc\" <br/>\n",
    "Output: true <br/>\n",
    "Explanation: The string contains \"bca\" which is a permutation of the given pattern. <br/>\n",
    "    \n",
    "Example 2: <br/>\n",
    "Input: String=\"odicf\", Pattern=\"dc\" <br/>\n",
    "Output: false <br/>\n",
    "Explanation: No permutation of the pattern is present in the given string as a substring. <br/>\n",
    "    \n",
    "Example 3: <br/>\n",
    "Input: String=\"bcdxabcdy\", Pattern=\"bcdyabcdx\" <br/>\n",
    "Output: true <br/>\n",
    "Explanation: Both the string and the pattern are a permutation of each other. <br/>\n",
    "    \n",
    "Example 4: <br/>\n",
    "Input: String=\"aaacb\", Pattern=\"abc\" <br/>\n",
    "Output: true <br/>\n",
    "Explanation: The string contains \"acb\" which is a permutation of the given pattern."
   ]
  },
  {
   "cell_type": "markdown",
   "metadata": {},
   "source": [
    "# Sliding Window - O(N + K) runtime, O(K) space, where ‘N’ and ‘K’ are the number of characters in the input string and the pattern respectively."
   ]
  },
  {
   "cell_type": "code",
   "execution_count": 1,
   "metadata": {},
   "outputs": [],
   "source": [
    "def find_permutation(string, pattern):\n",
    "    \n",
    "    window_start, matched = 0, 0\n",
    "    char_frequency = {}\n",
    " \n",
    "    for chr in pattern:\n",
    "        if chr not in char_frequency:\n",
    "            char_frequency[chr] = 0\n",
    "        char_frequency[chr] += 1\n",
    " \n",
    "    # our goal is to match all the characters from the 'char_frequency' with the current window\n",
    "    # try to extend the range [window_start, window_end]\n",
    "    for window_end in range(len(string)):\n",
    "        right_char = string[window_end]\n",
    "        if right_char in char_frequency:\n",
    "            # decrement the frequency of matched character\n",
    "            char_frequency[right_char] -= 1\n",
    "            if char_frequency[right_char] == 0:\n",
    "                matched += 1\n",
    " \n",
    "        if matched == len(char_frequency):\n",
    "            return True\n",
    " \n",
    "        # shrink the window by one character\n",
    "        if window_end >= len(pattern) - 1:\n",
    "            left_char = string[window_start]\n",
    "            window_start += 1\n",
    "            if left_char in char_frequency:\n",
    "                if char_frequency[left_char] == 0:\n",
    "                    matched -= 1\n",
    "                char_frequency[left_char] += 1\n",
    " \n",
    "    return False"
   ]
  },
  {
   "cell_type": "code",
   "execution_count": 2,
   "metadata": {},
   "outputs": [
    {
     "data": {
      "text/plain": [
       "True"
      ]
     },
     "execution_count": 2,
     "metadata": {},
     "output_type": "execute_result"
    }
   ],
   "source": [
    "find_permutation(string=\"aaacb\", pattern=\"abc\" )"
   ]
  }
 ],
 "metadata": {
  "kernelspec": {
   "display_name": "Python 3",
   "language": "python",
   "name": "python3"
  },
  "language_info": {
   "codemirror_mode": {
    "name": "ipython",
    "version": 3
   },
   "file_extension": ".py",
   "mimetype": "text/x-python",
   "name": "python",
   "nbconvert_exporter": "python",
   "pygments_lexer": "ipython3",
   "version": "3.7.3"
  }
 },
 "nbformat": 4,
 "nbformat_minor": 2
}
