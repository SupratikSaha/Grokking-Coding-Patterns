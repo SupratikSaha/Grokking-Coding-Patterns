{
 "cells": [
  {
   "cell_type": "markdown",
   "metadata": {},
   "source": [
    "Problem Statement <br/>\n",
    "\n",
    "Given a string and a pattern, find all anagrams of the pattern in the given string. <br/>\n",
    "Anagram is actually a Permutation of a string. For example, “abc” has the following six anagrams: <br/>\n",
    "abc <br/>\n",
    "acb <br/>\n",
    "bac <br/>\n",
    "bca <br/>\n",
    "cab <br/>\n",
    "cba <br/>\n",
    "Write a function to return a list of starting indices of the anagrams of the pattern in the given string. <br/>\n",
    "\n",
    "Example 1: <br/>\n",
    "Input: String=\"ppqp\", Pattern=\"pq\" <br/>\n",
    "Output: [1, 2] <br/>\n",
    "Explanation: The two anagrams of the pattern in the given string are \"pq\" and \"qp\". <br/>\n",
    "    \n",
    "Example 2: <br/>\n",
    "Input: String=\"abbcabc\", Pattern=\"abc\" <br/>\n",
    "Output: [2, 3, 4] <br/>\n",
    "Explanation: The three anagrams of the pattern in the given string are \"bca\", \"cab\", and \"abc\"."
   ]
  },
  {
   "cell_type": "markdown",
   "metadata": {},
   "source": [
    "# Sliding Window - O(N + K) runtime, O(K) space, where ‘N’ and ‘K’ are the number of characters in the input string and the pattern respectively."
   ]
  },
  {
   "cell_type": "code",
   "execution_count": 1,
   "metadata": {},
   "outputs": [],
   "source": [
    "def find_string_anagrams(string, pattern):\n",
    " \n",
    "    result_indexes = []\n",
    "    window_start = num_matches = 0\n",
    "    char_frequency = {}\n",
    " \n",
    "    for char in pattern:\n",
    "        if char not in char_frequency:\n",
    "            char_frequency[char] = 0\n",
    "        char_frequency[char] += 1\n",
    " \n",
    "    for window_end, char in enumerate(string):\n",
    "        if char in char_frequency:\n",
    "            char_frequency[char] -= 1\n",
    "        \n",
    "        if char_frequency[char] == 0:\n",
    "            num_matches += 1\n",
    "        \n",
    "        if num_matches == len(char_frequency):\n",
    "            result_indexes.append(window_start)\n",
    " \n",
    "        if window_end >= len(pattern) - 1:\n",
    "            left_char = string[window_start]\n",
    "            window_start += 1\n",
    "            if left_char in char_frequency:\n",
    "                if char_frequency[left_char] == 0:\n",
    "                    num_matches -= 1\n",
    "                char_frequency[left_char] += 1\n",
    "    \n",
    "    return result_indexes"
   ]
  },
  {
   "cell_type": "code",
   "execution_count": 2,
   "metadata": {},
   "outputs": [
    {
     "data": {
      "text/plain": [
       "[2, 3, 4]"
      ]
     },
     "execution_count": 2,
     "metadata": {},
     "output_type": "execute_result"
    }
   ],
   "source": [
    "find_string_anagrams(string=\"abbcabc\", pattern=\"abc\" )"
   ]
  }
 ],
 "metadata": {
  "kernelspec": {
   "display_name": "Python 3",
   "language": "python",
   "name": "python3"
  },
  "language_info": {
   "codemirror_mode": {
    "name": "ipython",
    "version": 3
   },
   "file_extension": ".py",
   "mimetype": "text/x-python",
   "name": "python",
   "nbconvert_exporter": "python",
   "pygments_lexer": "ipython3",
   "version": "3.7.3"
  }
 },
 "nbformat": 4,
 "nbformat_minor": 2
}
