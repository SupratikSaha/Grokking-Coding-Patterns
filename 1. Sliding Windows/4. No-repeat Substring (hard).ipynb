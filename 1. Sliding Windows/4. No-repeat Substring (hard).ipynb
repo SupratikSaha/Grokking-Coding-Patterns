{
 "cells": [
  {
   "cell_type": "markdown",
   "metadata": {},
   "source": [
    "Problem Statement <br/>\n",
    "Given a string, find the length of the longest substring which has no repeating characters.<br/>\n",
    "\n",
    "Example 1: <br/>\n",
    "Input: String=\"aabccbb\" <br/>\n",
    "Output: 3 <br/>\n",
    "Explanation: The longest substring without any repeating characters is \"abc\". <br/>\n",
    "    \n",
    "Example 2: <br/>\n",
    "Input: String=\"abbbb\" <br/>\n",
    "Output: 2\n",
    "Explanation: The longest substring without any repeating characters is \"ab\".<br/>\n",
    "    \n",
    "Example 3:<br/>\n",
    "Input: String=\"abccde\" <br/>\n",
    "Output: 3 <br/>\n",
    "Explanation: Longest substrings without any repeating characters are \"abc\" & \"cde\"."
   ]
  },
  {
   "cell_type": "markdown",
   "metadata": {},
   "source": [
    "# Sliding window - O(N) runtime, O(N) space where K is the number of repeating characters"
   ]
  },
  {
   "cell_type": "code",
   "execution_count": 3,
   "metadata": {},
   "outputs": [],
   "source": [
    "def non_repeat_substring(string):\n",
    " \n",
    "    charDict = {}\n",
    "    windowStart = maxLength = 0\n",
    "\n",
    "    for windowEnd, char in enumerate(string):\n",
    "        if char in charDict:\n",
    "            windowStart = charDict[char] + 1\n",
    "\n",
    "        charDict[char] = windowEnd\n",
    "        maxLength = max(maxLength, windowEnd - windowStart + 1)\n",
    "        \n",
    "    return maxLength"
   ]
  },
  {
   "cell_type": "code",
   "execution_count": 4,
   "metadata": {},
   "outputs": [
    {
     "data": {
      "text/plain": [
       "3"
      ]
     },
     "execution_count": 4,
     "metadata": {},
     "output_type": "execute_result"
    }
   ],
   "source": [
    "non_repeat_substring(\"abccde\")"
   ]
  }
 ],
 "metadata": {
  "kernelspec": {
   "display_name": "Python 3",
   "language": "python",
   "name": "python3"
  },
  "language_info": {
   "codemirror_mode": {
    "name": "ipython",
    "version": 3
   },
   "file_extension": ".py",
   "mimetype": "text/x-python",
   "name": "python",
   "nbconvert_exporter": "python",
   "pygments_lexer": "ipython3",
   "version": "3.7.3"
  }
 },
 "nbformat": 4,
 "nbformat_minor": 2
}
