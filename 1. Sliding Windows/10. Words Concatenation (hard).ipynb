{
 "cells": [
  {
   "cell_type": "markdown",
   "metadata": {},
   "source": [
    "Problem Statement <br/>\n",
    "\n",
    "Given a string and a list of words, find all the starting indices of substrings in the given string that are a concatenation of all the given words exactly once without any overlapping of words. It is given that all words are of the same length. <br/>\n",
    "\n",
    "Example 1: <br/>\n",
    "Input: String=\"catfoxcat\", Words=[\"cat\", \"fox\"] <br/>\n",
    "Output: [0, 3] <br/>\n",
    "Explanation: The two substring containing both the words are \"catfox\" & \"foxcat\". <br/>\n",
    "\n",
    "Example 2: <br/>\n",
    "Input: String=\"catcatfoxfox\", Words=[\"cat\", \"fox\"] <br/>\n",
    "Output: [3] <br/>\n",
    "Explanation: The only substring containing both the words is \"catfox\"."
   ]
  },
  {
   "cell_type": "markdown",
   "metadata": {},
   "source": [
    "# Sliding Window - O(N * M * L) runtime, O(M + N) space, where ‘N’ is the number of characters in the given string, ‘M’ is the total number of words, and ‘L’ is the length of a word."
   ]
  },
  {
   "cell_type": "code",
   "execution_count": 9,
   "metadata": {},
   "outputs": [],
   "source": [
    "def find_word_concatenation(str1, words):\n",
    "    if len(words) == 0 or len(words[0]) == 0:\n",
    "        return []\n",
    "\n",
    "    word_frequency = {}\n",
    "\n",
    "    for word in words:\n",
    "        if word not in word_frequency:\n",
    "            word_frequency[word] = 0\n",
    "        word_frequency[word] += 1\n",
    "\n",
    "    result_indices = []\n",
    "    words_count = len(words)\n",
    "    word_length = len(words[0])\n",
    "\n",
    "    for i in range((len(str1) - words_count * word_length)+1):\n",
    "        words_seen = {}\n",
    "        for j in range(0, words_count):\n",
    "            next_word_index = i + j * word_length\n",
    "            # Get the next word from the string\n",
    "            word = str1[next_word_index: next_word_index + word_length]\n",
    "            if word not in word_frequency:    # Break if we don't need this word\n",
    "                break\n",
    "\n",
    "            # Add the word to the 'words_seen' map\n",
    "            if word not in words_seen:\n",
    "                words_seen[word] = 0\n",
    "            words_seen[word] += 1\n",
    "\n",
    "            # No need to process further if the word has higher frequency than required\n",
    "            if words_seen[word] > word_frequency.get(word, 0):\n",
    "                break\n",
    "\n",
    "            if j + 1 == words_count:    # Store index if we have found all the words\n",
    "                result_indices.append(i)\n",
    "\n",
    "    return result_indices"
   ]
  },
  {
   "cell_type": "code",
   "execution_count": 12,
   "metadata": {},
   "outputs": [
    {
     "data": {
      "text/plain": [
       "[8, 11]"
      ]
     },
     "execution_count": 12,
     "metadata": {},
     "output_type": "execute_result"
    }
   ],
   "source": [
    "find_word_concatenation(\"catabfoxcatfoxdogcat\", [\"cat\", \"fox\", \"dog\"])"
   ]
  }
 ],
 "metadata": {
  "kernelspec": {
   "display_name": "Python 3",
   "language": "python",
   "name": "python3"
  },
  "language_info": {
   "codemirror_mode": {
    "name": "ipython",
    "version": 3
   },
   "file_extension": ".py",
   "mimetype": "text/x-python",
   "name": "python",
   "nbconvert_exporter": "python",
   "pygments_lexer": "ipython3",
   "version": "3.7.3"
  }
 },
 "nbformat": 4,
 "nbformat_minor": 2
}
