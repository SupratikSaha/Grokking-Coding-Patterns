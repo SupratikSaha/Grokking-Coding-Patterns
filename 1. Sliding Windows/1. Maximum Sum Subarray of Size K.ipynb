{
 "cells": [
  {
   "cell_type": "markdown",
   "metadata": {},
   "source": [
    "Problem Statement\n",
    "Given an array of positive numbers and a positive number ‘k’, find the maximum sum of any contiguous subarray of size ‘k’.\n",
    "\n",
    "Example 1: <br/>\n",
    "Input: [2, 1, 5, 1, 3, 2], k=3 <br/>\n",
    "Output: 9 <br/>\n",
    "Explanation: Subarray with maximum sum is [5, 1, 3]. <br/>\n",
    "\n",
    "Example 2: <br/>\n",
    "Input: [2, 3, 4, 1, 5], k=2 <br/>\n",
    "Output: 7 <br/>\n",
    "Explanation: Subarray with maximum sum is [3, 4]."
   ]
  },
  {
   "cell_type": "markdown",
   "metadata": {},
   "source": [
    "# Brute Force: O(N*K) runtime, O(1) space"
   ]
  },
  {
   "cell_type": "code",
   "execution_count": 1,
   "metadata": {},
   "outputs": [
    {
     "name": "stdout",
     "output_type": "stream",
     "text": [
      "Maximum sum of a subarray of size K: 9\n",
      "Maximum sum of a subarray of size K: 7\n"
     ]
    }
   ],
   "source": [
    "def max_sub_array_of_size_k(k, arr):\n",
    "    max_sum = 0\n",
    "    window_sum = 0\n",
    "\n",
    "    for i in range(len(arr) - k + 1):\n",
    "        window_sum = 0\n",
    "        for j in range(i, i+k):\n",
    "            window_sum += arr[j]\n",
    "        max_sum = max(max_sum, window_sum)\n",
    "    return max_sum\n",
    "\n",
    "\n",
    "def main():\n",
    "    print(\"Maximum sum of a subarray of size K: \" + str(max_sub_array_of_size_k(3, [2, 1, 5, 1, 3, 2])))\n",
    "    print(\"Maximum sum of a subarray of size K: \" + str(max_sub_array_of_size_k(2, [2, 3, 4, 1, 5])))\n",
    "\n",
    "\n",
    "main()"
   ]
  },
  {
   "cell_type": "markdown",
   "metadata": {},
   "source": [
    "# Sliding Window: O(N) runtime, O(1) space"
   ]
  },
  {
   "cell_type": "code",
   "execution_count": 2,
   "metadata": {},
   "outputs": [],
   "source": [
    "def max_sub_array_of_size_k(k, arr):\n",
    "\n",
    "    maxSum = currSum = windowStart = 0\n",
    "    for i, val in enumerate(arr):\n",
    "        currSum += val\n",
    "        if i >= k - 1:\n",
    "            maxSum = max(maxSum, currSum)\n",
    "            currSum -= arr[windowStart]\n",
    "            windowStart += 1\n",
    "\n",
    "    return maxSum"
   ]
  },
  {
   "cell_type": "code",
   "execution_count": 3,
   "metadata": {},
   "outputs": [
    {
     "data": {
      "text/plain": [
       "7"
      ]
     },
     "execution_count": 3,
     "metadata": {},
     "output_type": "execute_result"
    }
   ],
   "source": [
    "max_sub_array_of_size_k(2, [2, 3, 4, 1, 5])"
   ]
  }
 ],
 "metadata": {
  "kernelspec": {
   "display_name": "Python 3",
   "language": "python",
   "name": "python3"
  },
  "language_info": {
   "codemirror_mode": {
    "name": "ipython",
    "version": 3
   },
   "file_extension": ".py",
   "mimetype": "text/x-python",
   "name": "python",
   "nbconvert_exporter": "python",
   "pygments_lexer": "ipython3",
   "version": "3.7.3"
  }
 },
 "nbformat": 4,
 "nbformat_minor": 2
}
