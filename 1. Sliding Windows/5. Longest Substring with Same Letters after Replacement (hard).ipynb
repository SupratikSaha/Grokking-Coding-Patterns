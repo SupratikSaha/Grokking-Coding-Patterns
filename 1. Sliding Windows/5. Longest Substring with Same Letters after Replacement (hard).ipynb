{
 "cells": [
  {
   "cell_type": "markdown",
   "metadata": {},
   "source": [
    "Problem Statement\n",
    "Given a string with lowercase letters only, if you are allowed to replace no more than ‘k’ letters with any letter, <br/> find the length of the longest substring having the same letters after replacement.\n",
    "Example 1: <br/>\n",
    "Input: String=\"aabccbb\", k=2 <br/>\n",
    "Output: 5 <br/>\n",
    "Explanation: Replace the two 'c' with 'b' to have a longest repeating substring \"bbbbb\". <br/>\n",
    "\n",
    "Example 2: <br/>\n",
    "Input: String=\"abbcb\", k=1 <br/>\n",
    "Output: 4 <br/>\n",
    "Explanation: Replace the 'c' with 'b' to have a longest repeating substring \"bbbb\". <br/>\n",
    "\n",
    "Example 3: <br/>\n",
    "Input: String=\"abccde\", k=1 <br/>\n",
    "Output: 3 <br/>\n",
    "Explanation: Replace the 'b' or 'd' with 'c' to have the longest repeating substring \"ccc\". <br/>"
   ]
  },
  {
   "cell_type": "markdown",
   "metadata": {},
   "source": [
    "# Sliding Window - O(N) runtime, O(1) space as there are constant 26 possible lowercase english letters"
   ]
  },
  {
   "cell_type": "code",
   "execution_count": 1,
   "metadata": {},
   "outputs": [],
   "source": [
    "def length_of_longest_substring(string, k):\n",
    "  \n",
    "    charDict = {}\n",
    "    maxLength = windowStart = maxRepeatChars = 0\n",
    "\n",
    "    for windowEnd, char in enumerate(string):\n",
    "        if char not in charDict:\n",
    "            charDict[char] = 0\n",
    "        charDict[char] += 1\n",
    "        maxRepeatChars = max(maxRepeatChars, charDict[char])\n",
    "\n",
    "        if (windowEnd - windowStart + 1) - maxRepeatChars > k:\n",
    "            charDict[string[windowStart]] -= 1\n",
    "            windowStart += 1\n",
    "\n",
    "        maxLength = max(maxLength, windowEnd - windowStart + 1)\n",
    "\n",
    "    return maxLength"
   ]
  },
  {
   "cell_type": "code",
   "execution_count": 2,
   "metadata": {},
   "outputs": [
    {
     "data": {
      "text/plain": [
       "5"
      ]
     },
     "execution_count": 2,
     "metadata": {},
     "output_type": "execute_result"
    }
   ],
   "source": [
    "length_of_longest_substring(\"aabccbb\", 2)"
   ]
  }
 ],
 "metadata": {
  "kernelspec": {
   "display_name": "Python 3",
   "language": "python",
   "name": "python3"
  },
  "language_info": {
   "codemirror_mode": {
    "name": "ipython",
    "version": 3
   },
   "file_extension": ".py",
   "mimetype": "text/x-python",
   "name": "python",
   "nbconvert_exporter": "python",
   "pygments_lexer": "ipython3",
   "version": "3.7.3"
  }
 },
 "nbformat": 4,
 "nbformat_minor": 2
}
