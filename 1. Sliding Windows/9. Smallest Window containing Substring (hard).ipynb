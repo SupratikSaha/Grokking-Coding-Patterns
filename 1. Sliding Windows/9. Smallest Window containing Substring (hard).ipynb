{
 "cells": [
  {
   "cell_type": "markdown",
   "metadata": {},
   "source": [
    "Problem Statement <br/>\n",
    "\n",
    "Given a string and a pattern, find the smallest substring in the given string which has all the characters of the given pattern. <br/>\n",
    "\n",
    "Example 1: <br/>\n",
    "Input: String=\"aabdec\", Pattern=\"abc\" <br/>\n",
    "Output: \"abdec\" <br/>\n",
    "Explanation: The smallest substring having all characters of the pattern is \"abdec\" <br/>\n",
    "\n",
    "Example 2: <br/>\n",
    "Input: String=\"abdabca\", Pattern=\"abc\" <br/>\n",
    "Output: \"abc\" <br/>\n",
    "Explanation: The smallest substring having all characters of the pattern is \"abc\". <br/>\n",
    "    \n",
    "Example 3: <br/>\n",
    "Input: String=\"adcad\", Pattern=\"abc\" <br/>\n",
    "Output: \"\" <br/>\n",
    "Explanation: No substring in the given string has all characters of the pattern."
   ]
  },
  {
   "cell_type": "markdown",
   "metadata": {},
   "source": [
    "# Sliding Window - O(N + K) runtime, O(K) space"
   ]
  },
  {
   "cell_type": "code",
   "execution_count": 3,
   "metadata": {},
   "outputs": [],
   "source": [
    "def find_substring(string, pattern):\n",
    "    \n",
    "    window_start = num_macthes = start_index = 0\n",
    "    min_length = len(string) + 1\n",
    "    char_frequency = {}\n",
    "    \n",
    "    for char in pattern:\n",
    "        if char not in char_frequency:\n",
    "            char_frequency[char] = 0\n",
    "        char_frequency[char] += 1\n",
    "\n",
    "    for window_end, char in enumerate(string):\n",
    "        if char in char_frequency:\n",
    "            char_frequency[char] -= 1\n",
    "            if char_frequency[char] >= 0:\n",
    "                num_macthes += 1\n",
    "\n",
    "            while num_macthes == len(pattern):\n",
    "                if  min_length > window_end - window_start + 1:\n",
    "                    min_length = min(min_length, window_end - window_start + 1)\n",
    "                    start_index = window_start\n",
    "                        \n",
    "                left_char = string[window_start]\n",
    "                window_start += 1\n",
    "                if left_char in char_frequency:\n",
    "                    if char_frequency[left_char] == 0:\n",
    "                        num_macthes -= 1\n",
    "                    char_frequency[left_char] += 1\n",
    "\n",
    "\n",
    "    if min_length == len(string) + 1:\n",
    "        return \"\"\n",
    "    \n",
    "    return string[start_index: start_index + min_length]"
   ]
  },
  {
   "cell_type": "code",
   "execution_count": 4,
   "metadata": {},
   "outputs": [
    {
     "data": {
      "text/plain": [
       "'abc'"
      ]
     },
     "execution_count": 4,
     "metadata": {},
     "output_type": "execute_result"
    }
   ],
   "source": [
    "find_substring(\"abdabca\", \"abc\")"
   ]
  }
 ],
 "metadata": {
  "kernelspec": {
   "display_name": "Python 3",
   "language": "python",
   "name": "python3"
  },
  "language_info": {
   "codemirror_mode": {
    "name": "ipython",
    "version": 3
   },
   "file_extension": ".py",
   "mimetype": "text/x-python",
   "name": "python",
   "nbconvert_exporter": "python",
   "pygments_lexer": "ipython3",
   "version": "3.7.3"
  }
 },
 "nbformat": 4,
 "nbformat_minor": 2
}
