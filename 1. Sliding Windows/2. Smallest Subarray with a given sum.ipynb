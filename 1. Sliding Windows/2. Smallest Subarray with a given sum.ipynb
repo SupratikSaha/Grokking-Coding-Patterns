{
 "cells": [
  {
   "cell_type": "markdown",
   "metadata": {},
   "source": [
    "Problem Statement\n",
    "\n",
    "Given an array of positive numbers and a positive number ‘S’, find the length of the smallest contiguous subarray whose sum is greater than or equal to ‘S’. Return 0, if no such subarray exists. <br/>\n",
    "\n",
    "Example 1: <br/>\n",
    "Input: [2, 1, 5, 2, 3, 2], S=7 <br/>\n",
    "Output: 2 <br/>\n",
    "Explanation: The smallest subarray with a sum great than or equal to '7' is [5, 2]. <br/>\n",
    "    \n",
    "Example 2: <br/>\n",
    "Input: [2, 1, 5, 2, 8], S=7  <br/>\n",
    "Output: 1 <br/>\n",
    "Explanation: The smallest subarray with a sum greater than or equal to '7' is [8]. <br/>\n",
    "    \n",
    "Example 3: <br/>\n",
    "Input: [3, 4, 1, 1, 6], S=8  <br/>\n",
    "Output: 3 <br/>\n",
    "Explanation: Smallest subarrays with a sum greater than or equal to '8' are [3, 4, 1] or [1, 1, 6]. <br/>\n"
   ]
  },
  {
   "cell_type": "markdown",
   "metadata": {},
   "source": [
    "# Sliding Window: O(N) runtime, O(1) space"
   ]
  },
  {
   "cell_type": "code",
   "execution_count": 1,
   "metadata": {},
   "outputs": [],
   "source": [
    "def smallest_subarray_with_given_sum(s, arr):\n",
    " \n",
    "    currSum = windowStart = windowLength = 0\n",
    "    minLength = float('inf')\n",
    "\n",
    "    for i, val in enumerate(arr):\n",
    "        currSum += val\n",
    "        windowLength += 1\n",
    "        while currSum >= s and windowStart <= i:\n",
    "            minLength = min(minLength, windowLength)\n",
    "            currSum -= arr[windowStart]\n",
    "            windowStart += 1\n",
    "            windowLength -= 1\n",
    "\n",
    "    if minLength == float('inf'):\n",
    "        return 0\n",
    "    return minLength"
   ]
  }
 ],
 "metadata": {
  "kernelspec": {
   "display_name": "Python 3",
   "language": "python",
   "name": "python3"
  },
  "language_info": {
   "codemirror_mode": {
    "name": "ipython",
    "version": 3
   },
   "file_extension": ".py",
   "mimetype": "text/x-python",
   "name": "python",
   "nbconvert_exporter": "python",
   "pygments_lexer": "ipython3",
   "version": "3.7.3"
  }
 },
 "nbformat": 4,
 "nbformat_minor": 2
}
