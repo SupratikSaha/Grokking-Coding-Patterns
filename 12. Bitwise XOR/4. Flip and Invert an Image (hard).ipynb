{
 "cells": [
  {
   "cell_type": "markdown",
   "metadata": {},
   "source": [
    "Problem Statement <br/>\n",
    "\n",
    "Given a binary matrix representing an image, we want to flip the image horizontally, then invert it. <br/>\n",
    "\n",
    "To flip an image horizontally means that each row of the image is reversed. For example, flipping [0, 1, 1] horizontally results in [1, 1, 0]. <br/>\n",
    "\n",
    "To invert an image means that each 0 is replaced by 1, and each 1 is replaced by 0. For example, inverting [1, 1, 0] results in [0, 0, 1]. <br/>\n",
    "\n",
    "Example 1: <br/>\n",
    "Input: [ <br/>\n",
    "  [1,0,1], <br/>\n",
    "  [1,1,1], <br/>\n",
    "  [0,1,1] <br/>\n",
    "] <br/>\n",
    "Output: [ <br/>\n",
    "  [0,1,0], <br/>\n",
    "  [0,0,0], <br/>\n",
    "  [0,0,1] <br/>\n",
    "] <br/>\n",
    "\n",
    "Explanation: First reverse each row: [[1,0,1],[1,1,1],[1,1,0]]. Then, invert the image: [[0,1,0],[0,0,0],[0,0,1]] <br/>\n",
    "\n",
    "Example 2: <br/>\n",
    "Input: [ <br/>\n",
    "  [1,1,0,0], <br/>\n",
    "  [1,0,0,1], <br/>\n",
    "  [0,1,1,1], <br/>\n",
    "  [1,0,1,0] <br/>\n",
    "] <br/>\n",
    "Output: [ <br/>\n",
    "  [1,1,0,0], <br/>\n",
    "  [0,1,1,0], <br/>\n",
    "  [0,0,0,1], <br/>\n",
    "  [1,0,1,0] <br/>\n",
    "] <br/>\n",
    "\n",
    "Explanation: First reverse each row: [[0,0,1,1],[1,0,0,1],[1,1,1,0],[0,1,0,1]]. Then invert the image: [[1,1,0,0],[0,1,1,0],[0,0,0,1],[1,0,1,0]]"
   ]
  },
  {
   "cell_type": "markdown",
   "metadata": {},
   "source": [
    "# XOR - O(N) runtime, O(1) space"
   ]
  },
  {
   "cell_type": "code",
   "execution_count": 1,
   "metadata": {},
   "outputs": [],
   "source": [
    "def flip_an_invert_image(matrix):\n",
    "    C = len(matrix)\n",
    "    for row in matrix:\n",
    "        for i in range((C+1)//2):\n",
    "            row[i], row[C - i - 1] = row[C - i - 1] ^ 1, row[i] ^ 1\n",
    "            \n",
    "    return matrix"
   ]
  },
  {
   "cell_type": "code",
   "execution_count": 2,
   "metadata": {},
   "outputs": [
    {
     "data": {
      "text/plain": [
       "[[0, 0, 1, 1], [0, 1, 1, 0], [1, 0, 0, 0], [0, 1, 0, 1]]"
      ]
     },
     "execution_count": 2,
     "metadata": {},
     "output_type": "execute_result"
    }
   ],
   "source": [
    "flip_an_invert_image([[0,0,1,1],[1,0,0,1],[1,1,1,0],[0,1,0,1]])"
   ]
  }
 ],
 "metadata": {
  "kernelspec": {
   "display_name": "Python 3",
   "language": "python",
   "name": "python3"
  },
  "language_info": {
   "codemirror_mode": {
    "name": "ipython",
    "version": 3
   },
   "file_extension": ".py",
   "mimetype": "text/x-python",
   "name": "python",
   "nbconvert_exporter": "python",
   "pygments_lexer": "ipython3",
   "version": "3.7.3"
  }
 },
 "nbformat": 4,
 "nbformat_minor": 2
}
