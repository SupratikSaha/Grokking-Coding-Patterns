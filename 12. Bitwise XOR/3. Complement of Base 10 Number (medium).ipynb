{
 "cells": [
  {
   "cell_type": "markdown",
   "metadata": {},
   "source": [
    "Problem Statement <br/>\n",
    "\n",
    "Every non-negative integer N has a binary representation, for example, 8 can be represented as “1000” in binary and 7 as “0111” in binary. <br/>\n",
    "\n",
    "The complement of a binary representation is the number in binary that we get when we change every 1 to a 0 and every 0 to a 1. For example, the binary complement of “1010” is “0101”. <br/>\n",
    "\n",
    "For a given positive number N in base-10, return the complement of its binary representation as a base-10 integer. <br/>\n",
    "\n",
    "Example 1: <br/>\n",
    "Input: 8 <br/>\n",
    "Output: 7 <br/>\n",
    "Explanation: 8 is 1000 in binary, its complement is 0111 in binary, which is 7 in base-10. <br/>\n",
    "\n",
    "Example 2: <br/>\n",
    "Input: 10 <br/>\n",
    "Output: 5 <br/>\n",
    "Explanation: 10 is 1010 in binary, its complement is 0101 in binary, which is 5 in base-10."
   ]
  },
  {
   "cell_type": "markdown",
   "metadata": {},
   "source": [
    "# XOR - O(b) runtime, O(1) space, where b is the number of bits needed to store the number"
   ]
  },
  {
   "cell_type": "code",
   "execution_count": 1,
   "metadata": {},
   "outputs": [],
   "source": [
    "def calculate_bitwise_complement(num):\n",
    "    # count number of total bits in 'num'\n",
    "    bit_count, n = 0, num\n",
    "    while n > 0:\n",
    "        bit_count += 1\n",
    "        n = n >> 1\n",
    "\n",
    "    # for a number which is a complete power of '2' i.e., it can be written as pow(2, n), if we\n",
    "    # subtract '1' from such a number, we get a number which has 'n' least significant bits set to '1'.\n",
    "    # For example, '4' which is a complete power of '2', and '3' (which is one less than 4) has a binary\n",
    "    # representation of '11' i.e., it has '2' least significant bits set to '1'\n",
    "    all_bits_set = pow(2, bit_count) - 1\n",
    "\n",
    "    # from the solution description: complement = number ^ all_bits_set\n",
    "    return num ^ all_bits_set"
   ]
  },
  {
   "cell_type": "code",
   "execution_count": 2,
   "metadata": {},
   "outputs": [
    {
     "data": {
      "text/plain": [
       "5"
      ]
     },
     "execution_count": 2,
     "metadata": {},
     "output_type": "execute_result"
    }
   ],
   "source": [
    "calculate_bitwise_complement(10)"
   ]
  }
 ],
 "metadata": {
  "kernelspec": {
   "display_name": "Python 3",
   "language": "python",
   "name": "python3"
  },
  "language_info": {
   "codemirror_mode": {
    "name": "ipython",
    "version": 3
   },
   "file_extension": ".py",
   "mimetype": "text/x-python",
   "name": "python",
   "nbconvert_exporter": "python",
   "pygments_lexer": "ipython3",
   "version": "3.7.3"
  }
 },
 "nbformat": 4,
 "nbformat_minor": 2
}
