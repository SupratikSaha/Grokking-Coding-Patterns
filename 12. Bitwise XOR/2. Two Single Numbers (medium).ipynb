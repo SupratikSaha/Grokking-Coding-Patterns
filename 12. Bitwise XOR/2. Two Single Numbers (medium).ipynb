{
 "cells": [
  {
   "cell_type": "markdown",
   "metadata": {},
   "source": [
    "Problem Statement <br/>\n",
    "\n",
    "In a non-empty array of numbers, every number appears exactly twice except two numbers that appear only once. Find the two numbers that appear only once. <br/>\n",
    "\n",
    "Example 1: <br/>\n",
    "Input: [1, 4, 2, 1, 3, 5, 6, 2, 3, 5] <br/>\n",
    "Output: [4, 6] <br/>\n",
    "\n",
    "Example 2: <br/>\n",
    "Input: [2, 1, 3, 2] <br/>\n",
    "Output: [1, 3]"
   ]
  },
  {
   "cell_type": "markdown",
   "metadata": {},
   "source": [
    "# XOR - O(N) runtime, O(1) space"
   ]
  },
  {
   "cell_type": "code",
   "execution_count": 2,
   "metadata": {},
   "outputs": [],
   "source": [
    "def find_single_numbers(nums):\n",
    "    # get the XOR of the all the numbers\n",
    "    n1xn2 = 0\n",
    "    for num in nums:\n",
    "        n1xn2 ^= num\n",
    "\n",
    "    # get the rightmost bit that is '1'\n",
    "    rightmost_set_bit = 1\n",
    "    while (rightmost_set_bit & n1xn2) == 0:\n",
    "        rightmost_set_bit = rightmost_set_bit << 1\n",
    "    num1, num2 = 0, 0\n",
    "\n",
    "    for num in nums:\n",
    "        if (num & rightmost_set_bit) != 0:  # the bit is set\n",
    "            num1 ^= num\n",
    "        else:  # the bit is not set\n",
    "            num2 ^= num\n",
    "\n",
    "    return [num1, num2]"
   ]
  },
  {
   "cell_type": "code",
   "execution_count": 3,
   "metadata": {},
   "outputs": [
    {
     "data": {
      "text/plain": [
       "[6, 4]"
      ]
     },
     "execution_count": 3,
     "metadata": {},
     "output_type": "execute_result"
    }
   ],
   "source": [
    "find_single_numbers([1, 4, 2, 1, 3, 5, 6, 2, 3, 5] )"
   ]
  }
 ],
 "metadata": {
  "kernelspec": {
   "display_name": "Python 3",
   "language": "python",
   "name": "python3"
  },
  "language_info": {
   "codemirror_mode": {
    "name": "ipython",
    "version": 3
   },
   "file_extension": ".py",
   "mimetype": "text/x-python",
   "name": "python",
   "nbconvert_exporter": "python",
   "pygments_lexer": "ipython3",
   "version": "3.7.3"
  }
 },
 "nbformat": 4,
 "nbformat_minor": 2
}
