{
 "cells": [
  {
   "cell_type": "markdown",
   "metadata": {},
   "source": [
    "Problem Statement <br/>\n",
    "\n",
    "Given two sorted arrays in descending order, find ‘K’ pairs with the largest sum where each pair consists of numbers from both the arrays.\n",
    "\n",
    "Example 1:\n",
    "\n",
    "Input: L1=[9, 8, 2], L2=[6, 3, 1], K=3\n",
    "Output: [9, 3], [9, 6], [8, 6] \n",
    "Explanation: These 3 pairs have the largest sum. No other pair has a sum larger than any of these.\n",
    "\n",
    "Example 2:\n",
    "\n",
    "Input: L1=[5, 2, 1], L2=[2, -1], K=3\n",
    "Output: [5, 2], [5, -1], [2, 2]"
   ]
  },
  {
   "cell_type": "markdown",
   "metadata": {},
   "source": [
    "# Heap - O(N* M *logK) runtime, O(K) space, where ‘N’ and ‘M’ are the total number of elements in both arrays, respectively"
   ]
  },
  {
   "cell_type": "code",
   "execution_count": 5,
   "metadata": {},
   "outputs": [],
   "source": [
    "from heapq import *\n",
    "\n",
    "def find_k_largest_pairs(nums1, nums2, k):\n",
    "    minHeap = []\n",
    "    for i in range(0, min(k, len(nums1))):\n",
    "        for j in range(min(k, len(nums2))):\n",
    "            if len(minHeap) < k:\n",
    "                heappush(minHeap, (nums1[i] + nums2[j], i, j))\n",
    "            else:\n",
    "                # if the sum of the two numbers from the two arrays is smaller than the smallest(top)\n",
    "                # element of the heap, we can 'break' here. Since the arrays are sorted in the\n",
    "                # descending order, we'll not be able to find a pair with a higher sum moving forward\n",
    "                if nums1[i] + nums2[j] < minHeap[0][0]:\n",
    "                    break\n",
    "                else:    # we have a pair with a larger sum, remove top and insert this pair in the heap\n",
    "                    heappop(minHeap)\n",
    "                    heappush(minHeap, (nums1[i] + nums2[j], i, j))\n",
    "\n",
    "    result = []\n",
    "    for (num, i, j) in minHeap:\n",
    "        result.append([nums1[i], nums2[j]])\n",
    "\n",
    "    return result"
   ]
  },
  {
   "cell_type": "code",
   "execution_count": 6,
   "metadata": {},
   "outputs": [
    {
     "data": {
      "text/plain": [
       "[[9, 3], [9, 6], [8, 6]]"
      ]
     },
     "execution_count": 6,
     "metadata": {},
     "output_type": "execute_result"
    }
   ],
   "source": [
    "find_k_largest_pairs([9, 8, 2], [6, 3, 1], 3)"
   ]
  }
 ],
 "metadata": {
  "kernelspec": {
   "display_name": "Python 3",
   "language": "python",
   "name": "python3"
  },
  "language_info": {
   "codemirror_mode": {
    "name": "ipython",
    "version": 3
   },
   "file_extension": ".py",
   "mimetype": "text/x-python",
   "name": "python",
   "nbconvert_exporter": "python",
   "pygments_lexer": "ipython3",
   "version": "3.7.3"
  }
 },
 "nbformat": 4,
 "nbformat_minor": 2
}
