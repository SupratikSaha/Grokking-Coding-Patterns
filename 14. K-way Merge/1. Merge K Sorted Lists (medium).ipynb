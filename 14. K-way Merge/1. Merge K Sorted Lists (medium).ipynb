{
 "cells": [
  {
   "cell_type": "markdown",
   "metadata": {},
   "source": [
    "Problem Statement <br/>\n",
    "\n",
    "Given an array of ‘K’ sorted LinkedLists, merge them into one sorted list. <br/>\n",
    "\n",
    "Example 1: <br/>\n",
    "Input: L1=[2, 6, 8], L2=[3, 6, 7], L3=[1, 3, 4] <br/>\n",
    "Output: [1, 2, 3, 3, 4, 6, 6, 7, 8] <br/>\n",
    "\n",
    "Example 2: <br/>\n",
    "Input: L1=[5, 8, 9], L2=[1, 7] <br/>\n",
    "Output: [1, 5, 7, 8, 9]"
   ]
  },
  {
   "cell_type": "markdown",
   "metadata": {},
   "source": [
    "# Heap - O(N logK) runtime, O(K) space, where ‘N’ is the total number of elements in all the ‘K’ input arrays "
   ]
  },
  {
   "cell_type": "code",
   "execution_count": 1,
   "metadata": {},
   "outputs": [],
   "source": [
    "from heapq import *\n",
    "\n",
    "class ListNode:\n",
    "    def __init__(self, value):\n",
    "        self.value = value\n",
    "        self.next = None\n",
    "\n",
    "    # used for the min-heap\n",
    "    def __lt__(self, other):\n",
    "        return self.value < other.value\n",
    "\n",
    "def merge_lists(lists):\n",
    "    minHeap = []\n",
    "\n",
    "    # put the root of each list in the min heap\n",
    "    for root in lists:\n",
    "        if root is not None:\n",
    "            heappush(minHeap, root)\n",
    "\n",
    "    # take the smallest(top) element form the min-heap and add it to the result\n",
    "    # if the top element has a next element add it to the heap\n",
    "    resultHead, resultTail = None, None\n",
    "    while minHeap:\n",
    "        node = heappop(minHeap)\n",
    "        if resultHead is None:\n",
    "            resultHead = resultTail = node\n",
    "        else:\n",
    "            resultTail.next = node\n",
    "            resultTail = resultTail.next\n",
    "\n",
    "        if node.next is not None:\n",
    "            heappush(minHeap, node.next)\n",
    "\n",
    "    return resultHead"
   ]
  }
 ],
 "metadata": {
  "kernelspec": {
   "display_name": "Python 3",
   "language": "python",
   "name": "python3"
  },
  "language_info": {
   "codemirror_mode": {
    "name": "ipython",
    "version": 3
   },
   "file_extension": ".py",
   "mimetype": "text/x-python",
   "name": "python",
   "nbconvert_exporter": "python",
   "pygments_lexer": "ipython3",
   "version": "3.7.3"
  }
 },
 "nbformat": 4,
 "nbformat_minor": 2
}
