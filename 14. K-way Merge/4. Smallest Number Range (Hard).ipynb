{
 "cells": [
  {
   "cell_type": "markdown",
   "metadata": {},
   "source": [
    "Problem Statement <br/>\n",
    "\n",
    "Given ‘M’ sorted arrays, find the smallest range that includes at least one number from each of the ‘M’ lists. <br/>\n",
    "\n",
    "Example 1: <br/>\n",
    "Input: L1=[1, 5, 8], L2=[4, 12], L3=[7, 8, 10] <br/>\n",
    "Output: [4, 7] <br/>\n",
    "Explanation: The range [4, 7] includes 5 from L1, 4 from L2 and 7 from L3. <br/>\n",
    "\n",
    "Example 2: <br/>\n",
    "Input: L1=[1, 9], L2=[4, 12], L3=[7, 10, 16] <br/>\n",
    "Output: [9, 12] <br/>\n",
    "Explanation: The range [9, 12] includes 9 from L1, 12 from L2 and 10 from L3. "
   ]
  },
  {
   "cell_type": "markdown",
   "metadata": {},
   "source": [
    "# Heap - O(N∗logK) runtime, O(K) space, where ‘N’ is the total number of elements in all the ‘K’ input arrays"
   ]
  },
  {
   "cell_type": "code",
   "execution_count": 1,
   "metadata": {},
   "outputs": [],
   "source": [
    "from heapq import *\n",
    "\n",
    "def find_smallest_range(lists):\n",
    "    minHeap = []\n",
    "    rangeStart, rangeEnd = 0, float('inf')\n",
    "    currentMaxNumber = float('-inf')\n",
    "\n",
    "    # put the 1st element of each array in the max heap\n",
    "    for list_index, arr in enumerate(lists):\n",
    "        heappush(minHeap, (arr[0], 0, list_index))\n",
    "        currentMaxNumber = max(currentMaxNumber, arr[0])\n",
    "\n",
    "    # take the smallest(top) element form the min heap, if it gives us smaller range, update the ranges\n",
    "    # if the array of the top element has more elements, insert the next element in the heap\n",
    "    while len(minHeap) == len(lists):\n",
    "        num, i, list_index = heappop(minHeap)\n",
    "        if rangeEnd - rangeStart > currentMaxNumber - num:\n",
    "            rangeStart = num\n",
    "            rangeEnd = currentMaxNumber\n",
    "\n",
    "        if len(lists[list_index]) > i+1:\n",
    "            # insert the next element in the heap\n",
    "            heappush(minHeap, (lists[list_index][i+1], i+1, list_index))\n",
    "            currentMaxNumber = max(currentMaxNumber, lists[list_index][i+1])\n",
    "\n",
    "    return [rangeStart, rangeEnd]"
   ]
  },
  {
   "cell_type": "code",
   "execution_count": 2,
   "metadata": {},
   "outputs": [
    {
     "data": {
      "text/plain": [
       "[9, 12]"
      ]
     },
     "execution_count": 2,
     "metadata": {},
     "output_type": "execute_result"
    }
   ],
   "source": [
    "find_smallest_range([[1, 9], [4, 12], [7, 10, 16]])"
   ]
  }
 ],
 "metadata": {
  "kernelspec": {
   "display_name": "Python 3",
   "language": "python",
   "name": "python3"
  },
  "language_info": {
   "codemirror_mode": {
    "name": "ipython",
    "version": 3
   },
   "file_extension": ".py",
   "mimetype": "text/x-python",
   "name": "python",
   "nbconvert_exporter": "python",
   "pygments_lexer": "ipython3",
   "version": "3.7.3"
  }
 },
 "nbformat": 4,
 "nbformat_minor": 2
}
