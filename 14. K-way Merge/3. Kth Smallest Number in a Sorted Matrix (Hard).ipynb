{
 "cells": [
  {
   "cell_type": "markdown",
   "metadata": {},
   "source": [
    "Problem Statement <br/>\n",
    "\n",
    "Given an N * N matrix where each row and column is sorted in ascending order, find the Kth smallest element in the matrix. <br/>\n",
    "\n",
    "Example 1: <br/>\n",
    "Input: Matrix=[ <br/>\n",
    "    [2, 6, 8],  <br/>\n",
    "    [3, 7, 10], <br/>\n",
    "    [5, 8, 11] <br/>\n",
    "  ],  <br/>\n",
    "  K=5 <br/>\n",
    "Output: 7 <br/>\n",
    "Explanation: The 5th smallest number in the matrix is 7. "
   ]
  },
  {
   "cell_type": "markdown",
   "metadata": {},
   "source": [
    "# Arithmetic - O(1) runtime, O(1) space"
   ]
  },
  {
   "cell_type": "code",
   "execution_count": 1,
   "metadata": {},
   "outputs": [],
   "source": [
    "def find_Kth_smallest(matrix, k):\n",
    "    numRows = len(matrix)\n",
    "\n",
    "    resultColumn = k // numRows\n",
    "    resultRow = k % numRows - 1\n",
    "    # TODO: Write your code here\n",
    "    return matrix[resultRow][resultColumn]"
   ]
  },
  {
   "cell_type": "markdown",
   "metadata": {},
   "source": [
    "# Heap - O(min(K,N)+K∗logN) runtime, O(N) space"
   ]
  },
  {
   "cell_type": "code",
   "execution_count": 3,
   "metadata": {},
   "outputs": [],
   "source": [
    "from heapq import *\n",
    "\n",
    "def find_Kth_smallest(matrix, k):\n",
    "    minHeap = []\n",
    "\n",
    "    # put the 1st element of each row in the min heap\n",
    "    # we don't need to push more than 'k' elements in the heap\n",
    "    for i in range(min(k, len(matrix))):\n",
    "        heappush(minHeap, (matrix[i][0], 0, matrix[i]))\n",
    "\n",
    "    # take the smallest(top) element form the min heap, if the running count is equal to k' return the number\n",
    "    # if the row of the top element has more elements, add the next element to the heap\n",
    "    numberCount, number = 0, 0\n",
    "    while minHeap:\n",
    "        number, i, row = heappop(minHeap)\n",
    "        numberCount += 1\n",
    "        if numberCount == k:\n",
    "            break\n",
    "        if len(row) > i+1:\n",
    "            heappush(minHeap, (row[i+1], i+1, row))\n",
    "    return number"
   ]
  },
  {
   "cell_type": "markdown",
   "metadata": {},
   "source": [
    "# Binary Search - O(N∗log(max−min)) runtime, O(1) space, where ‘max’ is the largest and ‘min’ is the smallest element in the matrix"
   ]
  },
  {
   "cell_type": "code",
   "execution_count": 5,
   "metadata": {},
   "outputs": [],
   "source": [
    "def find_Kth_smallest(matrix, k):\n",
    "    n = len(matrix)\n",
    "    start, end = matrix[0][0], matrix[n - 1][n - 1]\n",
    "    while start < end:\n",
    "        mid = start + (end - start) / 2\n",
    "        smaller, larger = (matrix[0][0], matrix[n - 1][n - 1])\n",
    "\n",
    "        count, smaller, larger = count_less_equal(matrix, mid, smaller, larger)\n",
    "\n",
    "        if count == k:\n",
    "            return smaller\n",
    "        if count < k:\n",
    "            start = larger    # search higher\n",
    "        else:\n",
    "            end = smaller    # search lower\n",
    "\n",
    "    return start \n",
    "\n",
    "def count_less_equal(matrix, mid, smaller, larger):\n",
    "    count, n = 0, len(matrix)\n",
    "    row, col = n - 1, 0\n",
    "    while row >= 0 and col < n:\n",
    "        if matrix[row][col] > mid:\n",
    "            # as matrix[row][col] is bigger than the mid, let's keep track of the\n",
    "            # smallest number greater than the mid\n",
    "            larger = min(larger, matrix[row][col])\n",
    "            row -= 1\n",
    "        else:\n",
    "            # as matrix[row][col] is less than or equal to the mid, let's keep track of the\n",
    "            # biggest number less than or equal to the mid\n",
    "            smaller = max(smaller, matrix[row][col])\n",
    "            count += row + 1\n",
    "            col += 1\n",
    "\n",
    "    return count, smaller, larger"
   ]
  },
  {
   "cell_type": "code",
   "execution_count": 6,
   "metadata": {},
   "outputs": [
    {
     "data": {
      "text/plain": [
       "7"
      ]
     },
     "execution_count": 6,
     "metadata": {},
     "output_type": "execute_result"
    }
   ],
   "source": [
    "find_Kth_smallest([[2, 6, 8], [3, 7, 10], [5, 8, 11]], 5)"
   ]
  }
 ],
 "metadata": {
  "kernelspec": {
   "display_name": "Python 3",
   "language": "python",
   "name": "python3"
  },
  "language_info": {
   "codemirror_mode": {
    "name": "ipython",
    "version": 3
   },
   "file_extension": ".py",
   "mimetype": "text/x-python",
   "name": "python",
   "nbconvert_exporter": "python",
   "pygments_lexer": "ipython3",
   "version": "3.7.3"
  }
 },
 "nbformat": 4,
 "nbformat_minor": 2
}
