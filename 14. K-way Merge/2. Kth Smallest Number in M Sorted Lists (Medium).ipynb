{
 "cells": [
  {
   "cell_type": "markdown",
   "metadata": {},
   "source": [
    "Problem Statement <br/>\n",
    "\n",
    "Given ‘M’ sorted arrays, find the K’th smallest number among all the arrays. <br/>\n",
    "\n",
    "Example 1: <br/>\n",
    "Input: L1=[2, 6, 8], L2=[3, 6, 7], L3=[1, 3, 4], K=5 <br/>\n",
    "Output: 4 <br/>\n",
    "Explanation: The 5th smallest number among all the arrays is 4, this can be verified from the merged \n",
    "list of all the arrays: [1, 2, 3, 3, 4, 6, 6, 7, 8] <br/>\n",
    "\n",
    "Example 2: <br/>\n",
    "Input: L1=[5, 8, 9], L2=[1, 7], K=3 <br/>\n",
    "Output: 7 <br/>\n",
    "Explanation: The 3rd smallest number among all the arrays is 7."
   ]
  },
  {
   "cell_type": "markdown",
   "metadata": {},
   "source": [
    "# Heap - O(K logM) runtime, O(M) space, where ‘M’ is the total number of input arrays"
   ]
  },
  {
   "cell_type": "code",
   "execution_count": 2,
   "metadata": {},
   "outputs": [],
   "source": [
    "from heapq import heappush, heappop\n",
    "\n",
    "def find_Kth_smallest(lists, k):\n",
    "    minHeap = []\n",
    "    for listNum, numList in enumerate(lists):\n",
    "        if numList:\n",
    "            heappush(minHeap, (numList[0], listNum, 0))\n",
    "\n",
    "    while k > 0 and minHeap:\n",
    "        number, listNum, listIndex = heappop(minHeap)\n",
    "        k -= 1\n",
    "        if len(lists[listNum]) > listIndex + 1:\n",
    "            heappush(minHeap, (lists[listNum][listIndex + 1], listNum, listIndex + 1))\n",
    "\n",
    "    return number if k == 0 else None"
   ]
  },
  {
   "cell_type": "code",
   "execution_count": 3,
   "metadata": {},
   "outputs": [
    {
     "data": {
      "text/plain": [
       "4"
      ]
     },
     "execution_count": 3,
     "metadata": {},
     "output_type": "execute_result"
    }
   ],
   "source": [
    "find_Kth_smallest([[2, 6, 8], [3, 6, 7], [1, 3, 4]], 5)"
   ]
  }
 ],
 "metadata": {
  "kernelspec": {
   "display_name": "Python 3",
   "language": "python",
   "name": "python3"
  },
  "language_info": {
   "codemirror_mode": {
    "name": "ipython",
    "version": 3
   },
   "file_extension": ".py",
   "mimetype": "text/x-python",
   "name": "python",
   "nbconvert_exporter": "python",
   "pygments_lexer": "ipython3",
   "version": "3.7.3"
  }
 },
 "nbformat": 4,
 "nbformat_minor": 2
}
