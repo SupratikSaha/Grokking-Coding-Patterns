{
 "cells": [
  {
   "cell_type": "markdown",
   "metadata": {},
   "source": [
    "For ‘K’ employees, we are given a list of intervals representing the working hours of each employee. Our goal is to find out if there is a free interval that is common to all employees. You can assume that each list of employee working hours is sorted on the start time. <br/>\n",
    "\n",
    "Example 1: <br/>\n",
    "Input: Employee Working Hours=[[[1,3], [5,6]], [[2,3], [6,8]]] <br/>\n",
    "Output: [3,5] <br/>\n",
    "Explanation: Both the employess are free between [3,5]. <br/>\n",
    "\n",
    "Example 2: <br/>\n",
    "Input: Employee Working Hours=[[[1,3], [9,12]], [[2,4]], [[6,8]]] <br/>\n",
    "Output: [4,6], [8,9] <br/>\n",
    "Explanation: All employess are free between [4,6] and [8,9]. <br/>\n",
    "\n",
    "Example 3: <br/>\n",
    "Input: Employee Working Hours=[[[1,3]], [[2,4]], [[3,5], [7,9]]] <br/>\n",
    "Output: [5,7] <br/>\n",
    "Explanation: All employess are free between [5,7]. "
   ]
  },
  {
   "cell_type": "markdown",
   "metadata": {},
   "source": [
    "# Two loops and Extra Space - O(N) runtime, O(N) space where N is the total number of intervals"
   ]
  },
  {
   "cell_type": "code",
   "execution_count": 11,
   "metadata": {},
   "outputs": [],
   "source": [
    "class Interval:\n",
    "    def __init__(self, start, end):\n",
    "        self.start = start\n",
    "        self.end = end\n",
    "\n",
    "\n",
    "def find_employee_free_time(schedule):\n",
    "    if not schedule or len(schedule) == 0:\n",
    "        return []\n",
    "    \n",
    "    result = []\n",
    "    min_time, max_time = float('inf'), 0\n",
    "\n",
    "    for i, s in enumerate(schedule):\n",
    "        min_time = min(min_time, schedule[i][0].start)\n",
    "        max_time = max(max_time, schedule[i][-1].end)\n",
    "\n",
    "    time_arr = [1] * max_time\n",
    "\n",
    "    for i, s in enumerate(schedule):\n",
    "        for j, interval in enumerate(s):\n",
    "            for k in range(interval.start, interval.end):\n",
    "                time_arr[k] = 0\n",
    "\n",
    "\n",
    "    ctr = min_time\n",
    "    while ctr < max_time:\n",
    "        if time_arr[ctr] == 1:\n",
    "            min_bound = ctr\n",
    "            while time_arr[ctr] == 1:\n",
    "                ctr += 1\n",
    "            max_bound = ctr\n",
    "            result.append(Interval(min_bound, max_bound))\n",
    "\n",
    "        ctr += 1\n",
    "\n",
    "    return result"
   ]
  },
  {
   "cell_type": "markdown",
   "metadata": {},
   "source": [
    "# Merge Interval - Heap - O(N * Log K) runtime, O(K) space where ‘N’ is the total number of intervals and ‘K’ is the total number of employees"
   ]
  },
  {
   "cell_type": "code",
   "execution_count": 12,
   "metadata": {},
   "outputs": [],
   "source": [
    "from heapq import *\n",
    "\n",
    "\n",
    "class Interval:\n",
    "    def __init__(self, start, end):\n",
    "        self.start = start\n",
    "        self.end = end\n",
    "\n",
    "class EmployeeInterval:\n",
    "\n",
    "    def __init__(self, interval, employeeIndex, intervalIndex):\n",
    "        self.interval = interval  # interval representing employee's working hours\n",
    "        # index of the list containing working hours of this employee\n",
    "        self.employeeIndex = employeeIndex\n",
    "        self.intervalIndex = intervalIndex  # index of the interval in the employee list\n",
    "\n",
    "    def __lt__(self, other):\n",
    "        # min heap based on meeting.end\n",
    "        return self.interval.start < other.interval.start\n",
    "\n",
    "def find_employee_free_time(schedule):\n",
    "    if schedule is None:\n",
    "        return []\n",
    "\n",
    "    n = len(schedule)\n",
    "    result, minHeap = [], []\n",
    "\n",
    "    # insert the first interval of each employee to the queue\n",
    "    for i in range(n):\n",
    "        heappush(minHeap, EmployeeInterval(schedule[i][0], i, 0))\n",
    "\n",
    "    previousInterval = minHeap[0].interval\n",
    "    while minHeap:\n",
    "        queueTop = heappop(minHeap)\n",
    "        # if previousInterval is not overlapping with the next interval, insert a free interval\n",
    "        if previousInterval.end < queueTop.interval.start:\n",
    "            result.append(Interval(previousInterval.end,\n",
    "                                   queueTop.interval.start))\n",
    "            previousInterval = queueTop.interval\n",
    "        else:  # overlapping intervals, update the previousInterval if needed\n",
    "            if previousInterval.end < queueTop.interval.end:\n",
    "                previousInterval = queueTop.interval\n",
    "\n",
    "        # if there are more intervals available for the same employee, add their next interval\n",
    "        employeeSchedule = schedule[queueTop.employeeIndex]\n",
    "        if len(employeeSchedule) > queueTop.intervalIndex + 1:\n",
    "            heappush(minHeap, EmployeeInterval(employeeSchedule[queueTop.intervalIndex + 1], queueTop.employeeIndex,\n",
    "                                               queueTop.intervalIndex + 1))\n",
    "\n",
    "    return result"
   ]
  }
 ],
 "metadata": {
  "kernelspec": {
   "display_name": "Python 3",
   "language": "python",
   "name": "python3"
  },
  "language_info": {
   "codemirror_mode": {
    "name": "ipython",
    "version": 3
   },
   "file_extension": ".py",
   "mimetype": "text/x-python",
   "name": "python",
   "nbconvert_exporter": "python",
   "pygments_lexer": "ipython3",
   "version": "3.7.3"
  }
 },
 "nbformat": 4,
 "nbformat_minor": 2
}
