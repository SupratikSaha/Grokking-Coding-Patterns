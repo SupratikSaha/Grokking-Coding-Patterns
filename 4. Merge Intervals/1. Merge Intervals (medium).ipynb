{
 "cells": [
  {
   "cell_type": "markdown",
   "metadata": {},
   "source": [
    "Problem Statement <br/>\n",
    "\n",
    "Given a list of intervals, merge all the overlapping intervals to produce a list that has only mutually exclusive intervals. <br/>\n",
    "\n",
    "Example 1: <br/>\n",
    "Intervals: [[1,4], [2,5], [7,9]] <br/>\n",
    "Output: [[1,5], [7,9]] <br/>\n",
    "Explanation: Since the first two intervals [1,4] and [2,5] overlap, we merged them into one [1,5]. <br/>\n",
    "\n",
    "Example 2: <br/>\n",
    "Intervals: [[6,7], [2,4], [5,9]] <br/>\n",
    "Output: [[2,4], [5,9]] <br/>\n",
    "Explanation: Since the intervals [6,7] and [5,9] overlap, we merged them into one [5,9]. <br/>\n",
    " \n",
    "\n",
    "Example 3: <br/>\n",
    "Intervals: [[1,4], [2,6], [3,5]] <br/>\n",
    "Output: [[1,6]] <br/>\n",
    "Explanation: Since all the given intervals overlap, we merged them into one."
   ]
  },
  {
   "cell_type": "markdown",
   "metadata": {},
   "source": [
    "# Merge Intervals - O(n * log n) runtime, O(n) space"
   ]
  },
  {
   "cell_type": "code",
   "execution_count": 5,
   "metadata": {},
   "outputs": [],
   "source": [
    "class Interval:\n",
    "    def __init__(self, start, end):\n",
    "        self.start = start\n",
    "        self.end = end\n",
    "    def print_interval(self):\n",
    "        print(\"[\" + str(self.start) + \", \" + str(self.end) + \"]\", end='')\n",
    "\n",
    "def merge(intervals):\n",
    "    if len(intervals) < 2:\n",
    "        return intervals\n",
    "    \n",
    "    merged = []\n",
    "    \n",
    "    intervals = sorted(intervals, key=lambda x: x.start)\n",
    "    curr = intervals[0]\n",
    "    for i in range(1, len(intervals)):\n",
    "        if intervals[i].start < curr.end:\n",
    "            curr.end = max(curr.end, intervals[i].end)\n",
    "        else:\n",
    "            merged.append(curr)\n",
    "            curr = intervals[i]\n",
    "    \n",
    "    merged.append(curr)\n",
    "\n",
    "    return merged"
   ]
  },
  {
   "cell_type": "code",
   "execution_count": 6,
   "metadata": {},
   "outputs": [
    {
     "name": "stdout",
     "output_type": "stream",
     "text": [
      "[1, 5][7, 9]"
     ]
    }
   ],
   "source": [
    "for i in merge([Interval(1, 4), Interval(2, 5), Interval(7, 9)]):\n",
    "    i.print_interval()"
   ]
  }
 ],
 "metadata": {
  "kernelspec": {
   "display_name": "Python 3",
   "language": "python",
   "name": "python3"
  },
  "language_info": {
   "codemirror_mode": {
    "name": "ipython",
    "version": 3
   },
   "file_extension": ".py",
   "mimetype": "text/x-python",
   "name": "python",
   "nbconvert_exporter": "python",
   "pygments_lexer": "ipython3",
   "version": "3.7.3"
  }
 },
 "nbformat": 4,
 "nbformat_minor": 2
}
