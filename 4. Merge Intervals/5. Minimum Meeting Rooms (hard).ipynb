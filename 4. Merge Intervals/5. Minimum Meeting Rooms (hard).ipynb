{
 "cells": [
  {
   "cell_type": "markdown",
   "metadata": {},
   "source": [
    "Problem Statement: <br/>\n",
    "\n",
    "Given a list of intervals representing the start and end time of ‘N’ meetings, find the minimum number of rooms required to hold all the meetings.  <br/>\n",
    "\n",
    "Example 1: <br/>\n",
    "Meetings: [[1,4], [2,5], [7,9]] <br/>\n",
    "Output: 2 <br/>\n",
    "Explanation: Since [1,4] and [2,5] overlap, we need two rooms to hold these two meetings. [7,9] can \n",
    "occur in any of the two rooms later. <br/>\n",
    "\n",
    "Example 2: <br/>\n",
    "Meetings: [[6,7], [2,4], [8,12]] <br/>\n",
    "Output: 1 <br/>\n",
    "Explanation: None of the meetings overlap, therefore we only need one room to hold all meetings. <br/>\n",
    "\n",
    "Example 3: <br/>\n",
    "Meetings: [[1,4], [2,3], [3,6]] <br/>\n",
    "Output:2 <br/>\n",
    "Explanation: Since [1,4] overlaps with the other two meetings [2,3] and [3,6], we need two rooms to \n",
    "hold all the meetings. <br/>\n",
    " \n",
    "\n",
    "Example 4: <br/>\n",
    "Meetings: [[4,5], [2,3], [2,4], [3,5]] <br/>\n",
    "Output: 2 <br/>\n",
    "Explanation: We will need one room for [2,3] and [3,5], and another room for [2,4] and [4,5]. <br/>"
   ]
  },
  {
   "cell_type": "markdown",
   "metadata": {},
   "source": [
    "# Two Loops - O(N ^ 2) runtime, O(N) space"
   ]
  },
  {
   "cell_type": "code",
   "execution_count": 1,
   "metadata": {},
   "outputs": [],
   "source": [
    "class Meeting:\n",
    "    def __init__(self, start, end):\n",
    "        self.start = start\n",
    "        self.end = end\n",
    "\n",
    "def min_meeting_rooms(meetings):\n",
    "    meetings = sorted(meetings, key=lambda x: (x.end, x.start))\n",
    "    rooms = [meetings[0]]\n",
    "\n",
    "    for i in range(1, len(meetings)):\n",
    "        curr = meetings[i]\n",
    "        added = 0\n",
    "        for j, room in enumerate(rooms):\n",
    "            if curr.start >= room.end:\n",
    "                room.end = curr.end\n",
    "                added = 1\n",
    "                break\n",
    "\n",
    "        if added == 0:\n",
    "            rooms.append(curr)\n",
    "            \n",
    "        rooms = sorted(rooms, key=lambda x:x.end)\n",
    "\n",
    "    return len(rooms)"
   ]
  },
  {
   "cell_type": "markdown",
   "metadata": {},
   "source": [
    "# Min Heap - O(N * log N) runtime, O(N) space"
   ]
  },
  {
   "cell_type": "code",
   "execution_count": 2,
   "metadata": {},
   "outputs": [],
   "source": [
    "from heapq import *\n",
    "\n",
    "class Meeting:\n",
    "    def __init__(self, start, end):\n",
    "        self.start = start\n",
    "        self.end = end\n",
    "        \n",
    "    def __lt__(self, other):\n",
    "        # min heap based on meeting.end\n",
    "        return self.end < other.end\n",
    "\n",
    "def min_meeting_rooms(meetings):\n",
    "    meetings.sort(key=lambda x: x.start)\n",
    "\n",
    "    minRooms = 0\n",
    "    minHeap = []\n",
    "    for meeting in meetings:\n",
    "        # remove a meeting that has ended\n",
    "        if minHeap and meeting.start >= minHeap[0].end:\n",
    "            heappop(minHeap)\n",
    "        # add the current meeting into min_heap\n",
    "        heappush(minHeap, meeting)\n",
    "        # all active meetings are in the min_heap, so we need rooms for all of them.\n",
    "        minRooms = max(minRooms, len(minHeap))\n",
    "    return minRooms"
   ]
  },
  {
   "cell_type": "code",
   "execution_count": 3,
   "metadata": {},
   "outputs": [
    {
     "name": "stdout",
     "output_type": "stream",
     "text": [
      "Minimum meeting rooms required: 2\n"
     ]
    }
   ],
   "source": [
    "print(\"Minimum meeting rooms required: \" + str(min_meeting_rooms(\n",
    "    [Meeting(4, 5), Meeting(2, 3), Meeting(2, 4), Meeting(3, 5)])))"
   ]
  }
 ],
 "metadata": {
  "kernelspec": {
   "display_name": "Python 3",
   "language": "python",
   "name": "python3"
  },
  "language_info": {
   "codemirror_mode": {
    "name": "ipython",
    "version": 3
   },
   "file_extension": ".py",
   "mimetype": "text/x-python",
   "name": "python",
   "nbconvert_exporter": "python",
   "pygments_lexer": "ipython3",
   "version": "3.7.3"
  }
 },
 "nbformat": 4,
 "nbformat_minor": 2
}
