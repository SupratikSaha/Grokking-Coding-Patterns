{
 "cells": [
  {
   "cell_type": "markdown",
   "metadata": {},
   "source": [
    "Problem Statement <br/>\n",
    "\n",
    "Given an array of intervals representing ‘N’ appointments, find out if a person can attend all the appointments. <br/>\n",
    "\n",
    "Example 1: <br/>\n",
    "Appointments: [[1,4], [2,5], [7,9]] <br/>\n",
    "Output: false <br/>\n",
    "Explanation: Since [1,4] and [2,5] overlap, a person cannot attend both of these appointments. <br/>\n",
    "\n",
    "Example 2: <br/>\n",
    "Appointments: [[6,7], [2,4], [8,12]] <br/>\n",
    "Output: true <br/>\n",
    "Explanation: None of the appointments overlap, therefore a person can attend all of them. <br/>\n",
    "\n",
    "Example 3: <br/>\n",
    "Appointments: [[4,5], [2,3], [3,6]] <br/>\n",
    "Output: false <br/>\n",
    "Explanation: Since [4,5] and [3,6] overlap, a person cannot attend both of these appointments."
   ]
  },
  {
   "cell_type": "markdown",
   "metadata": {},
   "source": [
    "# Merge Intervals - O(N * log N) runtime, O(N) space"
   ]
  },
  {
   "cell_type": "code",
   "execution_count": 2,
   "metadata": {},
   "outputs": [],
   "source": [
    "def can_attend_all_appointments(intervals):\n",
    "    length = len(intervals)\n",
    "\n",
    "    if length < 2:\n",
    "        return True\n",
    "    \n",
    "    intervals = sorted(intervals, key=lambda x: x[0])\n",
    "\n",
    "    for i in range(1, len(intervals)):\n",
    "        if intervals[i][0] < intervals[i-1][1]:\n",
    "            return False\n",
    "            \n",
    "    return True"
   ]
  },
  {
   "cell_type": "code",
   "execution_count": 3,
   "metadata": {},
   "outputs": [
    {
     "data": {
      "text/plain": [
       "False"
      ]
     },
     "execution_count": 3,
     "metadata": {},
     "output_type": "execute_result"
    }
   ],
   "source": [
    "can_attend_all_appointments([[4,5], [2,3], [3,6]])"
   ]
  }
 ],
 "metadata": {
  "kernelspec": {
   "display_name": "Python 3",
   "language": "python",
   "name": "python3"
  },
  "language_info": {
   "codemirror_mode": {
    "name": "ipython",
    "version": 3
   },
   "file_extension": ".py",
   "mimetype": "text/x-python",
   "name": "python",
   "nbconvert_exporter": "python",
   "pygments_lexer": "ipython3",
   "version": "3.7.3"
  }
 },
 "nbformat": 4,
 "nbformat_minor": 2
}
