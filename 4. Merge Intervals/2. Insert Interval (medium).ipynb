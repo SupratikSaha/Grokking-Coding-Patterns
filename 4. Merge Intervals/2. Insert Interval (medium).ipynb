{
 "cells": [
  {
   "cell_type": "markdown",
   "metadata": {},
   "source": [
    "Problem Statement <br/>\n",
    "\n",
    "Given a list of non-overlapping intervals sorted by their start time, insert a given interval at the correct position and merge all necessary intervals to produce a list that has only mutually exclusive intervals. <br/>\n",
    "\n",
    "Example 1: <br/>\n",
    "Input: Intervals=[[1,3], [5,7], [8,12]], New Interval=[4,6] <br/>\n",
    "Output: [[1,3], [4,7], [8,12]] <br/>\n",
    "Explanation: After insertion, since [4,6] overlaps with [5,7], we merged them into one [4,7]. <br/>\n",
    "\n",
    "Example 2: <br/>\n",
    "Input: Intervals=[[1,3], [5,7], [8,12]], New Interval=[4,10] <br/>\n",
    "Output: [[1,3], [4,12]] <br/>\n",
    "Explanation: After insertion, since [4,10] overlaps with [5,7] & [8,12], we merged them into [4,12]. <br/>\n",
    "\n",
    "Example 3: <br/>\n",
    "Input: Intervals=[[2,3],[5,7]], New Interval=[1,4] <br/>\n",
    "Output: [[1,4], [5,7]] <br/>\n",
    "Explanation: After insertion, since [1,4] overlaps with [2,3], we merged them into one [1,4]."
   ]
  },
  {
   "cell_type": "markdown",
   "metadata": {},
   "source": [
    "# Merge Intervals - O(N) runtime, O(N) space"
   ]
  },
  {
   "cell_type": "code",
   "execution_count": 1,
   "metadata": {},
   "outputs": [],
   "source": [
    "def insert(intervals, new_interval):\n",
    "    length = len(intervals)\n",
    "    if length == 0:\n",
    "        return [new_interval]\n",
    "    \n",
    "    merged = []\n",
    "    i, start, end = 0, 0, 1\n",
    "\n",
    "    # skip (and add to output) all intervals that come before the 'new_interval'\n",
    "    while i < length and intervals[i][end] < new_interval[start]:\n",
    "        merged.append(intervals[i])\n",
    "        i += 1\n",
    "\n",
    "    # merge all intervals that overlap with 'new_interval'\n",
    "    while i < length and intervals[i][start] <= new_interval[end]:\n",
    "        new_interval[start] = min(intervals[i][start], new_interval[start])\n",
    "        new_interval[end] = max(intervals[i][end], new_interval[end])\n",
    "        i += 1\n",
    "\n",
    "    # insert the new_interval\n",
    "    merged.append(new_interval)\n",
    "\n",
    "    # add all the remaining intervals to the output\n",
    "    while i < length:\n",
    "        merged.append(intervals[i])\n",
    "        i += 1\n",
    "    return merged"
   ]
  },
  {
   "cell_type": "code",
   "execution_count": 2,
   "metadata": {},
   "outputs": [
    {
     "data": {
      "text/plain": [
       "[[1, 3], [4, 12]]"
      ]
     },
     "execution_count": 2,
     "metadata": {},
     "output_type": "execute_result"
    }
   ],
   "source": [
    "insert([[1,3], [5,7], [8,12]], [4,10])"
   ]
  }
 ],
 "metadata": {
  "kernelspec": {
   "display_name": "Python 3",
   "language": "python",
   "name": "python3"
  },
  "language_info": {
   "codemirror_mode": {
    "name": "ipython",
    "version": 3
   },
   "file_extension": ".py",
   "mimetype": "text/x-python",
   "name": "python",
   "nbconvert_exporter": "python",
   "pygments_lexer": "ipython3",
   "version": "3.7.3"
  }
 },
 "nbformat": 4,
 "nbformat_minor": 2
}
