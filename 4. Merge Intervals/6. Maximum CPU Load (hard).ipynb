{
 "cells": [
  {
   "cell_type": "markdown",
   "metadata": {},
   "source": [
    "We are given a list of Jobs. Each job has a Start time, an End time, and a CPU load when it is running. Our goal is to find the maximum CPU load at any time if all the jobs are running on the same machine. <br/>\n",
    "\n",
    "Example 1: <br/>\n",
    "Jobs: [[1,4,3], [2,5,4], [7,9,6]] <br/>\n",
    "Output: 7 <br/>\n",
    "Explanation: Since [1,4,3] and [2,5,4] overlap, their maximum CPU load (3+4=7) will be when both the \n",
    "jobs are running at the same time i.e., during the time interval (2,4). <br/>\n",
    "\n",
    "Example 2: <br/>\n",
    "Jobs: [[6,7,10], [2,4,11], [8,12,15]] <br/>\n",
    "Output: 15 <br/>\n",
    "Explanation: None of the jobs overlap, therefore we will take the maximum load of any job which is 15. <br/>\n",
    "\n",
    "Example 3: <br/>\n",
    "Jobs: [[1,4,2], [2,4,1], [3,6,5]] <br/>\n",
    "Output: 8 <br/>\n",
    "Explanation: Maximum CPU load will be 8 as all jobs overlap during the time interval [3,4]. "
   ]
  },
  {
   "cell_type": "markdown",
   "metadata": {},
   "source": [
    "# Heap - O(N ^ 2 log N) runtime, O(N) space"
   ]
  },
  {
   "cell_type": "code",
   "execution_count": 22,
   "metadata": {},
   "outputs": [],
   "source": [
    "from heapq import *\n",
    "\n",
    "class job:\n",
    "    def __init__(self, start, end, cpu_load):\n",
    "        self.start = start\n",
    "        self.end = end\n",
    "        self.cpu_load = cpu_load\n",
    "    \n",
    "    def __lt__(self, other):\n",
    "        self.end < other.end\n",
    "\n",
    "def find_max_cpu_load(jobs):\n",
    "    \n",
    "    jobs = sorted(jobs, key=lambda x: x.start)\n",
    "    loads = [jobs[0]]\n",
    "\n",
    "    for i in range(1, len(jobs)):\n",
    "        job1 = jobs[i]\n",
    "        length = len(loads)\n",
    "        for j in range(length):\n",
    "            job2 = loads[j]\n",
    "            if job1.start < job2.end:\n",
    "                start = max(job1.start, job2.start)\n",
    "                end = min(job1.end, job2.end)\n",
    "                cpu_load = job1.cpu_load + job2.cpu_load\n",
    "                loads.append(job(start, end, cpu_load))\n",
    "            loads.append(job1)\n",
    "        heapify(loads)\n",
    "\n",
    "    loads = sorted(loads, key=lambda x: x.cpu_load)\n",
    "    return loads[-1].cpu_load"
   ]
  },
  {
   "cell_type": "markdown",
   "metadata": {},
   "source": [
    "# Heap - O(N log N) runtime, O(N) space"
   ]
  },
  {
   "cell_type": "code",
   "execution_count": 26,
   "metadata": {},
   "outputs": [],
   "source": [
    "from heapq import *\n",
    "\n",
    "\n",
    "class job:\n",
    "    def __init__(self, start, end, cpu_load):\n",
    "        self.start = start\n",
    "        self.end = end\n",
    "        self.cpu_load = cpu_load\n",
    "\n",
    "    def __lt__(self, other):\n",
    "        # min heap based on job.end\n",
    "        return self.end < other.end\n",
    "\n",
    "\n",
    "def find_max_cpu_load(jobs):\n",
    "    # sort the jobs by start time\n",
    "    jobs.sort(key=lambda x: x.start)\n",
    "    max_cpu_load, current_cpu_load = 0, 0\n",
    "    min_heap = []\n",
    "\n",
    "    for j in jobs:\n",
    "        # remove all the jobs that have ended\n",
    "        while(len(min_heap) > 0 and j.start >= min_heap[0].end):\n",
    "            current_cpu_load -= min_heap[0].cpu_load\n",
    "            heappop(min_heap)\n",
    "        # add the current job into min_heap\n",
    "        heappush(min_heap, j)\n",
    "        current_cpu_load += j.cpu_load\n",
    "        max_cpu_load = max(max_cpu_load, current_cpu_load)\n",
    "    return max_cpu_load"
   ]
  },
  {
   "cell_type": "code",
   "execution_count": 27,
   "metadata": {},
   "outputs": [
    {
     "data": {
      "text/plain": [
       "15"
      ]
     },
     "execution_count": 27,
     "metadata": {},
     "output_type": "execute_result"
    }
   ],
   "source": [
    "find_max_cpu_load([job(6, 7, 10), job(2, 4, 11), job(8, 12, 15)])"
   ]
  }
 ],
 "metadata": {
  "kernelspec": {
   "display_name": "Python 3",
   "language": "python",
   "name": "python3"
  },
  "language_info": {
   "codemirror_mode": {
    "name": "ipython",
    "version": 3
   },
   "file_extension": ".py",
   "mimetype": "text/x-python",
   "name": "python",
   "nbconvert_exporter": "python",
   "pygments_lexer": "ipython3",
   "version": "3.7.3"
  }
 },
 "nbformat": 4,
 "nbformat_minor": 2
}
