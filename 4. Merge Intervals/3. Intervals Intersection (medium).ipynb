{
 "cells": [
  {
   "cell_type": "markdown",
   "metadata": {},
   "source": [
    "Problem Statement <br/>\n",
    "\n",
    "Given two lists of intervals, find the intersection of these two lists. Each list consists of disjoint intervals sorted on their start time. <br/>\n",
    "\n",
    "Example 1: <br/>\n",
    "Input: arr1=[[1, 3], [5, 6], [7, 9]], arr2=[[2, 3], [5, 7]] <br/>\n",
    "Output: [2, 3], [5, 6], [7, 7] <br/>\n",
    "Explanation: The output list contains the common intervals between the two lists. <br/>\n",
    "\n",
    "Example 2: <br/>\n",
    "Input: arr1=[[1, 3], [5, 7], [9, 12]], arr2=[[5, 10]] <br/>\n",
    "Output: [5, 7], [9, 10] <br/>\n",
    "Explanation: The output list contains the common intervals between the two lists."
   ]
  },
  {
   "cell_type": "markdown",
   "metadata": {},
   "source": [
    "# Merge Intervals - O(M + N) runtime, O(max(M, N)) space,where ‘N’ and ‘M’ are the total number of intervals in the input arrays respectively.\n"
   ]
  },
  {
   "cell_type": "code",
   "execution_count": 1,
   "metadata": {},
   "outputs": [],
   "source": [
    "def merge(intervals_a, intervals_b):\n",
    "    result = []\n",
    "    i, j, start, end = 0, 0, 0, 1\n",
    "\n",
    "    while i < len(intervals_a) and j < len(intervals_b):\n",
    "        # check if intervals overlap and intervals_a[j]'s start time lies within the other intervals_b[i]\n",
    "        a_overlaps_b = intervals_b[j][start] >= intervals_a[i][start] and \\\n",
    "                                     intervals_b[j][start] <= intervals_a[i][end]\n",
    "\n",
    "        # check if intervals overlap and intervals_a[i]'s start time lies within the other intervals_b[j]\n",
    "        b_overlaps_a = intervals_a[i][start] >= intervals_b[j][start] and \\\n",
    "                                     intervals_a[i][start] <= intervals_b[j][end]\n",
    "\n",
    "        # store the the intersection part\n",
    "        if (a_overlaps_b or b_overlaps_a):\n",
    "            result.append([max(intervals_a[i][start], intervals_b[j][start]), min(\n",
    "                intervals_a[i][end], intervals_b[j][end])])\n",
    "\n",
    "        # move next from the interval which is finishing first\n",
    "        if intervals_a[i][end] < intervals_b[j][end]:\n",
    "            i += 1\n",
    "        else:\n",
    "            j += 1\n",
    "\n",
    "    return result"
   ]
  },
  {
   "cell_type": "code",
   "execution_count": 2,
   "metadata": {},
   "outputs": [
    {
     "data": {
      "text/plain": [
       "[[2, 3], [5, 6], [7, 7]]"
      ]
     },
     "execution_count": 2,
     "metadata": {},
     "output_type": "execute_result"
    }
   ],
   "source": [
    "merge([[1, 3], [5, 6], [7, 9]], [[2, 3], [5, 7]])"
   ]
  }
 ],
 "metadata": {
  "kernelspec": {
   "display_name": "Python 3",
   "language": "python",
   "name": "python3"
  },
  "language_info": {
   "codemirror_mode": {
    "name": "ipython",
    "version": 3
   },
   "file_extension": ".py",
   "mimetype": "text/x-python",
   "name": "python",
   "nbconvert_exporter": "python",
   "pygments_lexer": "ipython3",
   "version": "3.7.3"
  }
 },
 "nbformat": 4,
 "nbformat_minor": 2
}
