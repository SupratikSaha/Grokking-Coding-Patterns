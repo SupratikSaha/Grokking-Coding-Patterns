{
 "cells": [
  {
   "cell_type": "markdown",
   "metadata": {},
   "source": [
    "Problem Statement <br/>\n",
    "\n",
    "Given a sorted array, create a new array containing squares of all the number of the input array in the sorted order. <br/>\n",
    "Example 1: <br/>\n",
    "Input: [-2, -1, 0, 2, 3] <br/>\n",
    "Output: [0, 1, 4, 4, 9] <br/>\n",
    "    \n",
    "Example 2: <br/>\n",
    "Input: [-3, -1, 0, 1, 2] <br/>\n",
    "Output: [0 1 1 4 9]"
   ]
  },
  {
   "cell_type": "markdown",
   "metadata": {},
   "source": [
    "# Two Pointers after finding first non-negative number - O(N) runtime, O(1) space"
   ]
  },
  {
   "cell_type": "code",
   "execution_count": 1,
   "metadata": {},
   "outputs": [],
   "source": [
    "def make_squares(arr):\n",
    "    squares = []\n",
    "    length = len(arr)\n",
    "    \n",
    "    right = 0\n",
    "    while arr[right] <= 0 and right < length:\n",
    "        right += 1\n",
    "\n",
    "    left = right - 1\n",
    "\n",
    "    while left >= 0 and right < length:\n",
    "        if abs(arr[left]) <= arr[right]:\n",
    "            squares.append(arr[left] ** 2)\n",
    "            left -= 1\n",
    "        else:\n",
    "            squares.append(arr[right] ** 2)\n",
    "            right += 1\n",
    "\n",
    "    while left >= 0:\n",
    "        squares.append(arr[left] ** 2)\n",
    "        left -= 1\n",
    "\n",
    "    while right < length:\n",
    "        squares.append(arr[right] ** 2)\n",
    "        right += 1\n",
    "\n",
    "    return squares"
   ]
  },
  {
   "cell_type": "markdown",
   "metadata": {},
   "source": [
    "# Two Pointers - O(N) runtime, O(1) space"
   ]
  },
  {
   "cell_type": "code",
   "execution_count": 5,
   "metadata": {},
   "outputs": [],
   "source": [
    "def make_squares(arr):\n",
    "    length = len(arr)\n",
    "    squares = [0] * length\n",
    "    left, right, highestSquareIdx = 0, length - 1, length - 1\n",
    "\n",
    "    while left <= right:\n",
    "        if abs(arr[left]) >= arr[right]:\n",
    "            squares[highestSquareIdx] = arr[left] ** 2\n",
    "            left += 1\n",
    "        else:\n",
    "            squares[highestSquareIdx] = arr[right] ** 2\n",
    "            right -= 1\n",
    "\n",
    "        highestSquareIdx -= 1\n",
    "\n",
    "    return squares"
   ]
  },
  {
   "cell_type": "code",
   "execution_count": 6,
   "metadata": {},
   "outputs": [
    {
     "data": {
      "text/plain": [
       "[0, 1, 4, 4, 9]"
      ]
     },
     "execution_count": 6,
     "metadata": {},
     "output_type": "execute_result"
    }
   ],
   "source": [
    "make_squares([-2, -1, 0, 2, 3] )"
   ]
  }
 ],
 "metadata": {
  "kernelspec": {
   "display_name": "Python 3",
   "language": "python",
   "name": "python3"
  },
  "language_info": {
   "codemirror_mode": {
    "name": "ipython",
    "version": 3
   },
   "file_extension": ".py",
   "mimetype": "text/x-python",
   "name": "python",
   "nbconvert_exporter": "python",
   "pygments_lexer": "ipython3",
   "version": "3.7.3"
  }
 },
 "nbformat": 4,
 "nbformat_minor": 2
}
