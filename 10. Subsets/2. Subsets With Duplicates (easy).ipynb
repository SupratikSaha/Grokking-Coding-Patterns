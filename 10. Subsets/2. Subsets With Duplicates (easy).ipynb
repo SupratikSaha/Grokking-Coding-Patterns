{
 "cells": [
  {
   "cell_type": "markdown",
   "metadata": {},
   "source": [
    "Problem Statement <br/>\n",
    "\n",
    "Given a set of numbers that might contain duplicates, find all of its distinct subsets. <br/>\n",
    "\n",
    "Example 1: <br/>\n",
    "Input: [1, 3, 3] <br/>\n",
    "Output: [], [1], [3], [1,3], [3,3], [1,3,3] <br/>\n",
    "\n",
    "Example 2: <br/>\n",
    "Input: [1, 5, 3, 3] <br/>\n",
    "Output: [], [1], [5], [3], [1,5], [1,3], [5,3], [1,5,3], [3,3], [1,3,3], [3,3,5], [1,5,3,3]"
   ]
  },
  {
   "cell_type": "markdown",
   "metadata": {},
   "source": [
    "# Subsets - O(N * log N + N * (2 ^ N)) runtime, O(2 ^ N) space"
   ]
  },
  {
   "cell_type": "code",
   "execution_count": 1,
   "metadata": {},
   "outputs": [],
   "source": [
    "def find_subsets(nums):\n",
    "    subsets = []\n",
    "    \n",
    "    if not nums:\n",
    "        return subsets\n",
    "    \n",
    "    subsets.append([])\n",
    "    nums = sorted(nums)\n",
    "    for i, current_num in enumerate(nums):\n",
    "        start = 0\n",
    "        length = len(subsets)\n",
    "        if i > 0 and nums[i] == nums[i - 1]:\n",
    "            start = length - i\n",
    "        for i in range(start, length):\n",
    "            current_set = list(subsets[i])\n",
    "            current_set.append(current_num)\n",
    "            subsets.append(current_set)\n",
    "\n",
    "    return subsets"
   ]
  },
  {
   "cell_type": "code",
   "execution_count": 2,
   "metadata": {},
   "outputs": [
    {
     "data": {
      "text/plain": [
       "[[], [1], [3], [1, 3], [4], [1, 4], [3, 4], [1, 3, 4]]"
      ]
     },
     "execution_count": 2,
     "metadata": {},
     "output_type": "execute_result"
    }
   ],
   "source": [
    "find_subsets([1,3,4])"
   ]
  }
 ],
 "metadata": {
  "kernelspec": {
   "display_name": "Python 3",
   "language": "python",
   "name": "python3"
  },
  "language_info": {
   "codemirror_mode": {
    "name": "ipython",
    "version": 3
   },
   "file_extension": ".py",
   "mimetype": "text/x-python",
   "name": "python",
   "nbconvert_exporter": "python",
   "pygments_lexer": "ipython3",
   "version": "3.7.3"
  }
 },
 "nbformat": 4,
 "nbformat_minor": 2
}
