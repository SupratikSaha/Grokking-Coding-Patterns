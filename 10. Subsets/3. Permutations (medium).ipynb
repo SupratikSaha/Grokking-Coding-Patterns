{
 "cells": [
  {
   "cell_type": "markdown",
   "metadata": {},
   "source": [
    "Problem Statement <br/>\n",
    "\n",
    "Given a set of distinct numbers, find all of its permutations. <br/>\n",
    "\n",
    "Permutation is defined as the re-arranging of the elements of the set. For example, {1, 2, 3} has the following six permutations: <br/>\n",
    "\n",
    "    {1, 2, 3} <br/>\n",
    "    {1, 3, 2} <br/>\n",
    "    {2, 1, 3} <br/>\n",
    "    {2, 3, 1} <br/>\n",
    "    {3, 1, 2} <br/>\n",
    "    {3, 2, 1} <br/>\n",
    "\n",
    "If a set has ‘n’ distinct elements it will have n!n!n! permutations. <br/>\n",
    "\n",
    "Example 1: <br/>\n",
    "\n",
    "Input: [1,3,5] <br/>\n",
    "Output: [1,3,5], [1,5,3], [3,1,5], [3,5,1], [5,1,3], [5,3,1] <br/>"
   ]
  },
  {
   "cell_type": "markdown",
   "metadata": {},
   "source": [
    "# BFS - O(N * N!) runtime, O(N * N!) space"
   ]
  },
  {
   "cell_type": "code",
   "execution_count": 5,
   "metadata": {},
   "outputs": [],
   "source": [
    "from collections import deque\n",
    "\n",
    "def find_permutations(nums):\n",
    "    result = deque()\n",
    "    if not nums:\n",
    "        return nums\n",
    "    \n",
    "    result.append([])\n",
    "    for num in nums:\n",
    "        n = len(result)\n",
    "        for _ in range(n):\n",
    "            arr = result.popleft()\n",
    "            for k in range(len(arr) + 1):\n",
    "                new_arr = list(arr)\n",
    "                new_arr.insert(k, num)\n",
    "                result.append(new_arr)\n",
    "\n",
    "    return list(result)"
   ]
  },
  {
   "cell_type": "markdown",
   "metadata": {},
   "source": [
    "# Recursion - O(N * N!) runtime, O(N * N!) space"
   ]
  },
  {
   "cell_type": "code",
   "execution_count": 8,
   "metadata": {},
   "outputs": [],
   "source": [
    "def generate_permutations(nums):\n",
    "    result = []\n",
    "    generate_permutations_recursive(nums, 0, [], result)\n",
    "    return result\n",
    "\n",
    "\n",
    "def generate_permutations_recursive(nums, index, currentPermutation, result):\n",
    "    if index == len(nums):\n",
    "        result.append(currentPermutation)\n",
    "    else:\n",
    "        # create a new permutation by adding the current number at every position\n",
    "        for i in range(len(currentPermutation)+1):\n",
    "            newPermutation = list(currentPermutation)\n",
    "            newPermutation.insert(i, nums[index])\n",
    "            generate_permutations_recursive(\n",
    "                nums, index + 1, newPermutation, result)"
   ]
  },
  {
   "cell_type": "code",
   "execution_count": 9,
   "metadata": {},
   "outputs": [
    {
     "data": {
      "text/plain": [
       "[[9, 5, 1], [5, 9, 1], [5, 1, 9], [9, 1, 5], [1, 9, 5], [1, 5, 9]]"
      ]
     },
     "execution_count": 9,
     "metadata": {},
     "output_type": "execute_result"
    }
   ],
   "source": [
    "find_permutations([1,5,9])"
   ]
  }
 ],
 "metadata": {
  "kernelspec": {
   "display_name": "Python 3",
   "language": "python",
   "name": "python3"
  },
  "language_info": {
   "codemirror_mode": {
    "name": "ipython",
    "version": 3
   },
   "file_extension": ".py",
   "mimetype": "text/x-python",
   "name": "python",
   "nbconvert_exporter": "python",
   "pygments_lexer": "ipython3",
   "version": "3.7.3"
  }
 },
 "nbformat": 4,
 "nbformat_minor": 2
}
