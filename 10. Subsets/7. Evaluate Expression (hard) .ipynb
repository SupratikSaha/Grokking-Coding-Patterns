{
 "cells": [
  {
   "cell_type": "markdown",
   "metadata": {},
   "source": [
    "Problem Statement <br/>\n",
    "\n",
    "Given an expression containing digits and operations (+, -, *), find all possible ways in which the expression can be evaluated by grouping the numbers and operators using parentheses. <br/>\n",
    "\n",
    "Example 1: <br/>\n",
    "Input: \"1+2*3\" <br/>\n",
    "Output: 7, 9 <br/>\n",
    "Explanation: 1+(2*3) => 7 and (1+2)*3 => 9 <br/>\n",
    "\n",
    "Example 2: <br/>\n",
    "Input: \"2*3-4-5\" <br/>\n",
    "Output: 8, -12, 7, -7, -3 <br/>\n",
    "Explanation: 2*(3-(4-5)) => 8, 2*(3-4-5) => -12, 2*3-(4-5) => 7, 2*(3-4)-5 => -7, (2*3)-4-5 => -3"
   ]
  },
  {
   "cell_type": "markdown",
   "metadata": {},
   "source": [
    "# Recursion with Memoization - O(N * 2 ^N) runtime, O(2 ^ N) space"
   ]
  },
  {
   "cell_type": "code",
   "execution_count": 1,
   "metadata": {},
   "outputs": [],
   "source": [
    "def diff_ways_to_evaluate_expression(input):\n",
    "    return diff_ways_to_evaluate_expression_rec({}, input)\n",
    "\n",
    "\n",
    "def diff_ways_to_evaluate_expression_rec(map, input):\n",
    "    if input in map:\n",
    "        return map[input]\n",
    "\n",
    "    result = []\n",
    "    # base case: if the input string is a number, parse and return it.\n",
    "    if '+' not in input and '-' not in input and '*' not in input:\n",
    "        result.append(int(input))\n",
    "    else:\n",
    "        for i in range(0, len(input)):\n",
    "            char = input[i]\n",
    "            if not char.isdigit():\n",
    "                # break the equation here into two parts and make recursively calls\n",
    "                leftParts = diff_ways_to_evaluate_expression_rec(\n",
    "                    map, input[0:i])\n",
    "                rightParts = diff_ways_to_evaluate_expression_rec(\n",
    "                    map, input[i+1:])\n",
    "                for part1 in leftParts:\n",
    "                    for part2 in rightParts:\n",
    "                        if char == '+':\n",
    "                            result.append(part1 + part2)\n",
    "                        elif char == '-':\n",
    "                            result.append(part1 - part2)\n",
    "                        elif char == '*':\n",
    "                            result.append(part1 * part2)\n",
    "\n",
    "    map[input] = result\n",
    "    return result"
   ]
  },
  {
   "cell_type": "code",
   "execution_count": 3,
   "metadata": {},
   "outputs": [
    {
     "data": {
      "text/plain": [
       "[8, -12, 7, -7, -3]"
      ]
     },
     "execution_count": 3,
     "metadata": {},
     "output_type": "execute_result"
    }
   ],
   "source": [
    "diff_ways_to_evaluate_expression(\"2*3-4-5\")"
   ]
  }
 ],
 "metadata": {
  "kernelspec": {
   "display_name": "Python 3",
   "language": "python",
   "name": "python3"
  },
  "language_info": {
   "codemirror_mode": {
    "name": "ipython",
    "version": 3
   },
   "file_extension": ".py",
   "mimetype": "text/x-python",
   "name": "python",
   "nbconvert_exporter": "python",
   "pygments_lexer": "ipython3",
   "version": "3.7.3"
  }
 },
 "nbformat": 4,
 "nbformat_minor": 2
}
