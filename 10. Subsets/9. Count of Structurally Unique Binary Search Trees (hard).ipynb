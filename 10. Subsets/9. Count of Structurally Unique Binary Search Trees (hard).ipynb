{
 "cells": [
  {
   "cell_type": "markdown",
   "metadata": {},
   "source": [
    "Problem Statement <br/>\n",
    "\n",
    "Given a number ‘n’, write a function to return the count of structurally unique Binary Search Trees (BST) that can store values 1 to ‘n’. <br/>\n",
    "\n",
    "Example 1: <br/>\n",
    "Input: 2 <br/>\n",
    "Output: 2 <br/>\n",
    "Explanation: Here are the 2 structurally unique BSTs storing all numbers from 1 to 2: <br/>\n",
    "[1,[None, 2]], [2,[1, None]] <br/>\n",
    "\n",
    "Example 2: <br/>\n",
    "Input: 3 <br/>\n",
    "Output: 5 <br/>\n",
    "Explanation: Here are the 5 structurally unique BSTs storing all numbers from 1 to 3: <br/>\n",
    "[1,[None, 2],[None, 3]], [1,[None, 3],[2, None]], [2,[1, 3]], [3,[1, None],[None, 2]], [3,[2, None],[1, None]] <br/>"
   ]
  },
  {
   "cell_type": "markdown",
   "metadata": {},
   "source": [
    "# Recursion - O(N * 2 ^ N) runtime, O(2 ^ N) space"
   ]
  },
  {
   "cell_type": "code",
   "execution_count": 2,
   "metadata": {},
   "outputs": [],
   "source": [
    "class TreeNode:\n",
    "    def __init__(self, val):\n",
    "        self.val = val\n",
    "        self.left = None\n",
    "        self.right = None\n",
    "\n",
    "def count_trees(n):\n",
    "    if n <= 0:\n",
    "        return 0\n",
    "    return recursive_count_trees(n)\n",
    "\n",
    "def recursive_count_trees(n):\n",
    "    if n <= 1:\n",
    "        return 1\n",
    "    count = 0\n",
    "    for i in range(1, n+1):\n",
    "        # making 'i' root of the tree\n",
    "        countOfLeftSubtrees = recursive_count_trees(i - 1)\n",
    "        countOfRightSubtrees = recursive_count_trees(n - i)\n",
    "        count += (countOfLeftSubtrees * countOfRightSubtrees)\n",
    "\n",
    "    return count"
   ]
  },
  {
   "cell_type": "markdown",
   "metadata": {},
   "source": [
    "# Memoized Recursion - O(N * 2 ^ N) runtime, O(2 ^ N) space"
   ]
  },
  {
   "cell_type": "code",
   "execution_count": 6,
   "metadata": {},
   "outputs": [],
   "source": [
    "class TreeNode:\n",
    "    def __init__(self, val):\n",
    "        self.val = val\n",
    "        self.left = None\n",
    "        self.right = None\n",
    "\n",
    "def count_trees(n):\n",
    "    if n <= 0:\n",
    "        return 0\n",
    "    return count_trees_rec({}, n)\n",
    "\n",
    "def count_trees_rec(map, n):\n",
    "    if n in map:\n",
    "        return map[n]\n",
    "\n",
    "    if n <= 1:\n",
    "        return 1\n",
    "    count = 0\n",
    "    for i in range(1, n+1):\n",
    "        # making 'i' the root of the tree\n",
    "        countOfLeftSubtrees = count_trees_rec(map, i - 1)\n",
    "        countOfRightSubtrees = count_trees_rec(map, n - i)\n",
    "        count += (countOfLeftSubtrees * countOfRightSubtrees)\n",
    "\n",
    "    map[n] = count\n",
    "    return count"
   ]
  },
  {
   "cell_type": "code",
   "execution_count": 10,
   "metadata": {},
   "outputs": [
    {
     "data": {
      "text/plain": [
       "5"
      ]
     },
     "execution_count": 10,
     "metadata": {},
     "output_type": "execute_result"
    }
   ],
   "source": [
    "count_trees(3)"
   ]
  }
 ],
 "metadata": {
  "kernelspec": {
   "display_name": "Python 3",
   "language": "python",
   "name": "python3"
  },
  "language_info": {
   "codemirror_mode": {
    "name": "ipython",
    "version": 3
   },
   "file_extension": ".py",
   "mimetype": "text/x-python",
   "name": "python",
   "nbconvert_exporter": "python",
   "pygments_lexer": "ipython3",
   "version": "3.7.3"
  }
 },
 "nbformat": 4,
 "nbformat_minor": 2
}
