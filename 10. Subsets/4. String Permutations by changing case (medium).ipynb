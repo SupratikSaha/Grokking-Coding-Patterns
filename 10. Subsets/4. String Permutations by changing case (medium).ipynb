{
 "cells": [
  {
   "cell_type": "markdown",
   "metadata": {},
   "source": [
    "Problem Statement <br/>\n",
    "\n",
    "Given a string, find all of its permutations preserving the character sequence but changing case. <br/>\n",
    "\n",
    "Example 1: <br/>\n",
    "Input: \"ad52\" <br/>\n",
    "Output: \"ad52\", \"Ad52\", \"aD52\", \"AD52\" <br/>\n",
    "\n",
    "Example 2: <br/>\n",
    "Input: \"ab7c\" <br/>\n",
    "Output: \"ab7c\", \"Ab7c\", \"aB7c\", \"AB7c\", \"ab7C\", \"Ab7C\", \"aB7C\", \"AB7C\""
   ]
  },
  {
   "cell_type": "markdown",
   "metadata": {},
   "source": [
    "# BFS - O(N * 2 ^ N) runtime, O(N * 2 ^ N) space"
   ]
  },
  {
   "cell_type": "code",
   "execution_count": 1,
   "metadata": {},
   "outputs": [],
   "source": [
    "def find_letter_case_string_permutations(str):\n",
    "    permutations = []\n",
    "    permutations.append(str)\n",
    "    # process every character of the string one by one\n",
    "    for i in range(len(str)):\n",
    "        if str[i].isalpha():    # only process characters, skip digits\n",
    "            # we will take all existing permutations and change the letter case appropriately\n",
    "            n = len(permutations)\n",
    "            for j in range(n):\n",
    "                chs = list(permutations[j])\n",
    "                # if the current character is in upper case, change it to lower case or vice versa\n",
    "                chs[i] = chs[i].swapcase()\n",
    "                permutations.append(''.join(chs))\n",
    "\n",
    "    return permutations"
   ]
  },
  {
   "cell_type": "code",
   "execution_count": 3,
   "metadata": {},
   "outputs": [
    {
     "data": {
      "text/plain": [
       "['ab7D', 'Ab7D', 'aB7D', 'AB7D', 'ab7d', 'Ab7d', 'aB7d', 'AB7d']"
      ]
     },
     "execution_count": 3,
     "metadata": {},
     "output_type": "execute_result"
    }
   ],
   "source": [
    "find_letter_case_string_permutations('ab7D')"
   ]
  }
 ],
 "metadata": {
  "kernelspec": {
   "display_name": "Python 3",
   "language": "python",
   "name": "python3"
  },
  "language_info": {
   "codemirror_mode": {
    "name": "ipython",
    "version": 3
   },
   "file_extension": ".py",
   "mimetype": "text/x-python",
   "name": "python",
   "nbconvert_exporter": "python",
   "pygments_lexer": "ipython3",
   "version": "3.7.3"
  }
 },
 "nbformat": 4,
 "nbformat_minor": 2
}
