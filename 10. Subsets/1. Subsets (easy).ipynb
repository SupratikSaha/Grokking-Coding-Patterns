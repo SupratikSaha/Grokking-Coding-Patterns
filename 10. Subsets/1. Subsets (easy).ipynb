{
 "cells": [
  {
   "cell_type": "markdown",
   "metadata": {},
   "source": [
    "Problem Statement <br/>\n",
    "\n",
    "Given a set with distinct elements, find all of its distinct subsets. <br/>\n",
    "\n",
    "Example 1: <br/>\n",
    "Input: [1, 3] <br/>\n",
    "Output: [], [1], [3], [1,3] <br/>\n",
    "\n",
    "Example 2: <br/>\n",
    "Input: [1, 5, 3] <br/>\n",
    "Output: [], [1], [5], [3], [1,5], [1,3], [5,3], [1,5,3]"
   ]
  },
  {
   "cell_type": "markdown",
   "metadata": {},
   "source": [
    "# BFS - O(N * 2 ^ N) runtime, O(2 ^ N) space"
   ]
  },
  {
   "cell_type": "code",
   "execution_count": 1,
   "metadata": {},
   "outputs": [],
   "source": [
    "def find_subsets(nums):\n",
    "    subsets = []\n",
    "    # start by adding the empty subset\n",
    "    subsets.append([])\n",
    "    for currentNumber in nums:\n",
    "        # we will take all existing subsets and insert the current number in them to create new subsets\n",
    "        n = len(subsets)\n",
    "        for i in range(n):\n",
    "            # create a new subset from the existing subset and insert the current element to it\n",
    "            set = list(subsets[i])\n",
    "            set.append(currentNumber)\n",
    "            subsets.append(set)\n",
    "\n",
    "    return subsets"
   ]
  },
  {
   "cell_type": "code",
   "execution_count": 2,
   "metadata": {},
   "outputs": [
    {
     "data": {
      "text/plain": [
       "[[], [1], [3], [1, 3], [5], [1, 5], [3, 5], [1, 3, 5]]"
      ]
     },
     "execution_count": 2,
     "metadata": {},
     "output_type": "execute_result"
    }
   ],
   "source": [
    "find_subsets([1,3,5])"
   ]
  }
 ],
 "metadata": {
  "kernelspec": {
   "display_name": "Python 3",
   "language": "python",
   "name": "python3"
  },
  "language_info": {
   "codemirror_mode": {
    "name": "ipython",
    "version": 3
   },
   "file_extension": ".py",
   "mimetype": "text/x-python",
   "name": "python",
   "nbconvert_exporter": "python",
   "pygments_lexer": "ipython3",
   "version": "3.7.3"
  }
 },
 "nbformat": 4,
 "nbformat_minor": 2
}
