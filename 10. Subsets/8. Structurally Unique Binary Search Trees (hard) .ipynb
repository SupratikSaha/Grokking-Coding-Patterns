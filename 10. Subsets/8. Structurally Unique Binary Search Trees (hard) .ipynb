{
 "cells": [
  {
   "cell_type": "markdown",
   "metadata": {},
   "source": [
    "Problem Statement <br/>\n",
    "\n",
    "Given a number ‘n’, write a function to return all structurally unique Binary Search Trees (BST) that can store values 1 to ‘n’? <br/>\n",
    "\n",
    "Example 1: <br/>\n",
    "Input: 2 <br/>\n",
    "Output: List containing root nodes of all structurally unique BSTs. <br/>\n",
    "Explanation: Here are the 2 structurally unique BSTs storing all numbers from 1 to 2: <br/>\n",
    "[1,[None, 2]], [2,[1, None]] <br/>\n",
    "\n",
    "Example 2: <br/>\n",
    "Input: 3 <br/>\n",
    "Output: List containing root nodes of all structurally unique BSTs. <br/>\n",
    "Explanation: Here are the 5 structurally unique BSTs storing all numbers from 1 to 3: <br/>\n",
    "[1,[None, 2],[None, 3]], [1,[None, 3],[2, None]], [2,[1, 3]], [3,[1, None],[None, 2]], [3,[2, None],[1, None]] <br/>"
   ]
  },
  {
   "cell_type": "markdown",
   "metadata": {},
   "source": [
    "# Recursion - O(N * 2 ^ N) runtime, O(2 ^ N) space"
   ]
  },
  {
   "cell_type": "code",
   "execution_count": 3,
   "metadata": {},
   "outputs": [],
   "source": [
    "class TreeNode:\n",
    "    def __init__(self, val):\n",
    "        self.val = val\n",
    "        self.left = None\n",
    "        self.right = None\n",
    "\n",
    "def find_unique_trees(n):\n",
    "    if n <= 0:\n",
    "        return []\n",
    "    return findUnique_trees_recursive(1, n)\n",
    "\n",
    "def findUnique_trees_recursive(start, end):\n",
    "    result = []\n",
    "    # base condition, return 'None' for an empty sub-tree\n",
    "    # consider n = 1, in this case we will have start = end = 1, this means we should have only one tree\n",
    "    # we will have two recursive calls, findUniqueTreesRecursive(1, 0) & (2, 1)\n",
    "    # both of these should return 'None' for the left and the right child\n",
    "    if start > end:\n",
    "        result.append(None)\n",
    "        return result\n",
    "\n",
    "    for i in range(start, end+1):\n",
    "        # making 'i' the root of the tree\n",
    "        leftSubtrees = findUnique_trees_recursive(start, i - 1)\n",
    "        rightSubtrees = findUnique_trees_recursive(i + 1, end)\n",
    "        for leftTree in leftSubtrees:\n",
    "            for rightTree in rightSubtrees:\n",
    "                root = TreeNode(i)\n",
    "                root.left = leftTree\n",
    "                root.right = rightTree\n",
    "                result.append(root)\n",
    "\n",
    "    return result"
   ]
  }
 ],
 "metadata": {
  "kernelspec": {
   "display_name": "Python 3",
   "language": "python",
   "name": "python3"
  },
  "language_info": {
   "codemirror_mode": {
    "name": "ipython",
    "version": 3
   },
   "file_extension": ".py",
   "mimetype": "text/x-python",
   "name": "python",
   "nbconvert_exporter": "python",
   "pygments_lexer": "ipython3",
   "version": "3.7.3"
  }
 },
 "nbformat": 4,
 "nbformat_minor": 2
}
