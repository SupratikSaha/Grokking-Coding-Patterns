{
 "cells": [
  {
   "cell_type": "markdown",
   "metadata": {},
   "source": [
    "Problem Statement <br/>\n",
    "\n",
    "For a given number ‘N’, write a function to generate all combination of ‘N’ pairs of balanced parentheses. <br/>\n",
    "\n",
    "Example 1: <br/>\n",
    "Input: N=2 <br/>\n",
    "Output: (()), ()() <br/>\n",
    "\n",
    "Example 2: <br/>\n",
    "Input: N=3 <br/>\n",
    "Output: ((())), (()()), (())(), ()(()), ()()()"
   ]
  },
  {
   "cell_type": "markdown",
   "metadata": {},
   "source": [
    "# BFS - O(N * 2 ^ N) runtime, O(N * 2 ^ N) space"
   ]
  },
  {
   "cell_type": "code",
   "execution_count": 8,
   "metadata": {},
   "outputs": [],
   "source": [
    "from collections import deque\n",
    "\n",
    "class ParenthesesString:\n",
    "    def __init__(self, str, openCount, closeCount):\n",
    "        self.str = str\n",
    "        self.openCount = openCount\n",
    "        self.closeCount = closeCount\n",
    "\n",
    "def generate_valid_parentheses(num):\n",
    "    result = []\n",
    "    queue = deque()\n",
    "    queue.append(ParenthesesString(\"\", 0, 0))\n",
    "    while queue:\n",
    "        ps = queue.popleft()\n",
    "        # if we've reached the maximum number of open and close parentheses, add to the result\n",
    "        if ps.openCount == num and ps.closeCount == num:\n",
    "            result.append(ps.str)\n",
    "        else:\n",
    "            if ps.openCount < num:    # if we can add an open parentheses, add it\n",
    "                queue.append(ParenthesesString(\n",
    "                    ps.str + \"(\", ps.openCount + 1, ps.closeCount))\n",
    "\n",
    "            if ps.openCount > ps.closeCount:    # if we can add a close parentheses, add it\n",
    "                queue.append(ParenthesesString(ps.str + \")\", ps.openCount, ps.closeCount + 1))\n",
    "\n",
    "    return result"
   ]
  },
  {
   "cell_type": "markdown",
   "metadata": {},
   "source": [
    "# Recursive Solution - O(N * 2 ^ N) runtime, O(N * 2 ^ N) space"
   ]
  },
  {
   "cell_type": "code",
   "execution_count": 2,
   "metadata": {},
   "outputs": [],
   "source": [
    "def generate_valid_parentheses(num):\n",
    "    result = []\n",
    "    parenthesesString = [0 for x in range(2*num)]\n",
    "    generate_valid_parentheses_rec(num, 0, 0, parenthesesString, 0, result)\n",
    "    return result\n",
    "\n",
    "\n",
    "def generate_valid_parentheses_rec(num, openCount, closeCount, parenthesesString, index, result):\n",
    "\n",
    "    # if we've reached the maximum number of open and close parentheses, add to the result\n",
    "    if openCount == num and closeCount == num:\n",
    "        result.append(''.join(parenthesesString))\n",
    "    else:\n",
    "        if openCount < num:    # if we can add an open parentheses, add it\n",
    "            parenthesesString[index] = '('\n",
    "            generate_valid_parentheses_rec(\n",
    "                num, openCount + 1, closeCount, parenthesesString, index + 1, result)\n",
    "\n",
    "        if openCount > closeCount:    # if we can add a close parentheses, add it\n",
    "            parenthesesString[index] = ')'\n",
    "            generate_valid_parentheses_rec(\n",
    "                num, openCount, closeCount + 1, parenthesesString, index + 1, result)"
   ]
  },
  {
   "cell_type": "code",
   "execution_count": 9,
   "metadata": {},
   "outputs": [
    {
     "data": {
      "text/plain": [
       "['((()))', '(()())', '(())()', '()(())', '()()()']"
      ]
     },
     "execution_count": 9,
     "metadata": {},
     "output_type": "execute_result"
    }
   ],
   "source": [
    "generate_valid_parentheses(3)"
   ]
  }
 ],
 "metadata": {
  "kernelspec": {
   "display_name": "Python 3",
   "language": "python",
   "name": "python3"
  },
  "language_info": {
   "codemirror_mode": {
    "name": "ipython",
    "version": 3
   },
   "file_extension": ".py",
   "mimetype": "text/x-python",
   "name": "python",
   "nbconvert_exporter": "python",
   "pygments_lexer": "ipython3",
   "version": "3.7.3"
  }
 },
 "nbformat": 4,
 "nbformat_minor": 2
}
