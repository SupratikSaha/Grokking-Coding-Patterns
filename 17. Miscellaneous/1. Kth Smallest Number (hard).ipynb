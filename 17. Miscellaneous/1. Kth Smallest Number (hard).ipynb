{
 "cells": [
  {
   "cell_type": "markdown",
   "metadata": {},
   "source": [
    "Problem Statement <br/>\n",
    "\n",
    "Given an unsorted array of numbers, find Kth smallest number in it. <br/>\n",
    "Please note that it is the Kth smallest number in the sorted order, not the Kth distinct element. <br/>\n",
    "\n",
    "Example 1: <br/>\n",
    "Input: [1, 5, 12, 2, 11, 5], K = 3 <br/>\n",
    "Output: 5 <br/>\n",
    "Explanation: The 3rd smallest number is '5', as the first two smaller numbers are [1, 2]. <br/>\n",
    "\n",
    "Example 2: <br/>\n",
    "Input: [1, 5, 12, 2, 11, 5], K = 4 <br/>\n",
    "Output: 5 <br/>\n",
    "Explanation: The 4th smallest number is '5', as the first three smaller numbers are [1, 2, 5]. <br/>\n",
    "\n",
    "Example 3: <br/>\n",
    "Input: [5, 12, 11, -1, 12], K = 3 <br/>\n",
    "Output: 11 <br/>\n",
    "Explanation: The 3rd smallest number is '11', as the first two small numbers are [5, -1]."
   ]
  },
  {
   "cell_type": "markdown",
   "metadata": {},
   "source": [
    "# Brute-force - O(N * K) runtime, O(1) space"
   ]
  },
  {
   "cell_type": "code",
   "execution_count": 1,
   "metadata": {},
   "outputs": [],
   "source": [
    "import math\n",
    "\n",
    "def find_Kth_smallest_number(nums, k):\n",
    "    # to handle duplicates, we will keep track of previous smallest number and its index\n",
    "    previousSmallestNum, previousSmallestIndex = -math.inf, -1\n",
    "    currentSmallestNum, currentSmallestIndex = math.inf, -1\n",
    "    for i in range(k):\n",
    "        for j in range(len(nums)):\n",
    "            if nums[j] > previousSmallestNum and nums[j] < currentSmallestNum:\n",
    "                # found the next smallest number\n",
    "                currentSmallestNum = nums[j]\n",
    "                currentSmallestIndex = j\n",
    "            elif nums[j] == previousSmallestNum and j > previousSmallestIndex:\n",
    "                # found a number which is equal to the previous smallest number; since numbers can repeat,\n",
    "                # we will consider 'nums[j]' only if it has a different index than previous smallest\n",
    "                currentSmallestNum = nums[j]\n",
    "                currentSmallestIndex = j\n",
    "                break    # break here as we have found our definitive next smallest number\n",
    "\n",
    "        # current smallest number becomes previous smallest number for the next iteration\n",
    "        previousSmallestNum = currentSmallestNum\n",
    "        previousSmallestIndex = currentSmallestIndex\n",
    "        currentSmallestNum = math.inf\n",
    "\n",
    "    return previousSmallestNum"
   ]
  },
  {
   "cell_type": "markdown",
   "metadata": {},
   "source": [
    "# Brute-force using Sorting - O(N * log N) runtime, O(N) space"
   ]
  },
  {
   "cell_type": "code",
   "execution_count": 5,
   "metadata": {},
   "outputs": [],
   "source": [
    "def find_Kth_smallest_number(nums, k):\n",
    "    return sorted(nums)[k-1]"
   ]
  },
  {
   "cell_type": "markdown",
   "metadata": {},
   "source": [
    "# Max Heap - O(N * log K) runtime, O(K) space"
   ]
  },
  {
   "cell_type": "code",
   "execution_count": 7,
   "metadata": {},
   "outputs": [],
   "source": [
    "from heapq import *\n",
    "\n",
    "def find_Kth_smallest_number(nums, k):\n",
    "    maxHeap = []\n",
    "    # put first k numbers in the max heap\n",
    "    for i in range(k):\n",
    "        heappush(maxHeap, -nums[i])\n",
    "\n",
    "    # go through the remaining numbers of the array, if the number from the array is smaller than the\n",
    "    # top(biggest) number of the heap, remove the top number from heap and add the number from array\n",
    "    for i in range(k, len(nums)):\n",
    "        if -nums[i] > maxHeap[0]:\n",
    "            heappop(maxHeap)\n",
    "            heappush(maxHeap, -nums[i])\n",
    "\n",
    "    # the root of the heap has the Kth smallest number\n",
    "    return -maxHeap[0]"
   ]
  },
  {
   "cell_type": "markdown",
   "metadata": {},
   "source": [
    "# Min Heap - O(N + K * logN) runtime, O(N) space"
   ]
  },
  {
   "cell_type": "markdown",
   "metadata": {},
   "source": [
    "# Partition Scheme of Quicksort  - O(N^2) worst, O(N) average runtime, O(N) space"
   ]
  },
  {
   "cell_type": "code",
   "execution_count": 9,
   "metadata": {},
   "outputs": [],
   "source": [
    "def find_Kth_smallest_number(nums, k):\n",
    "    return find_Kth_smallest_number_rec(nums, k, 0, len(nums) - 1)\n",
    "\n",
    "\n",
    "def find_Kth_smallest_number_rec(nums, k, start, end):\n",
    "    p = partition(nums, start, end)\n",
    "\n",
    "    if p == k - 1:\n",
    "        return nums[p]\n",
    "\n",
    "    if p > k - 1:    # search lower part\n",
    "        return find_Kth_smallest_number_rec(nums, k, start, p - 1)\n",
    "\n",
    "    # search higher part\n",
    "    return find_Kth_smallest_number_rec(nums, k, p + 1, end)\n",
    "\n",
    "\n",
    "def partition(nums, low, high):\n",
    "    if low == high:\n",
    "        return low\n",
    "\n",
    "    pivot = nums[high]\n",
    "    for i in range(low, high):\n",
    "        # all elements less than 'pivot' will be before the index 'low'\n",
    "        if nums[i] < pivot:\n",
    "            nums[low], nums[i] = nums[i], nums[low]\n",
    "            low += 1\n",
    "\n",
    "    # put the pivot in its correct place\n",
    "    nums[low], nums[high] = nums[high], nums[low]\n",
    "    return low"
   ]
  },
  {
   "cell_type": "markdown",
   "metadata": {},
   "source": [
    "# Randomized Partitioning Scheme of Quicksort - O(N^2) worst, O(N) average runtime, O(N) space"
   ]
  },
  {
   "cell_type": "code",
   "execution_count": 11,
   "metadata": {},
   "outputs": [],
   "source": [
    "import random\n",
    "\n",
    "def find_Kth_smallest_number(nums, k):\n",
    "    return find_Kth_smallest_number_rec(nums, k, 0, len(nums) - 1)\n",
    "\n",
    "\n",
    "def find_Kth_smallest_number_rec(nums, k, start, end):\n",
    "    p = partition(nums, start, end)\n",
    "\n",
    "    if p == k - 1:\n",
    "        return nums[p]\n",
    "\n",
    "    if p > k - 1:    # search lower part\n",
    "        return find_Kth_smallest_number_rec(nums, k, start, p - 1)\n",
    "\n",
    "    # search higher part\n",
    "    return find_Kth_smallest_number_rec(nums, k, p + 1, end)\n",
    "\n",
    "\n",
    "def partition(nums, low, high):\n",
    "    if low == high:\n",
    "        return low\n",
    "\n",
    "    pivotIndex = random.randint(low, high)\n",
    "    nums[pivotIndex], nums[high] = nums[high], nums[pivotIndex]\n",
    "\n",
    "    pivot = nums[high]\n",
    "    for i in range(low, high):\n",
    "        # all elements less than 'pivot' will be before the index 'low'\n",
    "        if nums[i] < pivot:\n",
    "            nums[low], nums[i] = nums[i], nums[low]\n",
    "            low += 1\n",
    "\n",
    "    # put the pivot in its correct place\n",
    "    nums[low], nums[high] = nums[high], nums[low]\n",
    "    return low"
   ]
  },
  {
   "cell_type": "markdown",
   "metadata": {},
   "source": [
    "# Median of Medians - O(N) runtime, O(N) space"
   ]
  },
  {
   "cell_type": "code",
   "execution_count": 13,
   "metadata": {},
   "outputs": [],
   "source": [
    "def find_Kth_smallest_number(nums, k):\n",
    "    return find_Kth_smallest_number_rec(nums, k, 0, len(nums) - 1)\n",
    "\n",
    "\n",
    "def find_Kth_smallest_number_rec(nums, k, start, end):\n",
    "    p = partition(nums, start, end)\n",
    "\n",
    "    if p == k - 1:\n",
    "        return nums[p]\n",
    "\n",
    "    if p > k - 1:    # search lower part\n",
    "        return find_Kth_smallest_number_rec(nums, k, start, p - 1)\n",
    "\n",
    "    # search higher part\n",
    "    return find_Kth_smallest_number_rec(nums, k, p + 1, end)\n",
    "\n",
    "\n",
    "def partition(nums, low, high):\n",
    "    if low == high:\n",
    "        return low\n",
    "\n",
    "    median = median_of_medians(nums, low, high)\n",
    "    # find the median in the array and swap it with 'nums[high]' which will become our pivot\n",
    "    for i in range(low, high):\n",
    "        if nums[i] == median:\n",
    "            nums[i], nums[high] = nums[high], nums[i]\n",
    "            break\n",
    "\n",
    "    pivot = nums[high]\n",
    "    for i in range(low, high):\n",
    "        # all elements less than 'pivot' will be before the index 'low'\n",
    "        if nums[i] < pivot:\n",
    "            nums[low], nums[i] = nums[i], nums[low]\n",
    "            low += 1\n",
    "\n",
    "    # put the pivot in its correct place\n",
    "    nums[low], nums[high] = nums[high], nums[low]\n",
    "    return low\n",
    "\n",
    "\n",
    "def median_of_medians(nums, low, high):\n",
    "    n = high - low + 1\n",
    "    # if we have less than 5 elements, ignore the partitioning algorithm\n",
    "    if n < 5:\n",
    "        return nums[low]\n",
    "\n",
    "    # partition the given array into chunks of 5 elements\n",
    "    partitions = [nums[j:j+5] for j in range(low, high+1, 5)]\n",
    "\n",
    "    # for simplicity, lets ignore any partition with less than 5 elements\n",
    "    fullPartitions = [\n",
    "        partition for partition in partitions if len(partition) == 5]\n",
    "\n",
    "    # sort all partitions\n",
    "    sortedPartitions = [sorted(partition) for partition in fullPartitions]\n",
    "\n",
    "    # find median of all partations; the median of each partition is at index '2'\n",
    "    medians = [partition[2] for partition in sortedPartitions]\n",
    "\n",
    "    return partition(medians, 0, len(medians)-1)"
   ]
  },
  {
   "cell_type": "code",
   "execution_count": 14,
   "metadata": {},
   "outputs": [
    {
     "data": {
      "text/plain": [
       "5"
      ]
     },
     "execution_count": 14,
     "metadata": {},
     "output_type": "execute_result"
    }
   ],
   "source": [
    "find_Kth_smallest_number([1, 5, 12, 2, 11, 5], 3)"
   ]
  }
 ],
 "metadata": {
  "kernelspec": {
   "display_name": "Python 3",
   "language": "python",
   "name": "python3"
  },
  "language_info": {
   "codemirror_mode": {
    "name": "ipython",
    "version": 3
   },
   "file_extension": ".py",
   "mimetype": "text/x-python",
   "name": "python",
   "nbconvert_exporter": "python",
   "pygments_lexer": "ipython3",
   "version": "3.7.3"
  }
 },
 "nbformat": 4,
 "nbformat_minor": 2
}
