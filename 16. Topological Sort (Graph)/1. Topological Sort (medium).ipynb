{
 "cells": [
  {
   "cell_type": "markdown",
   "metadata": {},
   "source": [
    "Problem Statement <br/>\n",
    "\n",
    "Topological Sort of a directed graph (a graph with unidirectional edges) is a linear ordering of its vertices such that for every directed edge (U, V) from vertex U to vertex V, U comes before V in the ordering. <br/>\n",
    "Given a directed graph, find the topological ordering of its vertices. <br/>\n",
    "\n",
    "Example 1: <br/>\n",
    "Input: Vertices=4, Edges=[3, 2], [3, 0], [2, 0], [2, 1] <br/>\n",
    "Output: Following are the two valid topological sorts for the given graph: <br/>\n",
    "1) 3, 2, 0, 1 <br/>\n",
    "2) 3, 2, 1, 0 <br/>\n",
    "\n",
    "Example 2: <br/>\n",
    "Input: Vertices=5, Edges=[4, 2], [4, 3], [2, 0], [2, 1], [3, 1] <br/>\n",
    "Output: Following are all valid topological sorts for the given graph: <br/>\n",
    "1) 4, 2, 3, 0, 1 <br/>\n",
    "2) 4, 3, 2, 0, 1 <br/>\n",
    "3) 4, 3, 2, 1, 0 <br/>\n",
    "4) 4, 2, 3, 1, 0 <br/>\n",
    "5) 4, 2, 0, 3, 1 <br/>\n",
    "\n",
    "Example 3: <br/>\n",
    "Input: Vertices=7, Edges=[6, 4], [6, 2], [5, 3], [5, 4], [3, 0], [3, 1], [3, 2], [4, 1] <br/>\n",
    "Output: Following are all valid topological sorts for the given graph: <br/>\n",
    "1) 5, 6, 3, 4, 0, 1, 2 <br/>\n",
    "2) 6, 5, 3, 4, 0, 1, 2 <br/>\n",
    "3) 5, 6, 4, 3, 0, 2, 1 <br/>\n",
    "4) 6, 5, 4, 3, 0, 1, 2 <br/>\n",
    "5) 5, 6, 3, 4, 0, 2, 1 <br/>\n",
    "6) 5, 6, 3, 4, 1, 2, 0 <br/>\n",
    "\n",
    "There are other valid topological ordering of the graph too."
   ]
  },
  {
   "cell_type": "markdown",
   "metadata": {},
   "source": [
    "# Breadth First Search - O(V + E) runtime, O(V + E) space, where V is the number of vertices and E is the number of Edges"
   ]
  },
  {
   "cell_type": "code",
   "execution_count": 1,
   "metadata": {},
   "outputs": [],
   "source": [
    "from collections import deque\n",
    "\n",
    "def topological_sort(vertices, edges):\n",
    "    sortedOrder = []\n",
    "    if vertices <= 0:\n",
    "        return sortedOrder\n",
    "\n",
    "    # a. Initialize the graph\n",
    "    inDegree = {i: 0 for i in range(vertices)}    # count of incoming edges\n",
    "    graph = {i: [] for i in range(vertices)}    # adjacency list graph\n",
    "\n",
    "    # b. Build the graph\n",
    "    for edge in edges:\n",
    "        parent, child = edge[0], edge[1]\n",
    "        graph[parent].append(child)    # put the child into it's parent's list\n",
    "        inDegree[child] += 1    # increment child's inDegree\n",
    "\n",
    "    # c. Find all sources i.e., all vertices with 0 in-degrees\n",
    "    sources = deque()\n",
    "    for key in inDegree:\n",
    "        if inDegree[key] == 0:\n",
    "            sources.append(key)\n",
    "\n",
    "    # d. For each source, add it to the sortedOrder and subtract one from all of its children's in-degrees\n",
    "    # if a child's in-degree becomes zero, add it to the sources queue\n",
    "    while sources:\n",
    "        vertex = sources.popleft()\n",
    "        sortedOrder.append(vertex)\n",
    "        for child in graph[vertex]:    # get the node's children to decrement their in-degrees\n",
    "            inDegree[child] -= 1\n",
    "            if inDegree[child] == 0:\n",
    "                sources.append(child)\n",
    "\n",
    "    # topological sort is not possible as the graph has a cycle\n",
    "    if len(sortedOrder) != vertices:\n",
    "        return []\n",
    "\n",
    "    return sortedOrder"
   ]
  },
  {
   "cell_type": "code",
   "execution_count": 2,
   "metadata": {},
   "outputs": [
    {
     "data": {
      "text/plain": [
       "[3, 2, 0, 1]"
      ]
     },
     "execution_count": 2,
     "metadata": {},
     "output_type": "execute_result"
    }
   ],
   "source": [
    "topological_sort(4, [[3, 2], [3, 0], [2, 0], [2, 1]])"
   ]
  }
 ],
 "metadata": {
  "kernelspec": {
   "display_name": "Python 3",
   "language": "python",
   "name": "python3"
  },
  "language_info": {
   "codemirror_mode": {
    "name": "ipython",
    "version": 3
   },
   "file_extension": ".py",
   "mimetype": "text/x-python",
   "name": "python",
   "nbconvert_exporter": "python",
   "pygments_lexer": "ipython3",
   "version": "3.7.3"
  }
 },
 "nbformat": 4,
 "nbformat_minor": 2
}
