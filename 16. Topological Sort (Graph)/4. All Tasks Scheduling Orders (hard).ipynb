{
 "cells": [
  {
   "cell_type": "markdown",
   "metadata": {},
   "source": [
    "Problem Statement <br/>\n",
    "\n",
    "There are ‘N’ tasks, labeled from ‘0’ to ‘N-1’. Each task can have some prerequisite tasks which need to be completed before it can be scheduled. Given the number of tasks and a list of prerequisite pairs, write a method to print all possible ordering of tasks meeting all prerequisites. <br/>\n",
    "\n",
    "Example 1: <br/>\n",
    "Input: Tasks=3, Prerequisites=[0, 1], [1, 2] <br/>\n",
    "Output: [0, 1, 2] <br/>\n",
    "Explanation: There is only possible ordering of the tasks. <br/>\n",
    "\n",
    "Example 2: <br/>\n",
    "Input: Tasks=4, Prerequisites=[3, 2], [3, 0], [2, 0], [2, 1] <br/>\n",
    "Output: <br/>\n",
    "1) [3, 2, 0, 1] <br/>\n",
    "2) [3, 2, 1, 0] <br/>\n",
    "Explanation: There are two possible orderings of the tasks meeting all prerequisites. <br/>\n",
    "\n",
    "Example 3: <br/>\n",
    "Input: Tasks=6, Prerequisites=[2, 5], [0, 5], [0, 4], [1, 4], [3, 2], [1, 3] <br/>\n",
    "Output: <br/>\n",
    "1) [0, 1, 4, 3, 2, 5] <br/>\n",
    "2) [0, 1, 3, 4, 2, 5] <br/>\n",
    "3) [0, 1, 3, 2, 4, 5] <br/>\n",
    "4) [0, 1, 3, 2, 5, 4] <br/>\n",
    "5) [1, 0, 3, 4, 2, 5] <br/>\n",
    "6) [1, 0, 3, 2, 4, 5] <br/>\n",
    "7) [1, 0, 3, 2, 5, 4] <br/>\n",
    "8) [1, 0, 4, 3, 2, 5] <br/>\n",
    "9) [1, 3, 0, 2, 4, 5] <br/>\n",
    "10) [1, 3, 0, 2, 5, 4] <br/>\n",
    "11) [1, 3, 0, 4, 2, 5] <br/>\n",
    "12) [1, 3, 2, 0, 5, 4] <br/>\n",
    "13) [1, 3, 2, 0, 4, 5]"
   ]
  },
  {
   "cell_type": "markdown",
   "metadata": {},
   "source": [
    "# Breadth First Search - O(V! * E) runtime, O(V! * E) edges where V and E are the number of vertices and edges"
   ]
  },
  {
   "cell_type": "code",
   "execution_count": 1,
   "metadata": {},
   "outputs": [],
   "source": [
    "from collections import deque\n",
    "\n",
    "def print_orders(tasks, prerequisites):\n",
    "    sortedOrder = []\n",
    "    if tasks <= 0:\n",
    "        return False\n",
    "\n",
    "    # a. Initialize the graph\n",
    "    inDegree = {i: 0 for i in range(tasks)}    # count of incoming edges\n",
    "    graph = {i: [] for i in range(tasks)}    # adjacency list graph\n",
    "\n",
    "    # b. Build the graph\n",
    "    for prerequisite in prerequisites:\n",
    "        parent, child = prerequisite[0], prerequisite[1]\n",
    "        graph[parent].append(child)    # put the child into it's parent's list\n",
    "        inDegree[child] += 1    # increment child's inDegree\n",
    "\n",
    "    # c. Find all sources i.e., all vertices with 0 in-degrees\n",
    "    sources = deque()\n",
    "    for key in inDegree:\n",
    "        if inDegree[key] == 0:\n",
    "            sources.append(key)\n",
    "\n",
    "    print_all_topological_sorts(graph, inDegree, sources, sortedOrder)\n",
    "\n",
    "\n",
    "def print_all_topological_sorts(graph, inDegree, sources, sortedOrder):\n",
    "    if sources:\n",
    "        for vertex in sources:\n",
    "            sortedOrder.append(vertex)\n",
    "            sourcesForNextCall = deque(sources)    # make a copy of sources\n",
    "            # only remove the current source, all other sources should remain in the queue for the next call\n",
    "            sourcesForNextCall.remove(vertex)\n",
    "            # get the node's children to decrement their in-degrees\n",
    "            for child in graph[vertex]:\n",
    "                inDegree[child] -= 1\n",
    "                if inDegree[child] == 0:\n",
    "                    sourcesForNextCall.append(child)\n",
    "\n",
    "            # recursive call to print other orderings from the remaining (and new) sources\n",
    "            print_all_topological_sorts(\n",
    "                graph, inDegree, sourcesForNextCall, sortedOrder)\n",
    "\n",
    "            # backtrack, remove the vertex from the sorted order and put all of its children back to consider\n",
    "            # the next source instead of the current vertex\n",
    "            sortedOrder.remove(vertex)\n",
    "            for child in graph[vertex]:\n",
    "                inDegree[child] += 1\n",
    "\n",
    "    # if sortedOrder doesn't contain all tasks, either we've a cyclic dependency between tasks, or\n",
    "    # we have not processed all the tasks in this recursive call\n",
    "    if len(sortedOrder) == len(inDegree):\n",
    "        print(sortedOrder)"
   ]
  },
  {
   "cell_type": "code",
   "execution_count": 2,
   "metadata": {},
   "outputs": [
    {
     "name": "stdout",
     "output_type": "stream",
     "text": [
      "[0, 1, 4, 3, 2, 5]\n",
      "[0, 1, 3, 4, 2, 5]\n",
      "[0, 1, 3, 2, 4, 5]\n",
      "[0, 1, 3, 2, 5, 4]\n",
      "[1, 0, 3, 4, 2, 5]\n",
      "[1, 0, 3, 2, 4, 5]\n",
      "[1, 0, 3, 2, 5, 4]\n",
      "[1, 0, 4, 3, 2, 5]\n",
      "[1, 3, 0, 2, 4, 5]\n",
      "[1, 3, 0, 2, 5, 4]\n",
      "[1, 3, 0, 4, 2, 5]\n",
      "[1, 3, 2, 0, 5, 4]\n",
      "[1, 3, 2, 0, 4, 5]\n"
     ]
    }
   ],
   "source": [
    "print_orders(6, [[2, 5], [0, 5], [0, 4], [1, 4], [3, 2], [1, 3]])"
   ]
  }
 ],
 "metadata": {
  "kernelspec": {
   "display_name": "Python 3",
   "language": "python",
   "name": "python3"
  },
  "language_info": {
   "codemirror_mode": {
    "name": "ipython",
    "version": 3
   },
   "file_extension": ".py",
   "mimetype": "text/x-python",
   "name": "python",
   "nbconvert_exporter": "python",
   "pygments_lexer": "ipython3",
   "version": "3.7.3"
  }
 },
 "nbformat": 4,
 "nbformat_minor": 2
}
