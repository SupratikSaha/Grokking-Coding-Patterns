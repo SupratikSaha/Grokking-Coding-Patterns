{
 "cells": [
  {
   "cell_type": "markdown",
   "metadata": {},
   "source": [
    "Problem Statement <br/>\n",
    "\n",
    "We are given an undirected graph that has characteristics of a k-ary tree. In such a graph, we can choose any node as the root to make a k-ary tree. The root (or the tree) with the minimum height will be called Minimum Height Tree (MHT). There can be multiple MHTs for a graph. In this problem, we need to find all those roots which give us MHTs. Write a method to find all MHTs of the given graph and return a list of their roots. <br/>\n",
    "\n",
    "Example 1: <br/>\n",
    "Input: vertices: 5, Edges: [[0, 1], [1, 2], [1, 3], [2, 4]] <br/>\n",
    "Output:[1, 2] <br/>\n",
    "Explanation: Choosing '1' or '2' as roots give us MHTs. In the below diagram, we can see that the \n",
    "height of the trees with roots '1' or '2' is three which is minimum. <br/>\n",
    "\n",
    "Example 2: <br/>\n",
    "Input: vertices: 4, Edges: [[0, 1], [0, 2], [2, 3]] <br/>\n",
    "Output:[0, 2] <br/>\n",
    "Explanation: Choosing '0' or '2' as roots give us MHTs. In the below diagram, we can see that the \n",
    "height of the trees with roots '0' or '2' is three which is minimum. <br/>\n",
    "\n",
    "Example 3: <br/>\n",
    "Input: vertices: 4, Edges: [[0, 1], [1, 2], [1, 3]] <br/>\n",
    "Output:[1]"
   ]
  },
  {
   "cell_type": "markdown",
   "metadata": {},
   "source": [
    "# Breadth First Search - O(V + E) runtime, O(V + E) space where ‘V’ is the total nodes and ‘E’ is the total number of the edges."
   ]
  },
  {
   "cell_type": "code",
   "execution_count": 1,
   "metadata": {},
   "outputs": [],
   "source": [
    "from collections import deque\n",
    "\n",
    "def find_trees(nodes, edges):\n",
    "    if nodes <= 0:\n",
    "        return []\n",
    "\n",
    "    # with only one node, since its in-degrees will be 0, therefore, we need to handle it separately\n",
    "    if nodes == 1:\n",
    "        return [0]\n",
    "\n",
    "    # a. Initialize the graph\n",
    "    inDegree = {i: 0 for i in range(nodes)}    # count of incoming edges\n",
    "    graph = {i: [] for i in range(nodes)}    # adjacency list graph\n",
    "\n",
    "    # b. Build the graph\n",
    "    for edge in edges:\n",
    "        n1, n2 = edge[0], edge[1]\n",
    "        # since this is an undirected graph, therefore, add a link for both the nodes\n",
    "        graph[n1].append(n2)\n",
    "        graph[n2].append(n1)\n",
    "        # increment the in-degrees of both the nodes\n",
    "        inDegree[n1] += 1\n",
    "        inDegree[n2] += 1\n",
    "\n",
    "    # c. Find all leaves i.e., all nodes with 0 in-degrees\n",
    "    leaves = deque()\n",
    "    for key in inDegree:\n",
    "        if inDegree[key] == 1:\n",
    "            leaves.append(key)\n",
    "\n",
    "    # d. Remove leaves level by level and subtract each leave's children's in-degrees.\n",
    "    # Repeat this until we are left with 1 or 2 nodes, which will be our answer.\n",
    "    # Any node that has already been a leaf cannot be the root of a minimum height tree, because\n",
    "    # its adjacent non-leaf node will always be a better candidate.\n",
    "    totalNodes = nodes\n",
    "    while totalNodes > 2:\n",
    "        leavesSize = len(leaves)\n",
    "        totalNodes -= leavesSize\n",
    "        for i in range(0, leavesSize):\n",
    "            vertex = leaves.popleft()\n",
    "            # get the node's children to decrement their in-degrees\n",
    "            for child in graph[vertex]:\n",
    "                inDegree[child] -= 1\n",
    "                if inDegree[child] == 1:\n",
    "                    leaves.append(child)\n",
    "\n",
    "    return list(leaves)"
   ]
  },
  {
   "cell_type": "code",
   "execution_count": 2,
   "metadata": {},
   "outputs": [
    {
     "data": {
      "text/plain": [
       "[1, 2]"
      ]
     },
     "execution_count": 2,
     "metadata": {},
     "output_type": "execute_result"
    }
   ],
   "source": [
    "find_trees(5, [[0, 1], [1, 2], [1, 3], [2, 4]])"
   ]
  }
 ],
 "metadata": {
  "kernelspec": {
   "display_name": "Python 3",
   "language": "python",
   "name": "python3"
  },
  "language_info": {
   "codemirror_mode": {
    "name": "ipython",
    "version": 3
   },
   "file_extension": ".py",
   "mimetype": "text/x-python",
   "name": "python",
   "nbconvert_exporter": "python",
   "pygments_lexer": "ipython3",
   "version": "3.7.3"
  }
 },
 "nbformat": 4,
 "nbformat_minor": 2
}
