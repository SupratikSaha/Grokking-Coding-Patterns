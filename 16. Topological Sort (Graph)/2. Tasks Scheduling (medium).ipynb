{
 "cells": [
  {
   "cell_type": "markdown",
   "metadata": {},
   "source": [
    "Problem Statement <br/>\n",
    "\n",
    "There are ‘N’ tasks, labeled from ‘0’ to ‘N-1’. Each task can have some prerequisite tasks which need to be completed before it can be scheduled. Given the number of tasks and a list of prerequisite pairs, find out if it is possible to schedule all the tasks. <br/>\n",
    "\n",
    "Example 1: <br/>\n",
    "Input: Tasks=3, Prerequisites=[0, 1], [1, 2] <br/>\n",
    "Output: true <br/>\n",
    "Explanation: To execute task '1', task '0' needs to finish first. Similarly, task '1' needs to finish \n",
    "before '2' can be scheduled. A possible sceduling of tasks is: [0, 1, 2]<br/>\n",
    "\n",
    "Example 2: <br/>\n",
    "Input: Tasks=3, Prerequisites=[0, 1], [1, 2], [2, 0] <br/>\n",
    "Output: false <br/>\n",
    "Explanation: The tasks have cyclic dependency, therefore they cannot be sceduled. <br/>\n",
    "\n",
    "Example 3: <br/>\n",
    "Input: Tasks=6, Prerequisites=[2, 5], [0, 5], [0, 4], [1, 4], [3, 2], [1, 3] <br/>\n",
    "Output: true <br/>\n",
    "Explanation: A possible sceduling of tasks is: [0 1 4 3 2 5] "
   ]
  },
  {
   "cell_type": "markdown",
   "metadata": {},
   "source": [
    "# Breadth First Search - O(V + E) runtime, O(V + E) edges where V and E are the number of vertices and edges"
   ]
  },
  {
   "cell_type": "code",
   "execution_count": 7,
   "metadata": {},
   "outputs": [],
   "source": [
    "from collections import deque\n",
    "\n",
    "def is_scheduling_possible(tasks, prerequisites):\n",
    "    sortedOrder = []\n",
    "\n",
    "    if tasks <= 0:\n",
    "        return False\n",
    "\n",
    "    inDegree = {i: 0 for i in range(tasks)}\n",
    "    graph = {i: [] for i in range(tasks)}\n",
    "\n",
    "    for edge in prerequisites:\n",
    "        priorTask, posteriorTask = edge[0], edge[1]\n",
    "        graph[priorTask].append(posteriorTask)\n",
    "        inDegree[posteriorTask] += 1\n",
    "\n",
    "    sources = deque()\n",
    "    for key in inDegree:\n",
    "        if inDegree[key] == 0:\n",
    "            sources.append(key)\n",
    "\n",
    "    while sources:\n",
    "        source = sources.popleft()\n",
    "        sortedOrder.append(source)\n",
    "        for child in graph[source]:\n",
    "            inDegree[child] -= 1\n",
    "            if inDegree[child] == 0:\n",
    "                sources.append(child)\n",
    "    \n",
    "    return len(sortedOrder) == tasks"
   ]
  },
  {
   "cell_type": "code",
   "execution_count": 8,
   "metadata": {},
   "outputs": [
    {
     "data": {
      "text/plain": [
       "True"
      ]
     },
     "execution_count": 8,
     "metadata": {},
     "output_type": "execute_result"
    }
   ],
   "source": [
    "is_scheduling_possible(6, [[2, 5], [0, 5], [0, 4], [1, 4], [3, 2], [1, 3]])"
   ]
  }
 ],
 "metadata": {
  "kernelspec": {
   "display_name": "Python 3",
   "language": "python",
   "name": "python3"
  },
  "language_info": {
   "codemirror_mode": {
    "name": "ipython",
    "version": 3
   },
   "file_extension": ".py",
   "mimetype": "text/x-python",
   "name": "python",
   "nbconvert_exporter": "python",
   "pygments_lexer": "ipython3",
   "version": "3.7.3"
  }
 },
 "nbformat": 4,
 "nbformat_minor": 2
}
