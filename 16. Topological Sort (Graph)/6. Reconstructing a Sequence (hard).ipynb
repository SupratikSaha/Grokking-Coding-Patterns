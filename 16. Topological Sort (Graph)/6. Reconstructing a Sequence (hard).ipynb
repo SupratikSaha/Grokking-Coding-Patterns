{
 "cells": [
  {
   "cell_type": "markdown",
   "metadata": {},
   "source": [
    "Problem Statement <br/>\n",
    "\n",
    "Given a sequence originalSeq and an array of sequences, write a method to find if originalSeq can be uniquely reconstructed from the array of sequences. <br/>\n",
    "\n",
    "Unique reconstruction means that we need to find if originalSeq is the only sequence such that all sequences in the array are subsequences of it. <br/>\n",
    "\n",
    "Example 1: <br/>\n",
    "Input: originalSeq: [1, 2, 3, 4], seqs: [[1, 2], [2, 3], [3, 4]] <br/>\n",
    "Output: true <br/>\n",
    "Explanation: The sequences [1, 2], [2, 3], and [3, 4] can uniquely reconstruct   \n",
    "[1, 2, 3, 4], in other words, all the given sequences uniquely define the order of numbers \n",
    "in the 'originalSeq'. <br/>\n",
    "\n",
    "Example 2: <br/>\n",
    "Input: originalSeq: [1, 2, 3, 4], seqs: [[1, 2], [2, 3], [2, 4]] <br/>\n",
    "Output: false <br/>\n",
    "Explanation: The sequences [1, 2], [2, 3], and [2, 4] cannot uniquely reconstruct \n",
    "[1, 2, 3, 4]. There are two possible sequences we can construct from the given sequences: <br/>\n",
    "1) [1, 2, 3, 4] <br/>\n",
    "2) [1, 2, 4, 3] <br/>\n",
    "\n",
    "Example 3: <br/>\n",
    "Input: originalSeq: [3, 1, 4, 2, 5], seqs: [[3, 1, 5], [1, 4, 2, 5]] <br/>\n",
    "Output: true <br/>\n",
    "Explanation: The sequences [3, 1, 5] and [1, 4, 2, 5] can uniquely reconstruct \n",
    "[3, 1, 4, 2, 5]."
   ]
  },
  {
   "cell_type": "markdown",
   "metadata": {},
   "source": [
    "# Breadth First Search - O(V + N) runtime, O(V + N) space where ‘V’ is the total number of different characters and ‘N’ is the count of numbers in all sequences"
   ]
  },
  {
   "cell_type": "code",
   "execution_count": 3,
   "metadata": {},
   "outputs": [],
   "source": [
    "from collections import deque\n",
    "\n",
    "\n",
    "def can_construct(originalSeq, sequences):\n",
    "    sortedOrder = []\n",
    "    if len(originalSeq) <= 0:\n",
    "        return False\n",
    "\n",
    "    # a. Initialize the graph\n",
    "    inDegree = {}    # count of incoming edges\n",
    "    graph = {}    # adjacency list graph\n",
    "    for sequence in sequences:\n",
    "        for num in sequence:\n",
    "            inDegree[num] = 0\n",
    "            graph[num] = []\n",
    "\n",
    "    # b. Build the graph\n",
    "    for sequence in sequences:\n",
    "        for i in range(1, len(sequence)):\n",
    "            parent, child = sequence[i - 1], sequence[i]\n",
    "            graph[parent].append(child)\n",
    "            inDegree[child] += 1\n",
    "\n",
    "    # if we don't have ordering rules for all the numbers we'll not able to uniquely construct the sequence\n",
    "    if len(inDegree) != len(originalSeq):\n",
    "        return False\n",
    "\n",
    "    # c. Find all sources i.e., all vertices with 0 in-degrees\n",
    "    sources = deque()\n",
    "    for key in inDegree:\n",
    "        if inDegree[key] == 0:\n",
    "            sources.append(key)\n",
    "\n",
    "    # d. For each source, add it to the sortedOrder and subtract one from all of its children's in-degrees\n",
    "    # if a child's in-degree becomes zero, add it to the sources queue\n",
    "    while sources:\n",
    "        if len(sources) > 1:\n",
    "            return False    # more than one sources mean, there is more than one way to reconstruct the sequence\n",
    "        if originalSeq[len(sortedOrder)] != sources[0]:\n",
    "            # the next source(or number) is different from the original sequence\n",
    "            return False\n",
    "\n",
    "        vertex = sources.popleft()\n",
    "        sortedOrder.append(vertex)\n",
    "        for child in graph[vertex]:    # get the node's children to decrement their in-degrees\n",
    "            inDegree[child] -= 1\n",
    "            if inDegree[child] == 0:\n",
    "                sources.append(child)\n",
    "\n",
    "    # if sortedOrder's size is not equal to original sequence's size, there is no unique way to construct\n",
    "    return len(sortedOrder) == len(originalSeq)"
   ]
  },
  {
   "cell_type": "code",
   "execution_count": 5,
   "metadata": {},
   "outputs": [
    {
     "data": {
      "text/plain": [
       "True"
      ]
     },
     "execution_count": 5,
     "metadata": {},
     "output_type": "execute_result"
    }
   ],
   "source": [
    "can_construct([1, 2, 3, 4], [[1, 2], [2, 3], [3, 4]])"
   ]
  }
 ],
 "metadata": {
  "kernelspec": {
   "display_name": "Python 3",
   "language": "python",
   "name": "python3"
  },
  "language_info": {
   "codemirror_mode": {
    "name": "ipython",
    "version": 3
   },
   "file_extension": ".py",
   "mimetype": "text/x-python",
   "name": "python",
   "nbconvert_exporter": "python",
   "pygments_lexer": "ipython3",
   "version": "3.7.3"
  }
 },
 "nbformat": 4,
 "nbformat_minor": 2
}
