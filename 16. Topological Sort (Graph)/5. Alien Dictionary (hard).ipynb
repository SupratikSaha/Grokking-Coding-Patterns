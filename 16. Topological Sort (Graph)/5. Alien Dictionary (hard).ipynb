{
 "cells": [
  {
   "cell_type": "markdown",
   "metadata": {},
   "source": [
    "Problem Statement <br/>\n",
    "\n",
    "There is a dictionary containing words from an alien language for which we don’t know the ordering of the alphabets. Write a method to find the correct order of the alphabets in the alien language. It is given that the input is a valid dictionary and there exists an ordering among its alphabets. <br/>\n",
    "\n",
    "Example 1: <br/>\n",
    "Input: Words: [\"ba\", \"bc\", \"ac\", \"cab\"] <br/>\n",
    "Output: bac <br/>\n",
    "Explanation: Given that the words are sorted lexicographically by the rules of the alien language, so\n",
    "from the given words we can conclude the following ordering among its characters: <br/>\n",
    "\n",
    "1. From \"ba\" and \"bc\", we can conclude that 'a' comes before 'c'. <br/>\n",
    "2. From \"bc\" and \"ac\", we can conclude that 'b' comes before 'a' <br/>\n",
    "\n",
    "From the above two points, we can conclude that the correct character order is: \"bac\" <br/>\n",
    "\n",
    "Example 2: <br/>\n",
    "Input: Words: [\"cab\", \"aaa\", \"aab\"] <br/>\n",
    "Output: cab <br/>\n",
    "Explanation: From the given words we can conclude the following ordering among its characters: <br/>\n",
    "\n",
    "1. From \"cab\" and \"aaa\", we can conclude that 'c' comes before 'a'. <br/>\n",
    "2. From \"aaa\" and \"aab\", we can conclude that 'a' comes before 'b' <br/>\n",
    "\n",
    "From the above two points, we can conclude that the correct character order is: \"cab\" <br/>\n",
    "\n",
    "Example 3: <br/>\n",
    "Input: Words: [\"ywx\", \"wz\", \"xww\", \"xz\", \"zyy\", \"zwz\"] <br/>\n",
    "Output: ywxz <br/>\n",
    "Explanation: From the given words we can conclude the following ordering among its characters: <br/>\n",
    "\n",
    "1. From \"ywx\" and \"wz\", we can conclude that 'y' comes before 'w'. <br/>\n",
    "2. From \"wz\" and \"xww\", we can conclude that 'w' comes before 'x'. <br/>\n",
    "3. From \"xww\" and \"xz\", we can conclude that 'w' comes before 'z' <br/>\n",
    "4. From \"xz\" and \"zyy\", we can conclude that 'x' comes before 'z' <br/>\n",
    "5. From \"zyy\" and \"zwz\", we can conclude that 'y' comes before 'w' <br/>\n",
    "\n",
    "From the above five points, we can conclude that the correct character order is: \"ywxz\""
   ]
  },
  {
   "cell_type": "markdown",
   "metadata": {},
   "source": [
    "# Breadth First Search - O(V + N) runtime, O(V + N) space where ‘V’ is the total number of different characters and ‘N’ is the number of words"
   ]
  },
  {
   "cell_type": "code",
   "execution_count": 1,
   "metadata": {},
   "outputs": [],
   "source": [
    "from collections import deque\n",
    "\n",
    "def find_order(words):\n",
    "    if len(words) == 0:\n",
    "        return \"\"\n",
    "\n",
    "    # a. Initialize the graph\n",
    "    inDegree = {}    # count of incoming edges\n",
    "    graph = {}    # adjacency list graph\n",
    "    for word in words:\n",
    "        for character in word:\n",
    "            inDegree[character] = 0\n",
    "            graph[character] = []\n",
    "\n",
    "    # b. Build the graph\n",
    "    for i in range(0, len(words)-1):\n",
    "        # find ordering of characters from adjacent words\n",
    "        w1, w2 = words[i], words[i + 1]\n",
    "        for j in range(0, min(len(w1), len(w2))):\n",
    "            parent, child = w1[j], w2[j]\n",
    "            if parent != child:    # if the two characters are different\n",
    "                # put the child into it's parent's list\n",
    "                graph[parent].append(child)\n",
    "                inDegree[child] += 1    # increment child's inDegree\n",
    "                break    # only the first different character between the two words will help us find the order\n",
    "\n",
    "    # c. Find all sources i.e., all vertices with 0 in-degrees\n",
    "    sources = deque()\n",
    "    for key in inDegree:\n",
    "        if inDegree[key] == 0:\n",
    "            sources.append(key)\n",
    "\n",
    "    # d. For each source, add it to the sortedOrder and subtract one from all of its children's in-degrees\n",
    "    # if a child's in-degree becomes zero, add it to the sources queue\n",
    "    sortedOrder = []\n",
    "    while sources:\n",
    "        vertex = sources.popleft()\n",
    "        sortedOrder.append(vertex)\n",
    "        for child in graph[vertex]:    # get the node's children to decrement their in-degrees\n",
    "            inDegree[child] -= 1\n",
    "            if inDegree[child] == 0:\n",
    "                sources.append(child)\n",
    "\n",
    "    # if sortedOrder doesn't contain all characters, there is a cyclic dependency between characters, therefore, we\n",
    "    # will not be able to find the correct ordering of the characters\n",
    "    if len(sortedOrder) != len(inDegree):\n",
    "        return \"\"\n",
    "\n",
    "    return ''.join(sortedOrder)"
   ]
  },
  {
   "cell_type": "code",
   "execution_count": 2,
   "metadata": {},
   "outputs": [
    {
     "data": {
      "text/plain": [
       "'ywxz'"
      ]
     },
     "execution_count": 2,
     "metadata": {},
     "output_type": "execute_result"
    }
   ],
   "source": [
    "find_order([\"ywx\", \"wz\", \"xww\", \"xz\", \"zyy\", \"zwz\"])"
   ]
  }
 ],
 "metadata": {
  "kernelspec": {
   "display_name": "Python 3",
   "language": "python",
   "name": "python3"
  },
  "language_info": {
   "codemirror_mode": {
    "name": "ipython",
    "version": 3
   },
   "file_extension": ".py",
   "mimetype": "text/x-python",
   "name": "python",
   "nbconvert_exporter": "python",
   "pygments_lexer": "ipython3",
   "version": "3.7.3"
  }
 },
 "nbformat": 4,
 "nbformat_minor": 2
}
