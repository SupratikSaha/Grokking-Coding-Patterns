{
 "cells": [
  {
   "cell_type": "markdown",
   "metadata": {},
   "source": [
    "Problem Statement <br/>\n",
    "Given an array arr of unsorted numbers and a target sum, count all triplets in it such that arr[i] + arr[j] + arr[k] < target where i, j, and k are three different indices. Write a function to return the count of such triplets. <br/>\n",
    "\n",
    "Example 1: <br/>\n",
    "Input: [-1, 0, 2, 3], target=3 <br/>\n",
    "Output: 2 <br/>\n",
    "Explanation: There are two triplets whose sum is less than the target: [-1, 0, 3], [-1, 0, 2] <br/>\n",
    "        \n",
    "Example 2: <br/>\n",
    "Input: [-1, 4, 2, 1, 3], target=5  <br/>\n",
    "Output: 4 <br/>\n",
    "Explanation: There are four triplets whose sum is less than the target: [-1, 1, 4], [-1, 1, 3], [-1, 1, 2], [-1, 2, 3]"
   ]
  },
  {
   "cell_type": "markdown",
   "metadata": {},
   "source": [
    "# Two Pointers - O(N ^ 2) runtime, O (N) space"
   ]
  },
  {
   "cell_type": "code",
   "execution_count": 1,
   "metadata": {},
   "outputs": [],
   "source": [
    "def triplet_with_smaller_sum(arr, target):\n",
    "    count = 0\n",
    "    length = len(arr) \n",
    "    arr = sorted(arr)\n",
    "\n",
    "    for i in range(length - 2):\n",
    "        left, right = i + 1, length - 1\n",
    "        while left < right:\n",
    "            curr_sum = arr[i] + arr[left] + arr[right]\n",
    "            if curr_sum < target:\n",
    "                count += right - left\n",
    "                left += 1\n",
    "            else:\n",
    "                right -= 1\n",
    "\n",
    "    return count"
   ]
  },
  {
   "cell_type": "code",
   "execution_count": 2,
   "metadata": {},
   "outputs": [
    {
     "data": {
      "text/plain": [
       "4"
      ]
     },
     "execution_count": 2,
     "metadata": {},
     "output_type": "execute_result"
    }
   ],
   "source": [
    "triplet_with_smaller_sum([-1, 4, 2, 1, 3], 5)"
   ]
  }
 ],
 "metadata": {
  "kernelspec": {
   "display_name": "Python 3",
   "language": "python",
   "name": "python3"
  },
  "language_info": {
   "codemirror_mode": {
    "name": "ipython",
    "version": 3
   },
   "file_extension": ".py",
   "mimetype": "text/x-python",
   "name": "python",
   "nbconvert_exporter": "python",
   "pygments_lexer": "ipython3",
   "version": "3.7.4"
  }
 },
 "nbformat": 4,
 "nbformat_minor": 2
}
