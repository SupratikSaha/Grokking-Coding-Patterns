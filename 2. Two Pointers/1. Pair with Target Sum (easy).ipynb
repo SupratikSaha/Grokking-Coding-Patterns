{
 "cells": [
  {
   "cell_type": "markdown",
   "metadata": {},
   "source": [
    "Problem Statement <br/>\n",
    "Given an array of sorted numbers and a target sum, find a pair in the array whose sum is equal to the given target. <br/>\n",
    "Write a function to return the indices of the two numbers (i.e. the pair) such that they add up to the given target. <br/>\n",
    "\n",
    "Example 1: <br/>\n",
    "Input: [1, 2, 3, 4, 6], target=6 <br/>\n",
    "Output: [1, 3] <br/>\n",
    "Explanation: The numbers at index 1 and 3 add up to 6: 2+4=6 <br/>\n",
    "        \n",
    "Example 2: <br/>\n",
    "Input: [2, 5, 9, 11], target=11 <br/>\n",
    "Output: [0, 2] <br/>\n",
    "Explanation: The numbers at index 0 and 2 add up to 11: 2+9=11"
   ]
  },
  {
   "cell_type": "markdown",
   "metadata": {},
   "source": [
    "# Binary Search - O(N * log N) runtime, O(1) space"
   ]
  },
  {
   "cell_type": "markdown",
   "metadata": {},
   "source": [
    "Since the given array is sorted, a brute-force solution could be to iterate through the array, taking one number at a time and searching for the second number through Binary Search. "
   ]
  },
  {
   "cell_type": "markdown",
   "metadata": {},
   "source": [
    "# Hash Table - O(N) runtime, O(N) space"
   ]
  },
  {
   "cell_type": "code",
   "execution_count": 1,
   "metadata": {},
   "outputs": [],
   "source": [
    "def pair_with_targetsum(arr, target_sum):\n",
    "    nums = {}    # to store numbers and their indices\n",
    "    for i, num in enumerate(arr):\n",
    "        if target_sum - num in nums:\n",
    "            return [nums[target_sum - num], i]\n",
    "        else:\n",
    "            nums[arr[i]] = i\n",
    "    return [-1, -1]"
   ]
  },
  {
   "cell_type": "markdown",
   "metadata": {},
   "source": [
    "# Two Pointers - O(N) runtime, O(1) space"
   ]
  },
  {
   "cell_type": "code",
   "execution_count": 4,
   "metadata": {},
   "outputs": [],
   "source": [
    "def pair_with_targetsum(arr, target_sum):\n",
    "    \n",
    "    left, right = 0, len(arr) - 1\n",
    " \n",
    "    while left < right:\n",
    "        curr_sum = arr[left] + arr[right]\n",
    " \n",
    "        if curr_sum == target_sum:\n",
    "            return [left, right]\n",
    "        elif curr_sum < target_sum:\n",
    "            left += 1\n",
    "        else:\n",
    "            right -= 1\n",
    " \n",
    "    return [-1, -1]"
   ]
  },
  {
   "cell_type": "code",
   "execution_count": 5,
   "metadata": {},
   "outputs": [
    {
     "data": {
      "text/plain": [
       "[0, 2]"
      ]
     },
     "execution_count": 5,
     "metadata": {},
     "output_type": "execute_result"
    }
   ],
   "source": [
    "pair_with_targetsum([2, 5, 9, 11], 11)"
   ]
  }
 ],
 "metadata": {
  "kernelspec": {
   "display_name": "Python 3",
   "language": "python",
   "name": "python3"
  },
  "language_info": {
   "codemirror_mode": {
    "name": "ipython",
    "version": 3
   },
   "file_extension": ".py",
   "mimetype": "text/x-python",
   "name": "python",
   "nbconvert_exporter": "python",
   "pygments_lexer": "ipython3",
   "version": "3.7.3"
  }
 },
 "nbformat": 4,
 "nbformat_minor": 2
}
