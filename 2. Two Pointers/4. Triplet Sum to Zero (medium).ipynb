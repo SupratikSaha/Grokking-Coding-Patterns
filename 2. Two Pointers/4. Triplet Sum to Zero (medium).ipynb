{
 "cells": [
  {
   "cell_type": "markdown",
   "metadata": {},
   "source": [
    "Problem Statement <br/>\n",
    "\n",
    "Given an array of unsorted numbers, find all unique triplets in it that add up to zero. <br/>\n",
    "Example 1: <br/>\n",
    "Input: [-3, 0, 1, 2, -1, 1, -2] <br/>\n",
    "Output: [-3, 1, 2], [-2, 0, 2], [-2, 1, 1], [-1, 0, 1] <br/>\n",
    "Explanation: There are four unique triplets whose sum is equal to zero. <br/>\n",
    "    \n",
    "Example 2: <br/>\n",
    "Input: [-5, 2, -1, -2, 3] <br/>\n",
    "Output: [[-5, 2, 3], [-2, -1, 3]] <br/>\n",
    "Explanation: There are two unique triplets whose sum is equal to zero. <br/>"
   ]
  },
  {
   "cell_type": "markdown",
   "metadata": {},
   "source": [
    "# Two Pointers - O(N ^ 2) runtime, O(N) space"
   ]
  },
  {
   "cell_type": "code",
   "execution_count": 1,
   "metadata": {},
   "outputs": [],
   "source": [
    "def search_triplets(arr):\n",
    "    triplets = []\n",
    "    arr = sorted(arr)\n",
    " \n",
    "    for i, curr_num in enumerate(arr):\n",
    "        if i > 0 and curr_num == arr[i - 1]:\n",
    "            continue\n",
    "        pair_sum(arr, -curr_num, i + 1, triplets)\n",
    "        \n",
    "    return triplets\n",
    " \n",
    "def pair_sum(arr, target_sum, left, triplets):\n",
    "    right = len(arr) - 1\n",
    " \n",
    "    while left < right:\n",
    "        left_val, right_val = arr[left], arr[right]\n",
    "        curr_sum = left_val + right_val\n",
    "        if curr_sum == target_sum:\n",
    "            triplets.append([-target_sum, left_val, right_val])\n",
    "            left += 1\n",
    "            right -= 1\n",
    "            while left < right and arr[left] == arr[left - 1]:\n",
    "                left += 1\n",
    "            while left < right and arr[right] == arr[right + 1]:\n",
    "                right -= 1\n",
    "        elif curr_sum < target_sum:\n",
    "            left += 1\n",
    "        else:\n",
    "            right -= 1\n"
   ]
  },
  {
   "cell_type": "code",
   "execution_count": 2,
   "metadata": {},
   "outputs": [
    {
     "data": {
      "text/plain": [
       "[[-3, 1, 2], [-2, 0, 2], [-2, 1, 1], [-1, 0, 1]]"
      ]
     },
     "execution_count": 2,
     "metadata": {},
     "output_type": "execute_result"
    }
   ],
   "source": [
    "search_triplets([-3, 0, 1, 2, -1, 1, -2])"
   ]
  }
 ],
 "metadata": {
  "kernelspec": {
   "display_name": "Python 3",
   "language": "python",
   "name": "python3"
  },
  "language_info": {
   "codemirror_mode": {
    "name": "ipython",
    "version": 3
   },
   "file_extension": ".py",
   "mimetype": "text/x-python",
   "name": "python",
   "nbconvert_exporter": "python",
   "pygments_lexer": "ipython3",
   "version": "3.7.3"
  }
 },
 "nbformat": 4,
 "nbformat_minor": 2
}
