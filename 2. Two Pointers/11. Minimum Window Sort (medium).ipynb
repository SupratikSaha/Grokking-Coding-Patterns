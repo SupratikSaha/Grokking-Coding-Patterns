{
 "cells": [
  {
   "cell_type": "markdown",
   "metadata": {},
   "source": [
    "Given an array, find the length of the smallest subarray in it which when sorted will sort the whole array. <br/>\n",
    "\n",
    "Example 1: <br/>\n",
    "Input: [1, 2, 5, 3, 7, 10, 9, 12] <br/>\n",
    "Output: 5 <br/>\n",
    "Explanation: We need to sort only the subarray [5, 3, 7, 10, 9] to make the whole array sorted <br/>\n",
    "\n",
    "Example 2: <br/>\n",
    "Input: [1, 3, 2, 0, -1, 7, 10] <br/>\n",
    "Output: 5 <br/>\n",
    "Explanation: We need to sort only the subarray [1, 3, 2, 0, -1] to make the whole array sorted <br/>\n",
    "\n",
    "Example 3: <br/>\n",
    "Input: [1, 2, 3] <br/>\n",
    "Output: 0 <br/>\n",
    "Explanation: The array is already sorted <br/>\n",
    "\n",
    "Example 4: <br/>\n",
    "Input: [3, 2, 1] <br/>\n",
    "Output: 3 <br/>\n",
    "Explanation: The whole array needs to be sorted."
   ]
  },
  {
   "cell_type": "markdown",
   "metadata": {},
   "source": [
    "# Two Pointers, Binary Search - O(N) runtime, O(1) space"
   ]
  },
  {
   "cell_type": "code",
   "execution_count": 2,
   "metadata": {},
   "outputs": [],
   "source": [
    "def shortest_window_sort(arr):\n",
    "    left, right = -1, 0\n",
    "    length = len(arr)\n",
    "\n",
    "    for i in range(length):\n",
    "        if i > 0 and arr[i] < arr [i -1]:\n",
    "            if left == -1:\n",
    "                left = i - 1 \n",
    "            right = i\n",
    "\n",
    "    if left == -1:\n",
    "        return 0\n",
    "\n",
    "    if left > 0:\n",
    "        min_val = min(arr[left: right + 1])\n",
    "        if min_val < arr[left - 1]:\n",
    "            left = max(0, bin_search_pos(arr[:left], min_val))\n",
    "\n",
    "    if right < length - 1:\n",
    "        max_val = max(arr[left: right + 1])\n",
    "        if max_val > arr[right + 1]:\n",
    "            right = min(length - 1, bin_search_pos(arr[right + 1:]))\n",
    "\n",
    "    return right - left + 1\n",
    "\n",
    "def bin_search_pos(arr, target):\n",
    "    left, right = 0, len(arr) - 1\n",
    "\n",
    "    while left <= right:\n",
    "        mid = left + (right - left) // 2\n",
    "        if target == arr[mid]:\n",
    "            return mid\n",
    "        elif target < arr[mid]:\n",
    "            right = mid - 1\n",
    "        else:\n",
    "            left = mid + 1\n",
    "    \n",
    "    if target > arr[mid]:\n",
    "        return mid + 1, \n",
    "    else:\n",
    "        return mid - 1\n"
   ]
  },
  {
   "cell_type": "markdown",
   "metadata": {},
   "source": [
    "# Two Pointers - O(N) runtime, O(1) space"
   ]
  },
  {
   "cell_type": "code",
   "execution_count": 6,
   "metadata": {},
   "outputs": [],
   "source": [
    "def shortest_window_sort(arr):\n",
    "    low, high = 0, len(arr) - 1\n",
    "    # find the first number out of sorting order from the beginning\n",
    "    while (low < len(arr) - 1 and arr[low] <= arr[low + 1]):\n",
    "        low += 1\n",
    "\n",
    "    if low == len(arr) - 1:    # if the array is sorted\n",
    "        return 0\n",
    "\n",
    "    # find the first number out of sorting order from the end\n",
    "    while (high > 0 and arr[high] >= arr[high - 1]):\n",
    "        high -= 1\n",
    "\n",
    "    # find the maximum and minimum of the subarray\n",
    "    subarray_max = float('-inf')\n",
    "    subarray_min = float('inf')\n",
    "    for k in range(low, high+1):\n",
    "        subarray_max = max(subarray_max, arr[k])\n",
    "        subarray_min = min(subarray_min, arr[k])\n",
    "\n",
    "    # extend the subarray to include any number which is bigger than the minimum of the subarray\n",
    "    while (low > 0 and arr[low-1] > subarray_min):\n",
    "        low -= 1\n",
    "    # extend the subarray to include any number which is smaller than the maximum of the subarray\n",
    "    while (high < len(arr)-1 and arr[high+1] < subarray_max):\n",
    "        high += 1\n",
    "\n",
    "    return high - low + 1"
   ]
  },
  {
   "cell_type": "code",
   "execution_count": 7,
   "metadata": {},
   "outputs": [
    {
     "data": {
      "text/plain": [
       "5"
      ]
     },
     "execution_count": 7,
     "metadata": {},
     "output_type": "execute_result"
    }
   ],
   "source": [
    "shortest_window_sort([1, 3, 2, 0, -1, 7, 10])"
   ]
  }
 ],
 "metadata": {
  "kernelspec": {
   "display_name": "Python 3",
   "language": "python",
   "name": "python3"
  },
  "language_info": {
   "codemirror_mode": {
    "name": "ipython",
    "version": 3
   },
   "file_extension": ".py",
   "mimetype": "text/x-python",
   "name": "python",
   "nbconvert_exporter": "python",
   "pygments_lexer": "ipython3",
   "version": "3.7.3"
  }
 },
 "nbformat": 4,
 "nbformat_minor": 2
}
