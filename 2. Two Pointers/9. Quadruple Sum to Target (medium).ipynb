{
 "cells": [
  {
   "cell_type": "markdown",
   "metadata": {},
   "source": [
    "Given an array of unsorted numbers and a target number, find all unique quadruplets in it, whose sum is equal to the target number. <br/>\n",
    "\n",
    "Example 1: <br/>\n",
    "Input: [4, 1, 2, -1, 1, -3], target=1 <br/>\n",
    "Output: [-3, -1, 1, 4], [-3, 1, 1, 2] <br/>\n",
    "Explanation: Both the quadruplets add up to the target. <br/>\n",
    "\n",
    "Example 2: <br/>\n",
    "Input: [2, 0, -1, 1, -2, 2], target=2 <br/>\n",
    "Output: [-2, 0, 2, 2], [-1, 0, 1, 2] <br/>\n",
    "Explanation: Both the quadruplets add up to the target."
   ]
  },
  {
   "cell_type": "markdown",
   "metadata": {},
   "source": [
    "# Two Pointers - O(N ^ 3) runtime, O(N) space"
   ]
  },
  {
   "cell_type": "code",
   "execution_count": 5,
   "metadata": {},
   "outputs": [],
   "source": [
    "def search_quadruplets(arr, target):\n",
    "    quadruplets = []\n",
    "    arr = sorted(arr)\n",
    "    length = len(arr)\n",
    "\n",
    "    for i in range(length - 3):\n",
    "        while i > 0 and arr[i] == arr[i -1]:\n",
    "            continue\n",
    "        val1 = arr[i]\n",
    "        for j in range(i + 1, length - 2):\n",
    "            while j > 1 and arr[j] == arr[j -1]:\n",
    "                continue\n",
    "            val2 = arr[j] \n",
    "            search_pair(arr, j + 1, target - val1 - val2, val1, val2, quadruplets)\n",
    "\n",
    "    return quadruplets\n",
    "\n",
    "def search_pair(arr, left, target, val1, val2, quadruplets):\n",
    "    right = len(arr) - 1\n",
    "\n",
    "    while left < right:\n",
    "        sum_val = arr[left] + arr[right]\n",
    "        if sum_val == target:\n",
    "            quadruplets.append([val1, val2, arr[left], arr[right]])\n",
    "            left += 1\n",
    "            right -= 1\n",
    "            while left < right and left < rightarr[left] == arr[left - 1]:\n",
    "                left += 1\n",
    "            while left < right and arr[right] == arr[right + 1]:\n",
    "                right -= 1\n",
    "        elif sum_val < target:\n",
    "            left += 1\n",
    "        else:\n",
    "            right -=1"
   ]
  },
  {
   "cell_type": "code",
   "execution_count": 6,
   "metadata": {},
   "outputs": [
    {
     "data": {
      "text/plain": [
       "[[-2, 0, 2, 2], [-1, 0, 1, 2]]"
      ]
     },
     "execution_count": 6,
     "metadata": {},
     "output_type": "execute_result"
    }
   ],
   "source": [
    "search_quadruplets([2, 0, -1, 1, -2, 2], target=2)"
   ]
  }
 ],
 "metadata": {
  "kernelspec": {
   "display_name": "Python 3",
   "language": "python",
   "name": "python3"
  },
  "language_info": {
   "codemirror_mode": {
    "name": "ipython",
    "version": 3
   },
   "file_extension": ".py",
   "mimetype": "text/x-python",
   "name": "python",
   "nbconvert_exporter": "python",
   "pygments_lexer": "ipython3",
   "version": "3.7.3"
  }
 },
 "nbformat": 4,
 "nbformat_minor": 2
}
