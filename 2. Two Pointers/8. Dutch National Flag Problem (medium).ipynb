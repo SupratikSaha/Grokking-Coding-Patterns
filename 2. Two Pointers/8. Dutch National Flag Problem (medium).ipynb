{
 "cells": [
  {
   "cell_type": "markdown",
   "metadata": {},
   "source": [
    "Problem Statement <br/>\n",
    "\n",
    "Given an array containing 0s, 1s and 2s, sort the array in-place. You should treat numbers of the array as objects, hence, we can’t count 0s, 1s, and 2s to recreate the array. <br/>\n",
    "The flag of the Netherlands consists of three colors: red, white and blue; and since our input array also consists of three different numbers that is why it is called Dutch National Flag problem. <br/>\n",
    "\n",
    "Example 1: <br/>\n",
    "Input: [1, 0, 2, 1, 0] <br/>\n",
    "Output: [0 0 1 1 2] <br/>\n",
    "\n",
    "Example 2: <br/>\n",
    "Input: [2, 2, 0, 1, 2, 0] <br/>\n",
    "Output: [0 0 1 2 2 2 ]"
   ]
  },
  {
   "cell_type": "markdown",
   "metadata": {},
   "source": [
    "# Two Pointers - Two pass - O(N) runtime, O(1) space"
   ]
  },
  {
   "cell_type": "code",
   "execution_count": 3,
   "metadata": {},
   "outputs": [],
   "source": [
    "def dutch_flag_sort(arr):\n",
    "    new_zero = -1\n",
    "    last_one = 1\n",
    "\n",
    "    for i, num in enumerate(arr):\n",
    "        if num == 0:\n",
    "            new_zero += 1\n",
    "            arr[new_zero], arr[i] = arr[i], arr[new_zero]\n",
    "    \n",
    "    new_one = new_zero\n",
    "    for j in range(new_zero + 1, len(arr)):\n",
    "        if arr[j] == 1:\n",
    "            new_one += 1\n",
    "            arr[new_one], arr[j] = arr[j], arr[new_one]\n",
    "\n",
    "    return arr"
   ]
  },
  {
   "cell_type": "markdown",
   "metadata": {},
   "source": [
    "# Two Pointers - One pass - O(N) runtime, O(1) space"
   ]
  },
  {
   "cell_type": "code",
   "execution_count": 5,
   "metadata": {},
   "outputs": [],
   "source": [
    "def dutch_flag_sort(arr):\n",
    "    # all elements < low are 0, and all elements > high are 2\n",
    "    # all elements from >= low < i are 1\n",
    "    low, high = 0, len(arr) - 1\n",
    "    i = 0\n",
    "    while(i <= high):\n",
    "        if arr[i] == 0:\n",
    "            arr[i], arr[low] = arr[low], arr[i]\n",
    "            # increment 'i' and 'low'\n",
    "            i += 1\n",
    "            low += 1\n",
    "        elif arr[i] == 1:\n",
    "            i += 1\n",
    "        else:    # the case for arr[i] == 2\n",
    "            arr[i], arr[high] = arr[high], arr[i]\n",
    "            # decrement 'high' only, after the swap the number at index 'i' could be 0, 1 or 2\n",
    "            high -= 1\n",
    "            \n",
    "    return arr"
   ]
  },
  {
   "cell_type": "code",
   "execution_count": 6,
   "metadata": {},
   "outputs": [
    {
     "data": {
      "text/plain": [
       "[0, 0, 1, 1, 2]"
      ]
     },
     "execution_count": 6,
     "metadata": {},
     "output_type": "execute_result"
    }
   ],
   "source": [
    "dutch_flag_sort([1, 0, 2, 1, 0])"
   ]
  }
 ],
 "metadata": {
  "kernelspec": {
   "display_name": "Python 3",
   "language": "python",
   "name": "python3"
  },
  "language_info": {
   "codemirror_mode": {
    "name": "ipython",
    "version": 3
   },
   "file_extension": ".py",
   "mimetype": "text/x-python",
   "name": "python",
   "nbconvert_exporter": "python",
   "pygments_lexer": "ipython3",
   "version": "3.7.3"
  }
 },
 "nbformat": 4,
 "nbformat_minor": 2
}
