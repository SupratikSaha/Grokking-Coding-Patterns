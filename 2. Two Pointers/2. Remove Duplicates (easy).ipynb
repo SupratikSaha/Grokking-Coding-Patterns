{
 "cells": [
  {
   "cell_type": "markdown",
   "metadata": {},
   "source": [
    "Problem Statement <br/>\n",
    "\n",
    "Given an array of sorted numbers, remove all duplicates from it. You should not use any extra space; after removing the duplicates in-place return the new length of the array. <br/>\n",
    "\n",
    "Example 1: <br/>\n",
    "Input: [2, 3, 3, 3, 6, 9, 9] <br/>\n",
    "Output: 4 <br/>\n",
    "Explanation: The first four elements after removing the duplicates will be [2, 3, 6, 9]. <br/>\n",
    "    \n",
    "Example 2: <br/>\n",
    "Input: [2, 2, 2, 11] <br/>\n",
    "Output: 2 <br/>\n",
    "Explanation: The first two elements after removing the duplicates will be [2, 11]."
   ]
  },
  {
   "cell_type": "markdown",
   "metadata": {},
   "source": [
    "# Two Pointers - O(N) runtime, O(1) space"
   ]
  },
  {
   "cell_type": "code",
   "execution_count": 5,
   "metadata": {},
   "outputs": [],
   "source": [
    "def remove_duplicates(arr):\n",
    "    \n",
    "    length = len(arr)\n",
    "    i = j = result = 0\n",
    " \n",
    "    while j < length:\n",
    "        while j < length and arr[i] == arr[j]:\n",
    "            j += 1\n",
    "        result += 1\n",
    "        i = j \n",
    " \n",
    "    return result"
   ]
  },
  {
   "cell_type": "markdown",
   "metadata": {},
   "source": [
    "# Two Pointers with value replacement - O(N) runtime, O(1) space"
   ]
  },
  {
   "cell_type": "code",
   "execution_count": 3,
   "metadata": {},
   "outputs": [],
   "source": [
    "def remove_duplicates(arr):\n",
    "    # index of the next non-duplicate element\n",
    "    next_non_duplicate = 1\n",
    " \n",
    "    i = 1\n",
    "    while(i < len(arr)):\n",
    "        if arr[next_non_duplicate - 1] != arr[i]:\n",
    "            arr[next_non_duplicate] = arr[i]\n",
    "            next_non_duplicate += 1\n",
    "        i += 1\n",
    " \n",
    "    return next_non_duplicate"
   ]
  },
  {
   "cell_type": "code",
   "execution_count": 6,
   "metadata": {},
   "outputs": [
    {
     "data": {
      "text/plain": [
       "4"
      ]
     },
     "execution_count": 6,
     "metadata": {},
     "output_type": "execute_result"
    }
   ],
   "source": [
    "remove_duplicates([2, 3, 3, 3, 6, 9, 9])"
   ]
  }
 ],
 "metadata": {
  "kernelspec": {
   "display_name": "Python 3",
   "language": "python",
   "name": "python3"
  },
  "language_info": {
   "codemirror_mode": {
    "name": "ipython",
    "version": 3
   },
   "file_extension": ".py",
   "mimetype": "text/x-python",
   "name": "python",
   "nbconvert_exporter": "python",
   "pygments_lexer": "ipython3",
   "version": "3.7.3"
  }
 },
 "nbformat": 4,
 "nbformat_minor": 2
}
