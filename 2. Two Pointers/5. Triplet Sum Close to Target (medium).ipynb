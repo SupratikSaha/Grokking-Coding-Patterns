{
 "cells": [
  {
   "cell_type": "markdown",
   "metadata": {},
   "source": [
    "Problem Statement <br/>\n",
    "Given an array of unsorted numbers and a target number, find a triplet in the array whose sum is as close to the target number as possible, return the sum of the triplet. If there are more than one such triplet, return the sum of the triplet with the smallest sum. <br/>\n",
    "\n",
    "Example 1: <br/>\n",
    "Input: [-2, 0, 1, 2], target=2 <br/>\n",
    "Output: 1 <br/>\n",
    "Explanation: The triplet [-2, 1, 2] has the closest sum to the target. <br/>\n",
    "    \n",
    "Example 2: <br/>\n",
    "Input: [-3, -1, 1, 2], target=1 <br/>\n",
    "Output: 0 <br/>\n",
    "Explanation: The triplet [-3, 1, 2] has the closest sum to the target. <br/>\n",
    "    \n",
    "Example 3: <br/>\n",
    "Input: [1, 0, 1, 1], target=100 <br/>\n",
    "Output: 3 <br/>\n",
    "Explanation: The triplet [1, 1, 1] has the closest sum to the target."
   ]
  },
  {
   "cell_type": "markdown",
   "metadata": {},
   "source": [
    "# Two Pointers - O(N ^ 2) runtime, O(N) space"
   ]
  },
  {
   "cell_type": "code",
   "execution_count": 5,
   "metadata": {},
   "outputs": [],
   "source": [
    "def triplet_sum_close_to_target(arr, target_sum):\n",
    "  arr = sorted(arr)\n",
    "  closest_difference = float('inf')\n",
    "\n",
    "  for i in range(len(arr) - 2):\n",
    "    if i > 0 and arr[i] == arr[i - 1]:\n",
    "      continue\n",
    "\n",
    "    left, right = i + 1, len(arr) - 1\n",
    "    \n",
    "    while left < right:\n",
    "      curr_diff = target_sum - arr[i] - arr[left] - arr[right]\n",
    "\n",
    "      if curr_diff == 0:\n",
    "        return target_sum\n",
    "\n",
    "      if abs(curr_diff) < abs(closest_difference) or ( (curr_diff == - closest_difference) and (curr_diff > closest_difference)):\n",
    "        closest_difference = curr_diff\n",
    "        left += 1\n",
    "        while left < right and arr[left] == arr[left - 1]:\n",
    "          left += 1\n",
    "      else:\n",
    "        right -= 1\n",
    "        while left < right and arr[right] == arr[right + 1]:\n",
    "          right -= 1\n",
    "  \n",
    "  return target_sum - closest_difference"
   ]
  },
  {
   "cell_type": "code",
   "execution_count": 6,
   "metadata": {},
   "outputs": [
    {
     "data": {
      "text/plain": [
       "1"
      ]
     },
     "execution_count": 6,
     "metadata": {},
     "output_type": "execute_result"
    }
   ],
   "source": [
    "triplet_sum_close_to_target([-2, 0, 1, 2], 2)"
   ]
  }
 ],
 "metadata": {
  "kernelspec": {
   "display_name": "Python 3",
   "language": "python",
   "name": "python3"
  },
  "language_info": {
   "codemirror_mode": {
    "name": "ipython",
    "version": 3
   },
   "file_extension": ".py",
   "mimetype": "text/x-python",
   "name": "python",
   "nbconvert_exporter": "python",
   "pygments_lexer": "ipython3",
   "version": "3.7.4"
  }
 },
 "nbformat": 4,
 "nbformat_minor": 2
}
