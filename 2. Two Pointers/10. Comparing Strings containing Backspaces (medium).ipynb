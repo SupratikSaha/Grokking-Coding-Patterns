{
 "cells": [
  {
   "cell_type": "markdown",
   "metadata": {},
   "source": [
    "Given two strings containing backspaces (identified by the character ‘#’), check if the two strings are equal. <br/>\n",
    "\n",
    "Example 1: <br/>\n",
    "Input: str1=\"xy#z\", str2=\"xzz#\" <br/>\n",
    "Output: true <br/>\n",
    "Explanation: After applying backspaces the strings become \"xz\" and \"xz\" respectively. <br/>\n",
    "\n",
    "Example 2: <br/>\n",
    "Input: str1=\"xy#z\", str2=\"xyz#\" <br/>\n",
    "Output: false <br/>\n",
    "Explanation: After applying backspaces the strings become \"xz\" and \"xy\" respectively. <br/>\n",
    "\n",
    "Example 3: <br/>\n",
    "Input: str1=\"xp#\", str2=\"xyz##\" <br/>\n",
    "Output: true <br/>\n",
    "Explanation: After applying backspaces the strings become \"x\" and \"x\" respectively. <br/>\n",
    "In \"xyz##\", the first '#' removes the character 'z' and the second '#' removes the character 'y'. <br/>\n",
    "\n",
    "Example 4: <br/>\n",
    "Input: str1=\"xywrrmp\", str2=\"xywrrmu#p\" <br/>\n",
    "Output: true <br/>\n",
    "Explanation: After applying backspaces the strings become \"xywrrmp\" and \"xywrrmp\" respectively. <br/>"
   ]
  },
  {
   "cell_type": "markdown",
   "metadata": {},
   "source": [
    "# Two Pointers - O(M + N) runtime, O(M + N) space"
   ]
  },
  {
   "cell_type": "code",
   "execution_count": 2,
   "metadata": {},
   "outputs": [],
   "source": [
    "def backspace_compare(str1, str2):\n",
    "    \n",
    "    str1 = reduce_string(str1)\n",
    "    str2 = reduce_string(str2)\n",
    "\n",
    "    if str1 == str2:\n",
    "        return True\n",
    "    return False\n",
    "    \n",
    "def reduce_string(string):\n",
    "    j = 0\n",
    "\n",
    "    while j < len(string):\n",
    "        if string[j] == '#':\n",
    "            i = j - 1\n",
    "            string = string[:i] + string[j + 1:]\n",
    "            j -= 1\n",
    "        else:\n",
    "            j += 1\n",
    "    \n",
    "    return string"
   ]
  },
  {
   "cell_type": "markdown",
   "metadata": {},
   "source": [
    "# Two Pointers - O(M + N) runtime, O(1) space"
   ]
  },
  {
   "cell_type": "code",
   "execution_count": 4,
   "metadata": {},
   "outputs": [],
   "source": [
    "def backspace_compare(str1, str2):\n",
    "    # use two pointer approach to compare the strings\n",
    "    index1 = len(str1) - 1\n",
    "    index2 = len(str2) - 1\n",
    "    while (index1 >= 0 or index2 >= 0):\n",
    "        i1 = get_next_valid_char_index(str1, index1)\n",
    "        i2 = get_next_valid_char_index(str2, index2)\n",
    "        if i1 < 0 and i2 < 0:    # reached the end of both the strings\n",
    "            return True\n",
    "        if i1 < 0 or i2 < 0:    # reached the end of one of the strings\n",
    "            return False\n",
    "        if str1[i1] != str2[i2]:    # check if the characters are equal\n",
    "            return False\n",
    "\n",
    "        index1 = i1 - 1\n",
    "        index2 = i2 - 1\n",
    "\n",
    "    return True\n",
    "\n",
    "\n",
    "def get_next_valid_char_index(str, index):\n",
    "    backspace_count = 0\n",
    "    while (index >= 0):\n",
    "        if str[index] == '#':    # found a backspace character\n",
    "            backspace_count += 1\n",
    "        elif backspace_count > 0:    # a non-backspace character\n",
    "            backspace_count -= 1\n",
    "        else:\n",
    "            break\n",
    "\n",
    "        index -= 1    # skip a backspace or a valid character\n",
    "\n",
    "    return index"
   ]
  },
  {
   "cell_type": "code",
   "execution_count": 5,
   "metadata": {},
   "outputs": [
    {
     "data": {
      "text/plain": [
       "True"
      ]
     },
     "execution_count": 5,
     "metadata": {},
     "output_type": "execute_result"
    }
   ],
   "source": [
    "backspace_compare(str1=\"xp#\", str2=\"xyz##\" )"
   ]
  }
 ],
 "metadata": {
  "kernelspec": {
   "display_name": "Python 3",
   "language": "python",
   "name": "python3"
  },
  "language_info": {
   "codemirror_mode": {
    "name": "ipython",
    "version": 3
   },
   "file_extension": ".py",
   "mimetype": "text/x-python",
   "name": "python",
   "nbconvert_exporter": "python",
   "pygments_lexer": "ipython3",
   "version": "3.7.3"
  }
 },
 "nbformat": 4,
 "nbformat_minor": 2
}
