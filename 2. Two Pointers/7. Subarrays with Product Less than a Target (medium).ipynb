{
 "cells": [
  {
   "cell_type": "markdown",
   "metadata": {},
   "source": [
    "Problem Statement <br/>\n",
    "\n",
    "Given an array with positive numbers and a target number, find all of its contiguous subarrays whose product is less than the target number. <br/>\n",
    "\n",
    "Example 1: <br/>\n",
    "Input: [2, 5, 3, 10], target=30 <br/>\n",
    "Output: [2], [5], [2, 5], [3], [5, 3], [10] <br/>\n",
    "Explanation: There are six contiguous subarrays whose product is less than the target. <br/>\n",
    "\n",
    "Example 2: <br/>\n",
    "Input: [8, 2, 6, 5], target=50 <br/>\n",
    "Output: [8], [2], [8, 2], [6], [2, 6], [5], [6, 5] <br/>\n",
    "Explanation: There are seven contiguous subarrays whose product is less than the target."
   ]
  },
  {
   "cell_type": "markdown",
   "metadata": {},
   "source": [
    "# Sliding Window and Two Pointers - O(N ^ 3) runtime, O(N ^ 2) space"
   ]
  },
  {
   "cell_type": "code",
   "execution_count": 4,
   "metadata": {},
   "outputs": [],
   "source": [
    "from collections import deque\n",
    "\n",
    "def find_subarrays(arr, target):\n",
    "    result = []\n",
    "    product = 1\n",
    "    left = 0\n",
    "    \n",
    "    for right in range(len(arr)):\n",
    "        product *= arr[right]\n",
    "        while (product >= target and left < len(arr)):\n",
    "            product /= arr[left]\n",
    "            left += 1\n",
    "            \n",
    "        # since the product of all numbers from left to right is less than the target therefore,\n",
    "        # all subarrays from left to right will have a product less than the target too; to avoid\n",
    "        # duplicates, we will start with a subarray containing only arr[right] and then extend it\n",
    "        temp_list = deque()\n",
    "        for i in range(right, left - 1, -1):\n",
    "            temp_list.appendleft(arr[i])\n",
    "            result.append(list(temp_list))\n",
    "\n",
    "    return result"
   ]
  },
  {
   "cell_type": "code",
   "execution_count": 5,
   "metadata": {},
   "outputs": [
    {
     "data": {
      "text/plain": [
       "[[8],\n",
       " [2],\n",
       " [8, 2],\n",
       " [6],\n",
       " [2, 6],\n",
       " [5],\n",
       " [6, 5],\n",
       " [2, 6, 5],\n",
       " [2],\n",
       " [5, 2],\n",
       " [6, 5, 2],\n",
       " [1],\n",
       " [2, 1],\n",
       " [5, 2, 1],\n",
       " [6, 5, 2, 1]]"
      ]
     },
     "execution_count": 5,
     "metadata": {},
     "output_type": "execute_result"
    }
   ],
   "source": [
    "find_subarrays([8, 2, 6, 5, 2, 1], 90)"
   ]
  }
 ],
 "metadata": {
  "kernelspec": {
   "display_name": "Python 3",
   "language": "python",
   "name": "python3"
  },
  "language_info": {
   "codemirror_mode": {
    "name": "ipython",
    "version": 3
   },
   "file_extension": ".py",
   "mimetype": "text/x-python",
   "name": "python",
   "nbconvert_exporter": "python",
   "pygments_lexer": "ipython3",
   "version": "3.7.3"
  }
 },
 "nbformat": 4,
 "nbformat_minor": 2
}
