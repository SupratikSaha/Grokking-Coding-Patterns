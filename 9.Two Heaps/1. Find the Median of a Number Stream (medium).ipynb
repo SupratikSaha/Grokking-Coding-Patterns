{
 "cells": [
  {
   "cell_type": "markdown",
   "metadata": {},
   "source": [
    "Problem Statement <br/>\n",
    "\n",
    "Design a class to calculate the median of a number stream. The class should have the following two methods: <br/>\n",
    "\n",
    "    insertNum(int num): stores the number in the class <br/>\n",
    "    findMedian(): returns the median of all numbers inserted in the class <br/>\n",
    "\n",
    "If the count of numbers inserted in the class is even, the median will be the average of the middle two numbers. <br/>\n",
    "\n",
    "Example 1: <br/>\n",
    "\n",
    "1. insertNum(3) <br/>\n",
    "2. insertNum(1) <br/>\n",
    "3. findMedian() -> output: 2 <br/>\n",
    "4. insertNum(5) <br/>\n",
    "5. findMedian() -> output: 3 <br/>\n",
    "6. insertNum(4) <br/>\n",
    "7. findMedian() -> output: 3.5"
   ]
  },
  {
   "cell_type": "markdown",
   "metadata": {},
   "source": [
    "# Two Heaps - O(log N) insertNum, O(1) findMedian runtime, O(N) space"
   ]
  },
  {
   "cell_type": "code",
   "execution_count": 1,
   "metadata": {},
   "outputs": [],
   "source": [
    "from heapq import *\n",
    "\n",
    "class MedianOfAStream:\n",
    "\n",
    "    maxHeap = []    # containing first half of numbers\n",
    "    minHeap = []    # containing second half of numbers\n",
    "\n",
    "    def insert_num(self, num):\n",
    "        if not self.maxHeap or -self.maxHeap[0] >= num:\n",
    "            heappush(self.maxHeap, -num)\n",
    "        else:\n",
    "            heappush(self.minHeap, num)\n",
    "\n",
    "        # either both the heaps will have equal number of elements or max-heap will have one\n",
    "        # more element than the min-heap\n",
    "        if len(self.maxHeap) > len(self.minHeap) + 1:\n",
    "            heappush(self.minHeap, -heappop(self.maxHeap))\n",
    "        elif len(self.maxHeap) < len(self.minHeap):\n",
    "            heappush(self.maxHeap, -heappop(self.minHeap))\n",
    "\n",
    "    def find_median(self):\n",
    "        if len(self.maxHeap) == len(self.minHeap):\n",
    "            # we have even number of elements, take the average of middle two elements\n",
    "            return -self.maxHeap[0] / 2.0 + self.minHeap[0] / 2.0\n",
    "\n",
    "        # because max-heap will have one more element than the min-heap\n",
    "        return -self.maxHeap[0] / 1.0"
   ]
  }
 ],
 "metadata": {
  "kernelspec": {
   "display_name": "Python 3",
   "language": "python",
   "name": "python3"
  },
  "language_info": {
   "codemirror_mode": {
    "name": "ipython",
    "version": 3
   },
   "file_extension": ".py",
   "mimetype": "text/x-python",
   "name": "python",
   "nbconvert_exporter": "python",
   "pygments_lexer": "ipython3",
   "version": "3.7.3"
  }
 },
 "nbformat": 4,
 "nbformat_minor": 2
}
