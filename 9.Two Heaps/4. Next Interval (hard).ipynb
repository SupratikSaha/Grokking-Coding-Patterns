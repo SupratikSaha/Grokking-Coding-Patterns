{
 "cells": [
  {
   "cell_type": "markdown",
   "metadata": {},
   "source": [
    "Problem Statement: <br/>\n",
    "\n",
    "Given an array of intervals, find the next interval of each interval. In a list of intervals, for an interval ‘i’ its next interval ‘j’ will have the smallest ‘start’ greater than or equal to the ‘end’ of ‘i’. <br/>\n",
    "\n",
    "Write a function to return an array containing indices of the next interval of each input interval. If there is no next interval of a given interval, return -1. It is given that none of the intervals have the same start point. <br/>\n",
    "\n",
    "Example 1: <br/>\n",
    "\n",
    "    Input: Intervals [[2,3], [3,4], [5,6]] <br/>\n",
    "    Output: [1, 2, -1] <br/>\n",
    "    Explanation: The next interval of [2,3] is [3,4] having index ‘1’. Similarly, the next interval of [3,4] is [5,6] having index ‘2’. There is no next interval for [5,6] hence we have ‘-1’. <br/>\n",
    "\n",
    "Example 2: <br/>\n",
    "\n",
    "    Input: Intervals [[3,4], [1,5], [4,6]] <br/>\n",
    "    Output: [2, -1, -1] <br/>\n",
    "    Explanation: The next interval of [3,4] is [4,6] which has index ‘2’. There is no next interval for [1,5] and [4,6]."
   ]
  },
  {
   "cell_type": "markdown",
   "metadata": {},
   "source": [
    "# Two Heaps - O(N * log N) runtime, O(N) space "
   ]
  },
  {
   "cell_type": "code",
   "execution_count": 1,
   "metadata": {},
   "outputs": [],
   "source": [
    "from heapq import *\n",
    "\n",
    "class Interval:\n",
    "    def __init__(self, start, end):\n",
    "        self.start = start\n",
    "        self.end = end\n",
    "\n",
    "\n",
    "def find_next_interval(intervals):\n",
    "    n = len(intervals)\n",
    "\n",
    "    # heaps for finding the maximum start and end\n",
    "    maxStartHeap, maxEndHeap = [], []\n",
    "\n",
    "    result = [0 for x in range(n)]\n",
    "    for endIndex in range(n):\n",
    "        heappush(maxStartHeap, (-intervals[endIndex].start, endIndex))\n",
    "        heappush(maxEndHeap, (-intervals[endIndex].end, endIndex))\n",
    "\n",
    "    # go through all the intervals to find each interval's next interval\n",
    "    for _ in range(n):\n",
    "        # let's find the next interval of the interval which has the highest 'end'\n",
    "        topEnd, endIndex = heappop(maxEndHeap)\n",
    "        result[endIndex] = -1    # defaults to - 1\n",
    "        if -maxStartHeap[0][0] >= -topEnd:\n",
    "            topStart, startIndex = heappop(maxStartHeap)\n",
    "            # find the the interval that has the closest 'start'\n",
    "            while maxStartHeap and -maxStartHeap[0][0] >= -topEnd:\n",
    "                topStart, startIndex = heappop(maxStartHeap)\n",
    "            result[endIndex] = startIndex\n",
    "            # put the interval back as it could be the next interval of other intervals\n",
    "            heappush(maxStartHeap, (topStart, startIndex))\n",
    "\n",
    "    return result"
   ]
  }
 ],
 "metadata": {
  "kernelspec": {
   "display_name": "Python 3",
   "language": "python",
   "name": "python3"
  },
  "language_info": {
   "codemirror_mode": {
    "name": "ipython",
    "version": 3
   },
   "file_extension": ".py",
   "mimetype": "text/x-python",
   "name": "python",
   "nbconvert_exporter": "python",
   "pygments_lexer": "ipython3",
   "version": "3.7.3"
  }
 },
 "nbformat": 4,
 "nbformat_minor": 2
}
