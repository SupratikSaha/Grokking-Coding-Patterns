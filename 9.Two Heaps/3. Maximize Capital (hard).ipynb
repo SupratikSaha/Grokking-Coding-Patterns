{
 "cells": [
  {
   "cell_type": "markdown",
   "metadata": {},
   "source": [
    "Problem Statement <br/>\n",
    "\n",
    "Given a set of investment projects with their respective profits, we need to find the most profitable projects. We are given an initial capital and are allowed to invest only in a fixed number of projects. Our goal is to choose projects that give us the maximum profit. Write a function that returns the maximum total capital after selecting the most profitable projects. <br/>\n",
    "\n",
    "We can start an investment project only when we have the required capital. Once a project is selected, we can assume that its profit has become our capital. <br/>\n",
    "\n",
    "Example 1: <br/>\n",
    "\n",
    "Input: Project Capitals=[0,1,2], Project Profits=[1,2,3], Initial Capital=1, Number of Projects=2 <br/>\n",
    "Output: 6 <br/>\n",
    "Explanation: <br/>\n",
    "\n",
    "    With initial capital of ‘1’, we will start the second project which will give us profit of ‘2’. Once we selected our first project, our total capital will become 3 (profit + initial capital). <br/>\n",
    "    With ‘3’ capital, we will select the third project, which will give us ‘3’ profit. <br/>\n",
    "\n",
    "After the completion of the two projects, our total capital will be 6 (1+2+3). <br/>\n",
    "\n",
    "Example 2: <br/>\n",
    "\n",
    "Input: Project Capitals=[0,1,2,3], Project Profits=[1,2,3,5], Initial Capital=0, Number of Projects=3 <br/>\n",
    "Output: 8 <br/>\n",
    "Explanation: <br/>\n",
    "\n",
    "    With ‘0’ capital, we can only select the first project, bringing out capital to 1. <br/>\n",
    "    Next, we will select the second project, which will bring our capital to 3. <br/>\n",
    "    Next, we will select the fourth project, giving us a profit of 5. <br/>\n",
    "\n",
    "After selecting the three projects, our total capital will be 8 (1+2+5). <br/>"
   ]
  },
  {
   "cell_type": "markdown",
   "metadata": {},
   "source": [
    "# Two Heaps - O(N logN + K logN) runtime, O(N) space"
   ]
  },
  {
   "cell_type": "code",
   "execution_count": 1,
   "metadata": {},
   "outputs": [],
   "source": [
    "from heapq import *\n",
    "\n",
    "def find_maximum_capital(capital, profits, numberOfProjects, initialCapital):\n",
    "    minCapitalHeap = []\n",
    "    maxProfitHeap = []\n",
    "\n",
    "    # insert all project capitals to a min-heap\n",
    "    for i in range(0, len(profits)):\n",
    "        heappush(minCapitalHeap, (capital[i], i))\n",
    "\n",
    "    # let's try to find a total of 'numberOfProjects' best projects\n",
    "    availableCapital = initialCapital\n",
    "    for _ in range(numberOfProjects):\n",
    "        # find all projects that can be selected within the available capital and insert them in a max-heap\n",
    "        while minCapitalHeap and minCapitalHeap[0][0] <= availableCapital:\n",
    "            capital, i = heappop(minCapitalHeap)\n",
    "            heappush(maxProfitHeap, (-profits[i], i))\n",
    "\n",
    "        # terminate if we are not able to find any project that can be completed within the available capital\n",
    "        if not maxProfitHeap:\n",
    "            break\n",
    "\n",
    "        # select the project with the maximum profit\n",
    "        availableCapital += -heappop(maxProfitHeap)[0]\n",
    "\n",
    "    return availableCapital"
   ]
  }
 ],
 "metadata": {
  "kernelspec": {
   "display_name": "Python 3",
   "language": "python",
   "name": "python3"
  },
  "language_info": {
   "codemirror_mode": {
    "name": "ipython",
    "version": 3
   },
   "file_extension": ".py",
   "mimetype": "text/x-python",
   "name": "python",
   "nbconvert_exporter": "python",
   "pygments_lexer": "ipython3",
   "version": "3.7.3"
  }
 },
 "nbformat": 4,
 "nbformat_minor": 2
}
