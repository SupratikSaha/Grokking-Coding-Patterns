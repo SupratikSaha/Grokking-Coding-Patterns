{
 "cells": [
  {
   "cell_type": "markdown",
   "metadata": {},
   "source": [
    "Problem Statement <br/>\n",
    "\n",
    "Given an array of numbers and a number ‘k’, find the median of all the ‘k’ sized sub-arrays (or windows) of the array. <br/>\n",
    "\n",
    "Example 1: <br/>\n",
    "\n",
    "Input: nums=[1, 2, -1, 3, 5], k = 2 <br/>\n",
    "Output: [1.5, 0.5, 1.0, 4.0] <br/>\n",
    "Explanation: Lets consider all windows of size ‘2’: <br/>\n",
    "\n",
    "    [1, 2, -1, 3, 5] -> median is 1.5 <br/>\n",
    "    [1, 2, -1, 3, 5] -> median is 0.5 <br/>\n",
    "    [1, 2, -1, 3, 5] -> median is 1.0 <br/>\n",
    "    [1, 2, -1, 3, 5] -> median is 4.0 <br/>\n",
    "\n",
    "Example 2: <br/>\n",
    "\n",
    "Input: nums=[1, 2, -1, 3, 5], k = 3 <br/>\n",
    "Output: [1.0, 2.0, 3.0] <br/>\n",
    "Explanation: Lets consider all windows of size ‘3’: <br/>\n",
    "\n",
    "    [1, 2, -1, 3, 5] -> median is 1.0 <br/>\n",
    "    [1, 2, -1, 3, 5] -> median is 2.0 <br/>\n",
    "    [1, 2, -1, 3, 5] -> median is 3.0 <br/>"
   ]
  },
  {
   "cell_type": "markdown",
   "metadata": {},
   "source": [
    "# Two Heaps - O(N * K) runtime, O(K) space where ‘N’ is the total number of elements in the input array and ‘K’ is the size of the sliding window"
   ]
  },
  {
   "cell_type": "code",
   "execution_count": 2,
   "metadata": {},
   "outputs": [],
   "source": [
    "from heapq import *\n",
    "\n",
    "\n",
    "\n",
    "class SlidingWindowMedian:\n",
    "    def __init__(self):\n",
    "        self.maxHeap, self.minHeap = [], []\n",
    "\n",
    "    def find_sliding_window_median(self, nums, k):\n",
    "        result = [0.0 for x in range(len(nums) - k + 1)]\n",
    "        for i in range(0, len(nums)):\n",
    "            if not self.maxHeap or nums[i] <= -self.maxHeap[0]:\n",
    "                heappush(self.maxHeap, -nums[i])\n",
    "            else:\n",
    "                heappush(self.minHeap, nums[i])\n",
    "\n",
    "            self.rebalance_heaps()\n",
    "\n",
    "            if i - k + 1 >= 0:    # if we have at least 'k' elements in the sliding window\n",
    "                # add the median to the the result array\n",
    "                if len(self.maxHeap) == len(self.minHeap):\n",
    "                    # we have even number of elements, take the average of middle two elements\n",
    "                    result[i - k + 1] = -self.maxHeap[0] / \\\n",
    "                                                            2.0 + self.minHeap[0] / 2.0\n",
    "                else:    # because max-heap will have one more element than the min-heap\n",
    "                    result[i - k + 1] = -self.maxHeap[0] / 1.0\n",
    "\n",
    "                # remove the the element going out of the sliding window\n",
    "                elementToBeRemoved = nums[i - k + 1]\n",
    "                if elementToBeRemoved <= -self.maxHeap[0]:\n",
    "                    self.remove(self.maxHeap, -elementToBeRemoved)\n",
    "                else:\n",
    "                    self.remove(self.minHeap, elementToBeRemoved)\n",
    "\n",
    "                self.rebalance_heaps()\n",
    "\n",
    "        return result\n",
    "\n",
    "    # removes an element from the heap keeping the heap property\n",
    "    def remove(self, heap, element):\n",
    "        ind = heap.index(element)    # find the element\n",
    "        # move the element to the end and delete it\n",
    "        heap[ind] = heap[-1]\n",
    "        del heap[-1]\n",
    "        # we can use heapify to readjust the elements but that would be O(N),\n",
    "        # instead, we will adjust only one element which will O(logN)\n",
    "        if ind < len(heap):\n",
    "            heapq._siftup(heap, ind)\n",
    "            heapq._siftdown(heap, 0, ind)\n",
    "\n",
    "    def rebalance_heaps(self):\n",
    "        # either both the heaps will have equal number of elements or max-heap will have\n",
    "        # one more element than the min-heap\n",
    "        if len(self.maxHeap) > len(self.minHeap) + 1:\n",
    "            heappush(self.minHeap, -heappop(self.maxHeap))\n",
    "        elif len(self.maxHeap) < len(self.minHeap):\n",
    "            heappush(self.maxHeap, -heappop(self.minHeap))"
   ]
  }
 ],
 "metadata": {
  "kernelspec": {
   "display_name": "Python 3",
   "language": "python",
   "name": "python3"
  },
  "language_info": {
   "codemirror_mode": {
    "name": "ipython",
    "version": 3
   },
   "file_extension": ".py",
   "mimetype": "text/x-python",
   "name": "python",
   "nbconvert_exporter": "python",
   "pygments_lexer": "ipython3",
   "version": "3.7.3"
  }
 },
 "nbformat": 4,
 "nbformat_minor": 2
}
